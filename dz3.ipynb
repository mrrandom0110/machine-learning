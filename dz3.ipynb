{
  "nbformat": 4,
  "nbformat_minor": 0,
  "metadata": {
    "kernelspec": {
      "display_name": "Python 3",
      "language": "python",
      "name": "python3"
    },
    "language_info": {
      "codemirror_mode": {
        "name": "ipython",
        "version": 3
      },
      "file_extension": ".py",
      "mimetype": "text/x-python",
      "name": "python",
      "nbconvert_exporter": "python",
      "pygments_lexer": "ipython3",
      "version": "3.7.4"
    },
    "colab": {
      "name": "baseline.ipynb",
      "provenance": [],
      "collapsed_sections": []
    },
    "widgets": {
      "application/vnd.jupyter.widget-state+json": {
        "0af449b2a6694f7db8c07b882b0d45ea": {
          "model_module": "catboost-widget",
          "model_name": "CatboostWidgetModel",
          "model_module_version": "^1.0.0",
          "state": {
            "_view_name": "CatboostWidgetView",
            "_dom_classes": [],
            "_model_name": "CatboostWidgetModel",
            "data": {
              "catboost_info": {
                "content": {
                  "data": {
                    "meta": {
                      "name": "experiment",
                      "parameters": "parameters",
                      "test_metrics": [
                        {
                          "best_value": "Min",
                          "name": "Logloss"
                        }
                      ],
                      "learn_sets": [
                        "learn"
                      ],
                      "launch_mode": "Train",
                      "learn_metrics": [
                        {
                          "best_value": "Min",
                          "name": "Logloss"
                        }
                      ],
                      "iteration_count": 36,
                      "test_sets": [
                        "test"
                      ]
                    },
                    "iterations": [
                      {
                        "parameters": [
                          {
                            "l2_leaf_reg": 1,
                            "depth": 2,
                            "learning_rate": 0.001
                          }
                        ],
                        "iteration": 0,
                        "remaining_time": 132.4171875,
                        "passed_time": 3.783348214,
                        "learn": [
                          0.4717535542
                        ],
                        "test": [
                          0.4771596534
                        ]
                      },
                      {
                        "parameters": [
                          {
                            "l2_leaf_reg": 1,
                            "depth": 2,
                            "learning_rate": 0.01
                          }
                        ],
                        "iteration": 1,
                        "remaining_time": 129.06785,
                        "passed_time": 7.592226469,
                        "learn": [
                          0.395740019
                        ],
                        "test": [
                          0.4169943487
                        ]
                      },
                      {
                        "parameters": [
                          {
                            "l2_leaf_reg": 1,
                            "depth": 2,
                            "learning_rate": 0.1
                          }
                        ],
                        "iteration": 2,
                        "remaining_time": 128.0469425,
                        "passed_time": 11.64063114,
                        "learn": [
                          0.3434440696
                        ],
                        "test": [
                          0.4200893457
                        ]
                      },
                      {
                        "parameters": [
                          {
                            "l2_leaf_reg": 3,
                            "depth": 2,
                            "learning_rate": 0.001
                          }
                        ],
                        "iteration": 3,
                        "remaining_time": 122.2055551,
                        "passed_time": 15.27569439,
                        "learn": [
                          0.4708273298
                        ],
                        "test": [
                          0.4757351536
                        ]
                      },
                      {
                        "parameters": [
                          {
                            "l2_leaf_reg": 3,
                            "depth": 2,
                            "learning_rate": 0.01
                          }
                        ],
                        "iteration": 4,
                        "remaining_time": 118.2600861,
                        "passed_time": 19.07420744,
                        "learn": [
                          0.3962700015
                        ],
                        "test": [
                          0.4169481787
                        ]
                      },
                      {
                        "parameters": [
                          {
                            "l2_leaf_reg": 3,
                            "depth": 2,
                            "learning_rate": 0.1
                          }
                        ],
                        "iteration": 5,
                        "remaining_time": 115.2625387,
                        "passed_time": 23.05250774,
                        "learn": [
                          0.3455897643
                        ],
                        "test": [
                          0.4167513849
                        ]
                      },
                      {
                        "parameters": [
                          {
                            "l2_leaf_reg": 5,
                            "depth": 2,
                            "learning_rate": 0.001
                          }
                        ],
                        "iteration": 6,
                        "remaining_time": 110.492657,
                        "passed_time": 26.67064135,
                        "learn": [
                          0.4695419062
                        ],
                        "test": [
                          0.4754641283
                        ]
                      },
                      {
                        "parameters": [
                          {
                            "l2_leaf_reg": 5,
                            "depth": 2,
                            "learning_rate": 0.01
                          }
                        ],
                        "iteration": 7,
                        "remaining_time": 106.6044085,
                        "passed_time": 30.45840244,
                        "learn": [
                          0.3965677918
                        ],
                        "test": [
                          0.4167571007
                        ]
                      },
                      {
                        "parameters": [
                          {
                            "l2_leaf_reg": 5,
                            "depth": 2,
                            "learning_rate": 0.1
                          }
                        ],
                        "iteration": 8,
                        "remaining_time": 103.5621276,
                        "passed_time": 34.5207092,
                        "learn": [
                          0.3466997093
                        ],
                        "test": [
                          0.4147786056
                        ]
                      },
                      {
                        "parameters": [
                          {
                            "l2_leaf_reg": 1,
                            "depth": 4,
                            "learning_rate": 0.001
                          }
                        ],
                        "iteration": 9,
                        "remaining_time": 108.3288983,
                        "passed_time": 41.6649609,
                        "learn": [
                          0.4493087328
                        ],
                        "test": [
                          0.4583323311
                        ]
                      },
                      {
                        "parameters": [
                          {
                            "l2_leaf_reg": 1,
                            "depth": 4,
                            "learning_rate": 0.01
                          }
                        ],
                        "iteration": 10,
                        "remaining_time": 111.1682683,
                        "passed_time": 48.91403803,
                        "learn": [
                          0.3732354191
                        ],
                        "test": [
                          0.4174033389
                        ]
                      },
                      {
                        "parameters": [
                          {
                            "l2_leaf_reg": 1,
                            "depth": 4,
                            "learning_rate": 0.1
                          }
                        ],
                        "iteration": 11,
                        "remaining_time": 113.7951502,
                        "passed_time": 56.89757509,
                        "learn": [
                          0.2094465894
                        ],
                        "test": [
                          0.4176862062
                        ]
                      },
                      {
                        "parameters": [
                          {
                            "l2_leaf_reg": 3,
                            "depth": 4,
                            "learning_rate": 0.001
                          }
                        ],
                        "iteration": 12,
                        "remaining_time": 113.1065197,
                        "passed_time": 63.929772,
                        "learn": [
                          0.4496559999
                        ],
                        "test": [
                          0.4587129893
                        ]
                      },
                      {
                        "parameters": [
                          {
                            "l2_leaf_reg": 3,
                            "depth": 4,
                            "learning_rate": 0.01
                          }
                        ],
                        "iteration": 13,
                        "remaining_time": 111.968347,
                        "passed_time": 71.25258445,
                        "learn": [
                          0.3760039424
                        ],
                        "test": [
                          0.417960468
                        ]
                      },
                      {
                        "parameters": [
                          {
                            "l2_leaf_reg": 3,
                            "depth": 4,
                            "learning_rate": 0.1
                          }
                        ],
                        "iteration": 14,
                        "remaining_time": 110.9199694,
                        "passed_time": 79.2285496,
                        "learn": [
                          0.2297710945
                        ],
                        "test": [
                          0.41592707
                        ]
                      },
                      {
                        "parameters": [
                          {
                            "l2_leaf_reg": 5,
                            "depth": 4,
                            "learning_rate": 0.001
                          }
                        ],
                        "iteration": 15,
                        "remaining_time": 107.8412162,
                        "passed_time": 86.27297296,
                        "learn": [
                          0.4504435382
                        ],
                        "test": [
                          0.4590306961
                        ]
                      },
                      {
                        "parameters": [
                          {
                            "l2_leaf_reg": 5,
                            "depth": 4,
                            "learning_rate": 0.01
                          }
                        ],
                        "iteration": 16,
                        "remaining_time": 104.4897627,
                        "passed_time": 93.49084033,
                        "learn": [
                          0.378058504
                        ],
                        "test": [
                          0.4178412969
                        ]
                      },
                      {
                        "parameters": [
                          {
                            "l2_leaf_reg": 5,
                            "depth": 4,
                            "learning_rate": 0.1
                          }
                        ],
                        "iteration": 17,
                        "remaining_time": 101.4090698,
                        "passed_time": 101.4090698,
                        "learn": [
                          0.2424067976
                        ],
                        "test": [
                          0.4196812968
                        ]
                      },
                      {
                        "parameters": [
                          {
                            "l2_leaf_reg": 1,
                            "depth": 6,
                            "learning_rate": 0.001
                          }
                        ],
                        "iteration": 18,
                        "remaining_time": 100.8813663,
                        "passed_time": 112.7497623,
                        "learn": [
                          0.4389625245
                        ],
                        "test": [
                          0.4530433985
                        ]
                      },
                      {
                        "parameters": [
                          {
                            "l2_leaf_reg": 1,
                            "depth": 6,
                            "learning_rate": 0.01
                          }
                        ],
                        "iteration": 19,
                        "remaining_time": 99.81584356,
                        "passed_time": 124.7698044,
                        "learn": [
                          0.3311203712
                        ],
                        "test": [
                          0.4178111861
                        ]
                      },
                      {
                        "parameters": [
                          {
                            "l2_leaf_reg": 1,
                            "depth": 6,
                            "learning_rate": 0.1
                          }
                        ],
                        "iteration": 20,
                        "remaining_time": 98.86688253,
                        "passed_time": 138.4136355,
                        "learn": [
                          0.07718236972
                        ],
                        "test": [
                          0.4156684095
                        ]
                      },
                      {
                        "parameters": [
                          {
                            "l2_leaf_reg": 3,
                            "depth": 6,
                            "learning_rate": 0.001
                          }
                        ],
                        "iteration": 21,
                        "remaining_time": 95.34782183,
                        "passed_time": 149.8322915,
                        "learn": [
                          0.4401441309
                        ],
                        "test": [
                          0.4536186286
                        ]
                      },
                      {
                        "parameters": [
                          {
                            "l2_leaf_reg": 3,
                            "depth": 6,
                            "learning_rate": 0.01
                          }
                        ],
                        "iteration": 22,
                        "remaining_time": 91.5083337,
                        "passed_time": 161.8993596,
                        "learn": [
                          0.3418574083
                        ],
                        "test": [
                          0.4181827718
                        ]
                      },
                      {
                        "parameters": [
                          {
                            "l2_leaf_reg": 3,
                            "depth": 6,
                            "learning_rate": 0.1
                          }
                        ],
                        "iteration": 23,
                        "remaining_time": 87.81485059,
                        "passed_time": 175.6297012,
                        "learn": [
                          0.1066722188
                        ],
                        "test": [
                          0.4180395889
                        ]
                      },
                      {
                        "parameters": [
                          {
                            "l2_leaf_reg": 5,
                            "depth": 6,
                            "learning_rate": 0.001
                          }
                        ],
                        "iteration": 24,
                        "remaining_time": 82.26140196,
                        "passed_time": 186.9577317,
                        "learn": [
                          0.4407041603
                        ],
                        "test": [
                          0.4539756977
                        ]
                      },
                      {
                        "parameters": [
                          {
                            "l2_leaf_reg": 5,
                            "depth": 6,
                            "learning_rate": 0.01
                          }
                        ],
                        "iteration": 25,
                        "remaining_time": 76.5152491,
                        "passed_time": 198.9396477,
                        "learn": [
                          0.3471838408
                        ],
                        "test": [
                          0.4188827212
                        ]
                      },
                      {
                        "parameters": [
                          {
                            "l2_leaf_reg": 5,
                            "depth": 6,
                            "learning_rate": 0.1
                          }
                        ],
                        "iteration": 26,
                        "remaining_time": 70.76527752,
                        "passed_time": 212.2958326,
                        "learn": [
                          0.1264060047
                        ],
                        "test": [
                          0.4161985631
                        ]
                      },
                      {
                        "parameters": [
                          {
                            "l2_leaf_reg": 1,
                            "depth": 8,
                            "learning_rate": 0.001
                          }
                        ],
                        "iteration": 27,
                        "remaining_time": 66.13756911,
                        "passed_time": 231.4814919,
                        "learn": [
                          0.4242499625
                        ],
                        "test": [
                          0.4489499851
                        ]
                      },
                      {
                        "parameters": [
                          {
                            "l2_leaf_reg": 1,
                            "depth": 8,
                            "learning_rate": 0.01
                          }
                        ],
                        "iteration": 28,
                        "remaining_time": 61.1377963,
                        "passed_time": 253.2851561,
                        "learn": [
                          0.2619352294
                        ],
                        "test": [
                          0.417499201
                        ]
                      },
                      {
                        "parameters": [
                          {
                            "l2_leaf_reg": 1,
                            "depth": 8,
                            "learning_rate": 0.1
                          }
                        ],
                        "iteration": 29,
                        "remaining_time": 55.63711884,
                        "passed_time": 278.1855942,
                        "learn": [
                          0.01832661389
                        ],
                        "test": [
                          0.4199918716
                        ]
                      },
                      {
                        "parameters": [
                          {
                            "l2_leaf_reg": 3,
                            "depth": 8,
                            "learning_rate": 0.001
                          }
                        ],
                        "iteration": 30,
                        "remaining_time": 47.88848214,
                        "passed_time": 296.9085893,
                        "learn": [
                          0.4320791215
                        ],
                        "test": [
                          0.4511956909
                        ]
                      },
                      {
                        "parameters": [
                          {
                            "l2_leaf_reg": 3,
                            "depth": 8,
                            "learning_rate": 0.01
                          }
                        ],
                        "iteration": 31,
                        "remaining_time": 39.89630735,
                        "passed_time": 319.1704588,
                        "learn": [
                          0.2835509519
                        ],
                        "test": [
                          0.4186501815
                        ]
                      },
                      {
                        "parameters": [
                          {
                            "l2_leaf_reg": 3,
                            "depth": 8,
                            "learning_rate": 0.1
                          }
                        ],
                        "iteration": 32,
                        "remaining_time": 31.31058122,
                        "passed_time": 344.4163934,
                        "learn": [
                          0.03807560413
                        ],
                        "test": [
                          0.4202064985
                        ]
                      },
                      {
                        "parameters": [
                          {
                            "l2_leaf_reg": 5,
                            "depth": 8,
                            "learning_rate": 0.001
                          }
                        ],
                        "iteration": 33,
                        "remaining_time": 21.41352077,
                        "passed_time": 364.0298531,
                        "learn": [
                          0.4319037031
                        ],
                        "test": [
                          0.451427821
                        ]
                      },
                      {
                        "parameters": [
                          {
                            "l2_leaf_reg": 5,
                            "depth": 8,
                            "learning_rate": 0.01
                          }
                        ],
                        "iteration": 34,
                        "remaining_time": 11.02540049,
                        "passed_time": 385.889017,
                        "learn": [
                          0.2973322026
                        ],
                        "test": [
                          0.420164655
                        ]
                      },
                      {
                        "parameters": [
                          {
                            "l2_leaf_reg": 5,
                            "depth": 8,
                            "learning_rate": 0.1
                          }
                        ],
                        "iteration": 35,
                        "remaining_time": 0,
                        "passed_time": 411.2573864,
                        "learn": [
                          0.05301647706
                        ],
                        "test": [
                          0.4181593291
                        ]
                      }
                    ]
                  },
                  "total_iterations": 36,
                  "passed_iterations": 35
                },
                "path": "catboost_info",
                "name": "catboost_info"
              }
            },
            "_view_module": "catboost-widget",
            "_model_module_version": "^1.0.0",
            "_view_count": null,
            "_view_module_version": "^1.0.0",
            "layout": "IPY_MODEL_56fb27bf7174475baf37b0690d05fd32",
            "_model_module": "catboost-widget"
          }
        }
      }
    }
  },
  "cells": [
    {
      "cell_type": "markdown",
      "metadata": {
        "id": "TK7oX5qdEEYr"
      },
      "source": [
        "<p style=\"align: center;\"><img align=center src=\"https://s8.hostingkartinok.com/uploads/images/2018/08/308b49fcfbc619d629fe4604bceb67ac.jpg\" width=500 height=450/></p>\n",
        "\n",
        "<h3 style=\"text-align: center;\"><b>Школа глубокого обучения ФПМИ МФТИ</b></h3>\n",
        "\n",
        "<h3 style=\"text-align: center;\"><b>Домашнее задание. Продвинутый поток. Весна 2021</b></h3>\n",
        "\n",
        "Это домашнее задание будет посвящено полноценному решению задачи машинного обучения."
      ]
    },
    {
      "cell_type": "markdown",
      "metadata": {
        "id": "zlB-owfaEEYs"
      },
      "source": [
        "Есть две части этого домашнего задания: \n",
        "* Сделать полноценный отчет о вашей работе: как вы обработали данные, какие модели попробовали и какие результаты получились (максимум 10 баллов). За каждую выполненную часть будет начислено определенное количество баллов.\n",
        "* Лучшее решение отправить в соревнование на [kaggle](https://www.kaggle.com/c/advanced-dls-spring-2021/) (максимум 5 баллов). За прохождение определенного порогов будут начисляться баллы.\n",
        "\n",
        "\n",
        "**Обе части будут проверяться в формате peer-review. Т.е. вашу посылку на степик будут проверять несколько других студентов и аггрегация их оценок будет выставлена. В то же время вам тоже нужно будет проверить несколько других учеников.**\n",
        "\n",
        "**Пожалуйста, делайте свою работу чистой и понятной, чтобы облегчить проверку. Если у вас будут проблемы с решением или хочется совета, то пишите в наш чат в телеграме или в лс @runfme. Если вы захотите проаппелировать оценку, то пипшите в лс @runfme.**\n",
        "\n",
        "**Во всех пунктах указания это минимальный набор вещей, которые стоит сделать. Если вы можете сделать какой-то шаг лучше или добавить что-то свое - дерзайте!**"
      ]
    },
    {
      "cell_type": "markdown",
      "metadata": {
        "id": "Tu_JvqcBEN8Y"
      },
      "source": [
        "# Как проверять?\n",
        "\n",
        "Ставьте полный балл, если выполнены все рекомендации или сделано что-то более интересное и сложное. За каждый отсустствующий пункт из рекомендация снижайте 1 балл."
      ]
    },
    {
      "cell_type": "markdown",
      "metadata": {
        "id": "ninJ63mJEEYt"
      },
      "source": [
        "# Метрика\n",
        "\n",
        "Перед решением любой задачи важно понимать, как будет оцениваться ваше решение. В данном случае мы используем стандартную для задачи классификации метрику ROC-AUC. Ее можно вычислить используя только предсказанные вероятности и истинные классы без конкретного порога классификации + она раотает даже если классы в данных сильно несбалансированны (примеров одного класса в десятки раз больше примеров длугого). Именно поэтому она очень удобна для соревнований.\n",
        "\n",
        "Посчитать ее легко:\n"
      ]
    },
    {
      "cell_type": "code",
      "metadata": {
        "id": "SQIrka7yEEYu",
        "colab": {
          "base_uri": "https://localhost:8080/"
        },
        "outputId": "019d5378-b2ae-4b78-8e39-302020847b00"
      },
      "source": [
        "from sklearn.metrics import roc_auc_score\n",
        "\n",
        "y_true = [\n",
        "    0,\n",
        "    1,\n",
        "    1,\n",
        "    0,\n",
        "    1\n",
        "]\n",
        "\n",
        "y_predictions = [\n",
        "    0.1,\n",
        "    0.9,\n",
        "    0.4,\n",
        "    0.6,\n",
        "    0.61\n",
        "]\n",
        "\n",
        "roc_auc_score(y_true, y_predictions)"
      ],
      "execution_count": 173,
      "outputs": [
        {
          "output_type": "execute_result",
          "data": {
            "text/plain": [
              "0.8333333333333333"
            ]
          },
          "metadata": {},
          "execution_count": 173
        }
      ]
    },
    {
      "cell_type": "markdown",
      "metadata": {
        "id": "IrDNNkNTEEYz"
      },
      "source": [
        "# Первая часть. Исследование"
      ]
    },
    {
      "cell_type": "code",
      "metadata": {
        "id": "lzLqEeZKEEYz"
      },
      "source": [
        "import pandas as pd\n",
        "import numpy as np\n",
        "from matplotlib import pyplot as plt\n",
        "import seaborn as sns"
      ],
      "execution_count": 174,
      "outputs": []
    },
    {
      "cell_type": "markdown",
      "metadata": {
        "id": "LOlxdURSEEY3"
      },
      "source": [
        "## Загрузка данных (2 балла)\n",
        "\n",
        "1) Посмотрите на случайные строчки. \n",
        "\n",
        "2) Посмотрите, есть ли в датасете незаполненные значения (nan'ы) с помощью data.isna() или data.info() и, если нужно, замените их на что-то. Будет хорошо, если вы построите табличку с количеством nan в каждой колонке."
      ]
    },
    {
      "cell_type": "code",
      "metadata": {
        "colab": {
          "base_uri": "https://localhost:8080/"
        },
        "id": "wyWjCRKtuwNL",
        "outputId": "7f5044af-7ab6-4d40-b225-e352fb1b5d96"
      },
      "source": [
        "from google.colab import drive\n",
        "drive.mount('/content/drive')"
      ],
      "execution_count": 175,
      "outputs": [
        {
          "output_type": "stream",
          "name": "stdout",
          "text": [
            "Drive already mounted at /content/drive; to attempt to forcibly remount, call drive.mount(\"/content/drive\", force_remount=True).\n"
          ]
        }
      ]
    },
    {
      "cell_type": "code",
      "metadata": {
        "id": "pw-Brue9EEY3"
      },
      "source": [
        "data = pd.read_csv('drive/MyDrive/temp/train.csv',\n",
        "                   na_values=[\"NaN\",\" \"])"
      ],
      "execution_count": 176,
      "outputs": []
    },
    {
      "cell_type": "code",
      "metadata": {
        "id": "KgnkkF5bEEY9"
      },
      "source": [
        "# Для вашего удобства списки с именами разных колонок\n",
        "\n",
        "# Числовые признаки\n",
        "num_cols = [\n",
        "    'ClientPeriod',\n",
        "    'MonthlySpending',\n",
        "    'TotalSpent',\n",
        "]\n",
        "\n",
        "# Категориальные признаки\n",
        "cat_cols = [\n",
        "    'Sex',\n",
        "    'IsSeniorCitizen',\n",
        "    'HasPartner',\n",
        "    'HasChild',\n",
        "    'HasPhoneService',\n",
        "    'HasMultiplePhoneNumbers',\n",
        "    'HasInternetService',\n",
        "    'HasOnlineSecurityService',\n",
        "    'HasOnlineBackup',\n",
        "    'HasDeviceProtection',\n",
        "    'HasTechSupportAccess',\n",
        "    'HasOnlineTV',\n",
        "    'HasMovieSubscription',\n",
        "    'HasContractPhone',\n",
        "    'IsBillingPaperless',\n",
        "    'PaymentMethod'\n",
        "]\n",
        "\n",
        "feature_cols = num_cols + cat_cols\n",
        "target_col = 'Churn'"
      ],
      "execution_count": 177,
      "outputs": []
    },
    {
      "cell_type": "code",
      "metadata": {
        "id": "tHC6gWabEEZA",
        "colab": {
          "base_uri": "https://localhost:8080/",
          "height": 313
        },
        "outputId": "12a9dee2-2d7f-46d6-8bd8-14f1f26783e9"
      },
      "source": [
        "data.sample(5)"
      ],
      "execution_count": 178,
      "outputs": [
        {
          "output_type": "execute_result",
          "data": {
            "text/html": [
              "<div>\n",
              "<style scoped>\n",
              "    .dataframe tbody tr th:only-of-type {\n",
              "        vertical-align: middle;\n",
              "    }\n",
              "\n",
              "    .dataframe tbody tr th {\n",
              "        vertical-align: top;\n",
              "    }\n",
              "\n",
              "    .dataframe thead th {\n",
              "        text-align: right;\n",
              "    }\n",
              "</style>\n",
              "<table border=\"1\" class=\"dataframe\">\n",
              "  <thead>\n",
              "    <tr style=\"text-align: right;\">\n",
              "      <th></th>\n",
              "      <th>ClientPeriod</th>\n",
              "      <th>MonthlySpending</th>\n",
              "      <th>TotalSpent</th>\n",
              "      <th>Sex</th>\n",
              "      <th>IsSeniorCitizen</th>\n",
              "      <th>HasPartner</th>\n",
              "      <th>HasChild</th>\n",
              "      <th>HasPhoneService</th>\n",
              "      <th>HasMultiplePhoneNumbers</th>\n",
              "      <th>HasInternetService</th>\n",
              "      <th>HasOnlineSecurityService</th>\n",
              "      <th>HasOnlineBackup</th>\n",
              "      <th>HasDeviceProtection</th>\n",
              "      <th>HasTechSupportAccess</th>\n",
              "      <th>HasOnlineTV</th>\n",
              "      <th>HasMovieSubscription</th>\n",
              "      <th>HasContractPhone</th>\n",
              "      <th>IsBillingPaperless</th>\n",
              "      <th>PaymentMethod</th>\n",
              "      <th>Churn</th>\n",
              "    </tr>\n",
              "  </thead>\n",
              "  <tbody>\n",
              "    <tr>\n",
              "      <th>3390</th>\n",
              "      <td>6</td>\n",
              "      <td>20.15</td>\n",
              "      <td>130.50</td>\n",
              "      <td>Male</td>\n",
              "      <td>0</td>\n",
              "      <td>No</td>\n",
              "      <td>No</td>\n",
              "      <td>Yes</td>\n",
              "      <td>No</td>\n",
              "      <td>No</td>\n",
              "      <td>No internet service</td>\n",
              "      <td>No internet service</td>\n",
              "      <td>No internet service</td>\n",
              "      <td>No internet service</td>\n",
              "      <td>No internet service</td>\n",
              "      <td>No internet service</td>\n",
              "      <td>Month-to-month</td>\n",
              "      <td>No</td>\n",
              "      <td>Bank transfer (automatic)</td>\n",
              "      <td>0</td>\n",
              "    </tr>\n",
              "    <tr>\n",
              "      <th>4108</th>\n",
              "      <td>11</td>\n",
              "      <td>20.00</td>\n",
              "      <td>196.35</td>\n",
              "      <td>Female</td>\n",
              "      <td>0</td>\n",
              "      <td>Yes</td>\n",
              "      <td>Yes</td>\n",
              "      <td>Yes</td>\n",
              "      <td>No</td>\n",
              "      <td>No</td>\n",
              "      <td>No internet service</td>\n",
              "      <td>No internet service</td>\n",
              "      <td>No internet service</td>\n",
              "      <td>No internet service</td>\n",
              "      <td>No internet service</td>\n",
              "      <td>No internet service</td>\n",
              "      <td>One year</td>\n",
              "      <td>Yes</td>\n",
              "      <td>Mailed check</td>\n",
              "      <td>0</td>\n",
              "    </tr>\n",
              "    <tr>\n",
              "      <th>4774</th>\n",
              "      <td>64</td>\n",
              "      <td>25.55</td>\n",
              "      <td>1714.95</td>\n",
              "      <td>Female</td>\n",
              "      <td>0</td>\n",
              "      <td>Yes</td>\n",
              "      <td>No</td>\n",
              "      <td>Yes</td>\n",
              "      <td>Yes</td>\n",
              "      <td>No</td>\n",
              "      <td>No internet service</td>\n",
              "      <td>No internet service</td>\n",
              "      <td>No internet service</td>\n",
              "      <td>No internet service</td>\n",
              "      <td>No internet service</td>\n",
              "      <td>No internet service</td>\n",
              "      <td>Two year</td>\n",
              "      <td>No</td>\n",
              "      <td>Mailed check</td>\n",
              "      <td>0</td>\n",
              "    </tr>\n",
              "    <tr>\n",
              "      <th>778</th>\n",
              "      <td>10</td>\n",
              "      <td>19.75</td>\n",
              "      <td>208.25</td>\n",
              "      <td>Male</td>\n",
              "      <td>0</td>\n",
              "      <td>No</td>\n",
              "      <td>No</td>\n",
              "      <td>Yes</td>\n",
              "      <td>No</td>\n",
              "      <td>No</td>\n",
              "      <td>No internet service</td>\n",
              "      <td>No internet service</td>\n",
              "      <td>No internet service</td>\n",
              "      <td>No internet service</td>\n",
              "      <td>No internet service</td>\n",
              "      <td>No internet service</td>\n",
              "      <td>Month-to-month</td>\n",
              "      <td>No</td>\n",
              "      <td>Credit card (automatic)</td>\n",
              "      <td>0</td>\n",
              "    </tr>\n",
              "    <tr>\n",
              "      <th>3969</th>\n",
              "      <td>9</td>\n",
              "      <td>77.65</td>\n",
              "      <td>714.15</td>\n",
              "      <td>Female</td>\n",
              "      <td>0</td>\n",
              "      <td>No</td>\n",
              "      <td>No</td>\n",
              "      <td>Yes</td>\n",
              "      <td>No</td>\n",
              "      <td>Fiber optic</td>\n",
              "      <td>No</td>\n",
              "      <td>No</td>\n",
              "      <td>No</td>\n",
              "      <td>No</td>\n",
              "      <td>Yes</td>\n",
              "      <td>No</td>\n",
              "      <td>Month-to-month</td>\n",
              "      <td>Yes</td>\n",
              "      <td>Bank transfer (automatic)</td>\n",
              "      <td>1</td>\n",
              "    </tr>\n",
              "  </tbody>\n",
              "</table>\n",
              "</div>"
            ],
            "text/plain": [
              "      ClientPeriod  MonthlySpending  ...              PaymentMethod Churn\n",
              "3390             6            20.15  ...  Bank transfer (automatic)     0\n",
              "4108            11            20.00  ...               Mailed check     0\n",
              "4774            64            25.55  ...               Mailed check     0\n",
              "778             10            19.75  ...    Credit card (automatic)     0\n",
              "3969             9            77.65  ...  Bank transfer (automatic)     1\n",
              "\n",
              "[5 rows x 20 columns]"
            ]
          },
          "metadata": {},
          "execution_count": 178
        }
      ]
    },
    {
      "cell_type": "code",
      "metadata": {
        "colab": {
          "base_uri": "https://localhost:8080/"
        },
        "id": "4ZdYcCqvvdeJ",
        "outputId": "431c28cd-1223-4f12-d895-cbbb9fa81053"
      },
      "source": [
        "data.isna().sum()"
      ],
      "execution_count": 179,
      "outputs": [
        {
          "output_type": "execute_result",
          "data": {
            "text/plain": [
              "ClientPeriod                0\n",
              "MonthlySpending             0\n",
              "TotalSpent                  9\n",
              "Sex                         0\n",
              "IsSeniorCitizen             0\n",
              "HasPartner                  0\n",
              "HasChild                    0\n",
              "HasPhoneService             0\n",
              "HasMultiplePhoneNumbers     0\n",
              "HasInternetService          0\n",
              "HasOnlineSecurityService    0\n",
              "HasOnlineBackup             0\n",
              "HasDeviceProtection         0\n",
              "HasTechSupportAccess        0\n",
              "HasOnlineTV                 0\n",
              "HasMovieSubscription        0\n",
              "HasContractPhone            0\n",
              "IsBillingPaperless          0\n",
              "PaymentMethod               0\n",
              "Churn                       0\n",
              "dtype: int64"
            ]
          },
          "metadata": {},
          "execution_count": 179
        }
      ]
    },
    {
      "cell_type": "code",
      "metadata": {
        "id": "8x8MdagXak6B"
      },
      "source": [
        "data = data.dropna()"
      ],
      "execution_count": 180,
      "outputs": []
    },
    {
      "cell_type": "markdown",
      "metadata": {
        "id": "dK370bPCEEZD"
      },
      "source": [
        "## Анализ данных (3 балла)\n",
        "\n",
        "1) Для численных призанков постройте гистограмму (*plt.hist(...)*) или boxplot (*plt.boxplot(...)*). Для категориальных посчитайте количество каждого значения для каждого признака. Для каждой колонки надо сделать *data.value_counts()* и построить bar диаграммы *plt.bar(...)* или круговые диаграммы *plt.pie(...)* (хорошо, елси вы сможете это сделать на одном гарфике с помощью *plt.subplots(...)*). \n",
        "\n",
        "2) Посмотрите на распределение целевой переменной и скажите, являются ли классы несбалансированными.\n",
        "\n",
        "3) (Если будет желание) Поиграйте с разными библиотеками для визуализации - *sns*, *pandas_visual_analysis*, etc.\n",
        "\n",
        "Второй пункт очень важен, потому что существуют задачи классификации с несбалансированными классами. Например, это может значить, что в датасете намного больше примеров 0 класса. В таких случаях нужно 1) не использовать accuracy как метрику 2) использовать методы борьбы с imbalanced dataset (обычно если датасет сильно несбалансирован, т.е. класса 1 в 20 раз меньше класса 0)."
      ]
    },
    {
      "cell_type": "code",
      "metadata": {
        "id": "NZkbgFJZEEZE",
        "colab": {
          "base_uri": "https://localhost:8080/",
          "height": 1000
        },
        "outputId": "21d0ffac-80b0-4b7c-f782-ebfe4b30ecb5"
      },
      "source": [
        "fig, ax = plt.subplots(len(num_cols),)\n",
        "fig.set_size_inches(20,20)\n",
        "for i in range(len(num_cols)):\n",
        "  sns.histplot(data=data,\n",
        "               x=data[num_cols[i]],\n",
        "               color = '#ff7f0e',\n",
        "               ax=ax[i],)\n",
        "  ax[i].legend(num_cols[i],\n",
        "              loc=9,\n",
        "              fontsize='x-small')"
      ],
      "execution_count": 181,
      "outputs": [
        {
          "output_type": "display_data",
          "data": {
            "image/png": "[encoded data removed]",
            "text/plain": [
              "<Figure size 1440x1440 with 3 Axes>"
            ]
          },
          "metadata": {
            "needs_background": "light"
          }
        }
      ]
    },
    {
      "cell_type": "code",
      "metadata": {
        "colab": {
          "base_uri": "https://localhost:8080/",
          "height": 1000
        },
        "id": "BRisI0EhCvEW",
        "outputId": "200c84a9-8c32-4b13-9c03-9a9c1f5f1a79"
      },
      "source": [
        "fig,ax = plt.subplots(4,4)\n",
        "fig.set_size_inches(20,20)\n",
        "k = 0\n",
        "colors = ['#003f5c','#7a5195','#ef5675','#ffa600']\n",
        "for i in range(4):\n",
        "  for j in range(4):\n",
        "    temp = data[cat_cols[k]].value_counts()\n",
        "    counts = temp.values\n",
        "    labels = list(temp.index)\n",
        "    ax[i,j].pie(counts,\n",
        "                labels=labels,\n",
        "                autopct='%1.1f%%',\n",
        "                shadow=True,\n",
        "                colors=colors)\n",
        "    k=k+1\n"
      ],
      "execution_count": 182,
      "outputs": [
        {
          "output_type": "display_data",
          "data": {
            "image/png": "[encoded data removed]",
            "text/plain": [
              "<Figure size 1440x1440 with 16 Axes>"
            ]
          },
          "metadata": {}
        }
      ]
    },
    {
      "cell_type": "code",
      "metadata": {
        "colab": {
          "base_uri": "https://localhost:8080/"
        },
        "id": "fgcdkiQfKNoT",
        "outputId": "0015c974-cc11-4dc3-a935-ac791c7c410c"
      },
      "source": [
        "for i in range(len(cat_cols)):\n",
        "  print(data[cat_cols[i]].value_counts())"
      ],
      "execution_count": 183,
      "outputs": [
        {
          "output_type": "stream",
          "name": "stdout",
          "text": [
            "Male      2651\n",
            "Female    2622\n",
            "Name: Sex, dtype: int64\n",
            "0    4431\n",
            "1     842\n",
            "Name: IsSeniorCitizen, dtype: int64\n",
            "No     2704\n",
            "Yes    2569\n",
            "Name: HasPartner, dtype: int64\n",
            "No     3676\n",
            "Yes    1597\n",
            "Name: HasChild, dtype: int64\n",
            "Yes    4754\n",
            "No      519\n",
            "Name: HasPhoneService, dtype: int64\n",
            "No                  2508\n",
            "Yes                 2246\n",
            "No phone service     519\n",
            "Name: HasMultiplePhoneNumbers, dtype: int64\n",
            "Fiber optic    2341\n",
            "DSL            1795\n",
            "No             1137\n",
            "Name: HasInternetService, dtype: int64\n",
            "No                     2611\n",
            "Yes                    1525\n",
            "No internet service    1137\n",
            "Name: HasOnlineSecurityService, dtype: int64\n",
            "No                     2331\n",
            "Yes                    1805\n",
            "No internet service    1137\n",
            "Name: HasOnlineBackup, dtype: int64\n",
            "No                     2316\n",
            "Yes                    1820\n",
            "No internet service    1137\n",
            "Name: HasDeviceProtection, dtype: int64\n",
            "No                     2603\n",
            "Yes                    1533\n",
            "No internet service    1137\n",
            "Name: HasTechSupportAccess, dtype: int64\n",
            "No                     2098\n",
            "Yes                    2038\n",
            "No internet service    1137\n",
            "Name: HasOnlineTV, dtype: int64\n",
            "No                     2077\n",
            "Yes                    2059\n",
            "No internet service    1137\n",
            "Name: HasMovieSubscription, dtype: int64\n",
            "Month-to-month    2920\n",
            "Two year          1272\n",
            "One year          1081\n",
            "Name: HasContractPhone, dtype: int64\n",
            "Yes    3145\n",
            "No     2128\n",
            "Name: IsBillingPaperless, dtype: int64\n",
            "Electronic check             1786\n",
            "Mailed check                 1188\n",
            "Bank transfer (automatic)    1157\n",
            "Credit card (automatic)      1142\n",
            "Name: PaymentMethod, dtype: int64\n"
          ]
        }
      ]
    },
    {
      "cell_type": "markdown",
      "metadata": {
        "id": "zg60u3QDEEZH"
      },
      "source": [
        "(Дополнительно) Если вы нашли какие-то ошибки в данных или выбросы, то можете их убрать. Тут можно поэксперементировать с обработкой данных как угодно, но не за баллы."
      ]
    },
    {
      "cell_type": "code",
      "metadata": {
        "colab": {
          "base_uri": "https://localhost:8080/",
          "height": 352
        },
        "id": "Q-XzXhC9Iqgg",
        "outputId": "5167edc6-bbbf-43ed-f4a9-cd7bd5234d66"
      },
      "source": [
        "colors = ['#94fff6','#65abd2']\n",
        "fig,ax = plt.subplots()\n",
        "temp = data['Churn'].value_counts()\n",
        "counts = temp.values\n",
        "labels = list(temp.index)\n",
        "ax.pie(counts,\n",
        "      labels=labels,\n",
        "      autopct='%1.1f%%',\n",
        "      shadow=True,\n",
        "      colors=colors)"
      ],
      "execution_count": 184,
      "outputs": [
        {
          "output_type": "execute_result",
          "data": {
            "text/plain": [
              "([<matplotlib.patches.Wedge at 0x7ffba4344650>,\n",
              "  <matplotlib.patches.Wedge at 0x7ffba4327110>],\n",
              " [Text(-0.7467590456276939, 0.8076824424074204, '0'),\n",
              "  Text(0.7467590456276938, -0.8076824424074206, '1')],\n",
              " [Text(-0.4073231157969239, 0.4405540594949566, '73.8%'),\n",
              "  Text(0.4073231157969238, -0.44055405949495663, '26.2%')])"
            ]
          },
          "metadata": {},
          "execution_count": 184
        },
        {
          "output_type": "display_data",
          "data": {
            "image/png": "[encoded data removed]",
            "text/plain": [
              "<Figure size 432x288 with 1 Axes>"
            ]
          },
          "metadata": {}
        }
      ]
    },
    {
      "cell_type": "markdown",
      "metadata": {
        "id": "zVCiBMOhPN9i"
      },
      "source": [
        "*Классы несбалансированные. Класс с меткой \"0\" преобладает( >73%).*"
      ]
    },
    {
      "cell_type": "markdown",
      "metadata": {
        "id": "DviiJd8REEZK"
      },
      "source": [
        "## Применение линейных моделей (3 балла)\n",
        "\n",
        "1) Обработайте данные для того, чтобы к ним можно было применить LogisticRegression. Т.е. отнормируйте числовые признаки, а категориальные закодируйте с помощью one-hot-encoding'а. \n",
        "\n",
        "2) С помощью кроссвалидации или разделения на train/valid выборку протестируйте разные значения гиперпараметра C и выберите лучший (можно тестировать С=100, 10, 1, 0.1, 0.01, 0.001) по метрике ROC-AUC. \n",
        "\n",
        "Если вы разделяете на train/valid, то используйте LogisticRegressionCV. Он сам при вызове .fit() подберет параметр С. (не забудьте передать scroing='roc_auc', чтобы при кроссвалидации сравнивались значения этой метрики, и refit=True, чтобы при потом модель обучилась на всем датасете с лучшим параметром C). \n",
        "\n",
        "\n",
        "(более сложный вариант) Если вы будете использовать кроссвалидацию, то преобразования данных и LogisticRegression нужно соединить в один Pipeline с помощью make_pipeline, как это делалось во втором семинаре. Потом pipeline надо передать в GridSearchCV. Для one-hot-encoding'a можно испльзовать комбинацию LabelEncoder + OneHotEncoder (сначала превращаем строчки в числа, а потом числа првращаем в one-hot вектора.)"
      ]
    },
    {
      "cell_type": "code",
      "metadata": {
        "id": "xHCLDmwqEEZL"
      },
      "source": [
        "from sklearn.linear_model import LogisticRegression, LogisticRegressionCV\n",
        "from sklearn.model_selection import train_test_split, GridSearchCV\n",
        "from sklearn.preprocessing import StandardScaler, RobustScaler, LabelEncoder, OneHotEncoder\n",
        "from sklearn.pipeline import make_pipeline\n",
        "from sklearn.compose import ColumnTransformer\n",
        "from sklearn.pipeline import Pipeline"
      ],
      "execution_count": 185,
      "outputs": []
    },
    {
      "cell_type": "code",
      "metadata": {
        "id": "t7JJmAcvXCd7",
        "colab": {
          "base_uri": "https://localhost:8080/"
        },
        "outputId": "6ed8363e-1660-4a8f-f4dc-88e8df784829"
      },
      "source": [
        "X_numeric = data[num_cols]\n",
        "X_cat = data[cat_cols]\n",
        "dummy_features = pd.get_dummies(X_cat)\n",
        "X = pd.concat([X_numeric, dummy_features],axis=1)\n",
        "y = data['Churn']\n",
        "X_train,X_test,y_train,y_test = train_test_split(X,\n",
        "                                                 y,\n",
        "                                                 test_size=0.36,\n",
        "                                                 random_state=91)\n",
        "clf = make_pipeline(StandardScaler(),\n",
        "                    LogisticRegression())\n",
        "param_grid = {'logisticregression__C':[100, 10, 1, 0.1, 0.01, 0.001],\n",
        "              'logisticregression__penalty':['l1','l2','elasticnet'],}\n",
        "grid_cv = GridSearchCV(clf,\n",
        "                       param_grid,\n",
        "                       scoring='roc_auc',\n",
        "                       cv=5,\n",
        "                       refit=True,\n",
        "                       n_jobs=-1,)\n",
        "\n",
        "\n",
        "grid_cv.fit(X_train,y_train)"
      ],
      "execution_count": 203,
      "outputs": [
        {
          "output_type": "execute_result",
          "data": {
            "text/plain": [
              "GridSearchCV(cv=5, error_score=nan,\n",
              "             estimator=Pipeline(memory=None,\n",
              "                                steps=[('standardscaler',\n",
              "                                        StandardScaler(copy=True,\n",
              "                                                       with_mean=True,\n",
              "                                                       with_std=True)),\n",
              "                                       ('logisticregression',\n",
              "                                        LogisticRegression(C=1.0,\n",
              "                                                           class_weight=None,\n",
              "                                                           dual=False,\n",
              "                                                           fit_intercept=True,\n",
              "                                                           intercept_scaling=1,\n",
              "                                                           l1_ratio=None,\n",
              "                                                           max_iter=100,\n",
              "                                                           multi_class='auto',\n",
              "                                                           n_jobs=None,\n",
              "                                                           penalty='l2',\n",
              "                                                           random_state=None,\n",
              "                                                           solver='lbfgs',\n",
              "                                                           tol=0.0001,\n",
              "                                                           verbose=0,\n",
              "                                                           warm_start=False))],\n",
              "                                verbose=False),\n",
              "             iid='deprecated', n_jobs=-1,\n",
              "             param_grid={'logisticregression__C': [100, 10, 1, 0.1, 0.01,\n",
              "                                                   0.001],\n",
              "                         'logisticregression__penalty': ['l1', 'l2',\n",
              "                                                         'elasticnet']},\n",
              "             pre_dispatch='2*n_jobs', refit=True, return_train_score=False,\n",
              "             scoring='roc_auc', verbose=0)"
            ]
          },
          "metadata": {},
          "execution_count": 203
        }
      ]
    },
    {
      "cell_type": "code",
      "metadata": {
        "colab": {
          "base_uri": "https://localhost:8080/"
        },
        "id": "aLPfCej8yFoR",
        "outputId": "e6c4a6a2-e600-47fd-d389-cac449c84556"
      },
      "source": [
        "grid_cv.best_estimator_"
      ],
      "execution_count": 196,
      "outputs": [
        {
          "output_type": "execute_result",
          "data": {
            "text/plain": [
              "Pipeline(memory=None,\n",
              "         steps=[('standardscaler',\n",
              "                 StandardScaler(copy=True, with_mean=True, with_std=True)),\n",
              "                ('logisticregression',\n",
              "                 LogisticRegression(C=10, class_weight=None, dual=False,\n",
              "                                    fit_intercept=True, intercept_scaling=1,\n",
              "                                    l1_ratio=None, max_iter=100,\n",
              "                                    multi_class='auto', n_jobs=None,\n",
              "                                    penalty='l2', random_state=None,\n",
              "                                    solver='lbfgs', tol=0.0001, verbose=0,\n",
              "                                    warm_start=False))],\n",
              "         verbose=False)"
            ]
          },
          "metadata": {},
          "execution_count": 196
        }
      ]
    },
    {
      "cell_type": "code",
      "metadata": {
        "colab": {
          "base_uri": "https://localhost:8080/"
        },
        "id": "e9EVCovUyPSn",
        "outputId": "7d363a5f-3bdd-40f0-f2ce-1f9740420ba3"
      },
      "source": [
        "grid_cv.best_params_"
      ],
      "execution_count": 197,
      "outputs": [
        {
          "output_type": "execute_result",
          "data": {
            "text/plain": [
              "{'logisticregression__C': 10, 'logisticregression__penalty': 'l2'}"
            ]
          },
          "metadata": {},
          "execution_count": 197
        }
      ]
    },
    {
      "cell_type": "code",
      "metadata": {
        "colab": {
          "base_uri": "https://localhost:8080/"
        },
        "id": "V_YiDB7kySjF",
        "outputId": "3bc13da8-43ca-4128-d486-d8846fe636d9"
      },
      "source": [
        "grid_cv.best_score_"
      ],
      "execution_count": 204,
      "outputs": [
        {
          "output_type": "execute_result",
          "data": {
            "text/plain": [
              "0.8519507041541343"
            ]
          },
          "metadata": {},
          "execution_count": 204
        }
      ]
    },
    {
      "cell_type": "markdown",
      "metadata": {
        "id": "8Mzz57rME-Zx"
      },
      "source": [
        "ROC-AUC 0.851. Параметры = {C = 10, L2 регуляризация}"
      ]
    },
    {
      "cell_type": "markdown",
      "metadata": {
        "id": "uVahy6JKEEZQ"
      },
      "source": [
        "Выпишите какое лучшее качество и с какими параметрами вам удалось получить"
      ]
    },
    {
      "cell_type": "markdown",
      "metadata": {
        "id": "36729TOQEEZR"
      },
      "source": [
        ""
      ]
    },
    {
      "cell_type": "markdown",
      "metadata": {
        "id": "BlTeVy7fEEZR"
      },
      "source": [
        "## Применение градиентного бустинга (2 балла)\n",
        "\n",
        "Если вы хотите получить баллы за точный ответ, то стоит попробовать градиентный бустинг. Часто градиентный бустинг с дефолтными параметрами даст вам 80% результата за 0% усилий.\n",
        "\n",
        "Мы будем использовать catboost, поэтому нам не надо кодировать категориальные признаки. catboost сделает это сам (в .fit() надо передать cat_features=cat_cols). А численные признаки нормировать для моделей, основанных на деревьях не нужно.\n",
        "\n",
        "1) Разделите выборку на train/valid. Протестируйте catboost cо стандартными параметрами.\n",
        "\n",
        "2) Протестируйте разные занчения параметроа количества деревьев и learning_rate'а и выберите лучшую по метрике ROC-AUC комбинацию. \n",
        "\n",
        "(Дополнительно) Есть некоторые сложности с тем, чтобы использовать CatBoostClassifier вместе с GridSearchCV, поэтому мы не просим использовать кроссвалидацию. Но можете попробовать)"
      ]
    },
    {
      "cell_type": "code",
      "metadata": {
        "id": "Fioxxlp-EEZS"
      },
      "source": [
        "!pip install catboost\n",
        "import catboost\n",
        "from catboost import CatBoostClassifier"
      ],
      "execution_count": null,
      "outputs": []
    },
    {
      "cell_type": "code",
      "metadata": {
        "id": "V3EfOTseG8p_"
      },
      "source": [
        "X = data.drop(['Churn'],axis=1)\n",
        "X['TotalSpent'] = X['TotalSpent'].astype(float)\n",
        "X['IsSeniorCitizen'] = X['IsSeniorCitizen'].astype(object)\n",
        "ix = [i for i in range(3,19)]\n",
        "X_train,X_test,y_train,y_test = train_test_split(X,\n",
        "                                                 data['Churn'],\n",
        "                                                 test_size=0.3,\n",
        "                                                 random_state=88)"
      ],
      "execution_count": 223,
      "outputs": []
    },
    {
      "cell_type": "code",
      "metadata": {
        "colab": {
          "base_uri": "https://localhost:8080/",
          "height": 1000,
          "referenced_widgets": [
            "0af449b2a6694f7db8c07b882b0d45ea"
          ]
        },
        "id": "JShVebm3HrFO",
        "outputId": "eb59323f-ef5c-44c2-c566-5494310faf51"
      },
      "source": [
        "boost = CatBoostClassifier(cat_features=ix,\n",
        "                           random_seed = 88,\n",
        "                           verbose = False)\n",
        "param_grid = {'learning_rate':[0.001,0.01,0.1,],\n",
        "              'depth':[2,4,6,8],\n",
        "              'l2_leaf_reg':[1,3,5],\n",
        "}\n",
        "grid_cv = boost.grid_search(param_grid,\n",
        "                            X_train,\n",
        "                            y_train,\n",
        "                            plot=True,\n",
        "                            refit=True)"
      ],
      "execution_count": 225,
      "outputs": [
        {
          "output_type": "stream",
          "name": "stderr",
          "text": [
            "Custom logger is already specified. Specify more than one logger at same time is not thread safe."
          ]
        },
        {
          "output_type": "display_data",
          "data": {
            "application/vnd.jupyter.widget-view+json": {
              "model_id": "0af449b2a6694f7db8c07b882b0d45ea",
              "version_minor": 0,
              "version_major": 2
            },
            "text/plain": [
              "MetricVisualizer(layout=Layout(align_self='stretch', height='500px'))"
            ]
          },
          "metadata": {}
        },
        {
          "output_type": "stream",
          "name": "stdout",
          "text": [
            "\n",
            "bestTest = 0.4771596534\n",
            "bestIteration = 999\n",
            "\n",
            "0:\tloss: 0.4771597\tbest: 0.4771597 (0)\ttotal: 3.78s\tremaining: 2m 12s\n",
            "\n",
            "bestTest = 0.4169943487\n",
            "bestIteration = 728\n",
            "\n",
            "1:\tloss: 0.4169943\tbest: 0.4169943 (1)\ttotal: 7.59s\tremaining: 2m 9s\n",
            "\n",
            "bestTest = 0.4200893457\n",
            "bestIteration = 76\n",
            "\n",
            "2:\tloss: 0.4200893\tbest: 0.4169943 (1)\ttotal: 11.6s\tremaining: 2m 8s\n",
            "\n",
            "bestTest = 0.4757351536\n",
            "bestIteration = 999\n",
            "\n",
            "3:\tloss: 0.4757352\tbest: 0.4169943 (1)\ttotal: 15.3s\tremaining: 2m 2s\n",
            "\n",
            "bestTest = 0.4169481787\n",
            "bestIteration = 795\n",
            "\n",
            "4:\tloss: 0.4169482\tbest: 0.4169482 (4)\ttotal: 19.1s\tremaining: 1m 58s\n",
            "\n",
            "bestTest = 0.4167513849\n",
            "bestIteration = 70\n",
            "\n",
            "5:\tloss: 0.4167514\tbest: 0.4167514 (5)\ttotal: 23.1s\tremaining: 1m 55s\n",
            "\n",
            "bestTest = 0.4754641283\n",
            "bestIteration = 999\n",
            "\n",
            "6:\tloss: 0.4754641\tbest: 0.4167514 (5)\ttotal: 26.7s\tremaining: 1m 50s\n",
            "\n",
            "bestTest = 0.4167571007\n",
            "bestIteration = 764\n",
            "\n",
            "7:\tloss: 0.4167571\tbest: 0.4167514 (5)\ttotal: 30.5s\tremaining: 1m 46s\n",
            "\n",
            "bestTest = 0.4147786056\n",
            "bestIteration = 79\n",
            "\n",
            "8:\tloss: 0.4147786\tbest: 0.4147786 (8)\ttotal: 34.5s\tremaining: 1m 43s\n",
            "\n",
            "bestTest = 0.4583323311\n",
            "bestIteration = 999\n",
            "\n",
            "9:\tloss: 0.4583323\tbest: 0.4147786 (8)\ttotal: 41.7s\tremaining: 1m 48s\n",
            "\n",
            "bestTest = 0.4174033389\n",
            "bestIteration = 614\n",
            "\n",
            "10:\tloss: 0.4174033\tbest: 0.4147786 (8)\ttotal: 48.9s\tremaining: 1m 51s\n",
            "\n",
            "bestTest = 0.4176862062\n",
            "bestIteration = 72\n",
            "\n",
            "11:\tloss: 0.4176862\tbest: 0.4147786 (8)\ttotal: 56.9s\tremaining: 1m 53s\n",
            "\n",
            "bestTest = 0.4587129893\n",
            "bestIteration = 999\n",
            "\n",
            "12:\tloss: 0.4587130\tbest: 0.4147786 (8)\ttotal: 1m 3s\tremaining: 1m 53s\n",
            "\n",
            "bestTest = 0.417960468\n",
            "bestIteration = 567\n",
            "\n",
            "13:\tloss: 0.4179605\tbest: 0.4147786 (8)\ttotal: 1m 11s\tremaining: 1m 51s\n",
            "\n",
            "bestTest = 0.41592707\n",
            "bestIteration = 65\n",
            "\n",
            "14:\tloss: 0.4159271\tbest: 0.4147786 (8)\ttotal: 1m 19s\tremaining: 1m 50s\n",
            "\n",
            "bestTest = 0.4590306961\n",
            "bestIteration = 999\n",
            "\n",
            "15:\tloss: 0.4590307\tbest: 0.4147786 (8)\ttotal: 1m 26s\tremaining: 1m 47s\n",
            "\n",
            "bestTest = 0.4178412969\n",
            "bestIteration = 521\n",
            "\n",
            "16:\tloss: 0.4178413\tbest: 0.4147786 (8)\ttotal: 1m 33s\tremaining: 1m 44s\n",
            "\n",
            "bestTest = 0.4196812968\n",
            "bestIteration = 40\n",
            "\n",
            "17:\tloss: 0.4196813\tbest: 0.4147786 (8)\ttotal: 1m 41s\tremaining: 1m 41s\n",
            "\n",
            "bestTest = 0.4530433985\n",
            "bestIteration = 999\n",
            "\n",
            "18:\tloss: 0.4530434\tbest: 0.4147786 (8)\ttotal: 1m 52s\tremaining: 1m 40s\n",
            "\n",
            "bestTest = 0.4178111861\n",
            "bestIteration = 409\n",
            "\n",
            "19:\tloss: 0.4178112\tbest: 0.4147786 (8)\ttotal: 2m 4s\tremaining: 1m 39s\n",
            "\n",
            "bestTest = 0.4156684095\n",
            "bestIteration = 56\n",
            "\n",
            "20:\tloss: 0.4156684\tbest: 0.4147786 (8)\ttotal: 2m 18s\tremaining: 1m 38s\n",
            "\n",
            "bestTest = 0.4536186286\n",
            "bestIteration = 999\n",
            "\n",
            "21:\tloss: 0.4536186\tbest: 0.4147786 (8)\ttotal: 2m 29s\tremaining: 1m 35s\n",
            "\n",
            "bestTest = 0.4181827718\n",
            "bestIteration = 487\n",
            "\n",
            "22:\tloss: 0.4181828\tbest: 0.4147786 (8)\ttotal: 2m 41s\tremaining: 1m 31s\n",
            "\n",
            "bestTest = 0.4180395889\n",
            "bestIteration = 41\n",
            "\n",
            "23:\tloss: 0.4180396\tbest: 0.4147786 (8)\ttotal: 2m 55s\tremaining: 1m 27s\n",
            "\n",
            "bestTest = 0.4539756977\n",
            "bestIteration = 999\n",
            "\n",
            "24:\tloss: 0.4539757\tbest: 0.4147786 (8)\ttotal: 3m 6s\tremaining: 1m 22s\n",
            "\n",
            "bestTest = 0.4188827212\n",
            "bestIteration = 409\n",
            "\n",
            "25:\tloss: 0.4188827\tbest: 0.4147786 (8)\ttotal: 3m 18s\tremaining: 1m 16s\n",
            "\n",
            "bestTest = 0.4161985631\n",
            "bestIteration = 37\n",
            "\n",
            "26:\tloss: 0.4161986\tbest: 0.4147786 (8)\ttotal: 3m 32s\tremaining: 1m 10s\n",
            "\n",
            "bestTest = 0.4489499851\n",
            "bestIteration = 999\n",
            "\n",
            "27:\tloss: 0.4489500\tbest: 0.4147786 (8)\ttotal: 3m 51s\tremaining: 1m 6s\n",
            "\n",
            "bestTest = 0.417499201\n",
            "bestIteration = 352\n",
            "\n",
            "28:\tloss: 0.4174992\tbest: 0.4147786 (8)\ttotal: 4m 13s\tremaining: 1m 1s\n",
            "\n",
            "bestTest = 0.4199918716\n",
            "bestIteration = 39\n",
            "\n",
            "29:\tloss: 0.4199919\tbest: 0.4147786 (8)\ttotal: 4m 38s\tremaining: 55.6s\n",
            "\n",
            "bestTest = 0.4511956909\n",
            "bestIteration = 999\n",
            "\n",
            "30:\tloss: 0.4511957\tbest: 0.4147786 (8)\ttotal: 4m 56s\tremaining: 47.9s\n",
            "\n",
            "bestTest = 0.4186501815\n",
            "bestIteration = 433\n",
            "\n",
            "31:\tloss: 0.4186502\tbest: 0.4147786 (8)\ttotal: 5m 19s\tremaining: 39.9s\n",
            "\n",
            "bestTest = 0.4202064985\n",
            "bestIteration = 29\n",
            "\n",
            "32:\tloss: 0.4202065\tbest: 0.4147786 (8)\ttotal: 5m 44s\tremaining: 31.3s\n",
            "\n",
            "bestTest = 0.451427821\n",
            "bestIteration = 999\n",
            "\n",
            "33:\tloss: 0.4514278\tbest: 0.4147786 (8)\ttotal: 6m 4s\tremaining: 21.4s\n",
            "\n",
            "bestTest = 0.420164655\n",
            "bestIteration = 333\n",
            "\n",
            "34:\tloss: 0.4201647\tbest: 0.4147786 (8)\ttotal: 6m 25s\tremaining: 11s\n",
            "\n",
            "bestTest = 0.4181593291\n",
            "bestIteration = 45\n",
            "\n",
            "35:\tloss: 0.4181593\tbest: 0.4147786 (8)\ttotal: 6m 51s\tremaining: 0us\n",
            "Estimating final quality...\n",
            "Training on fold [0/3]\n",
            "\n",
            "bestTest = 0.3941826034\n",
            "bestIteration = 233\n",
            "\n",
            "Training on fold [1/3]\n",
            "\n",
            "bestTest = 0.4285569622\n",
            "bestIteration = 171\n",
            "\n",
            "Training on fold [2/3]\n",
            "\n",
            "bestTest = 0.4008339002\n",
            "bestIteration = 160\n",
            "\n"
          ]
        }
      ]
    },
    {
      "cell_type": "code",
      "metadata": {
        "colab": {
          "base_uri": "https://localhost:8080/"
        },
        "id": "3Nds8yGEQMEw",
        "outputId": "024410d0-f2d8-4e12-8e67-f298c77b0ecc"
      },
      "source": [
        "grid_cv['params']"
      ],
      "execution_count": 226,
      "outputs": [
        {
          "output_type": "execute_result",
          "data": {
            "text/plain": [
              "{'depth': 2, 'l2_leaf_reg': 5, 'learning_rate': 0.1}"
            ]
          },
          "metadata": {},
          "execution_count": 226
        }
      ]
    },
    {
      "cell_type": "code",
      "metadata": {
        "colab": {
          "base_uri": "https://localhost:8080/"
        },
        "id": "FCIfgS8vQTQ6",
        "outputId": "c421ad64-ad90-4c46-fc96-d2fe40c4e887"
      },
      "source": [
        "boost = CatBoostClassifier(depth=2,\n",
        "                           l2_leaf_reg=5,\n",
        "                           learning_rate=0.1,\n",
        "                           cat_features=ix)\n",
        "boost.fit(X_train,y_train)\n",
        "y_train_pred = boost.predict_proba(X_train)[:,1]\n",
        "y_test_pred = boost.predict_proba(X_test)[:,1]"
      ],
      "execution_count": 227,
      "outputs": [
        {
          "output_type": "stream",
          "name": "stdout",
          "text": [
            "0:\tlearn: 0.6484564\ttotal: 4.82ms\tremaining: 4.81s\n",
            "1:\tlearn: 0.6123835\ttotal: 9.72ms\tremaining: 4.85s\n",
            "2:\tlearn: 0.5818704\ttotal: 14.5ms\tremaining: 4.82s\n",
            "3:\tlearn: 0.5601396\ttotal: 19.3ms\tremaining: 4.81s\n",
            "4:\tlearn: 0.5426471\ttotal: 23.9ms\tremaining: 4.75s\n",
            "5:\tlearn: 0.5267525\ttotal: 28.4ms\tremaining: 4.71s\n",
            "6:\tlearn: 0.5056926\ttotal: 32.8ms\tremaining: 4.65s\n",
            "7:\tlearn: 0.4899570\ttotal: 36.6ms\tremaining: 4.53s\n",
            "8:\tlearn: 0.4812441\ttotal: 41.1ms\tremaining: 4.53s\n",
            "9:\tlearn: 0.4712306\ttotal: 45.3ms\tremaining: 4.49s\n",
            "10:\tlearn: 0.4644340\ttotal: 49.4ms\tremaining: 4.44s\n",
            "11:\tlearn: 0.4580523\ttotal: 53ms\tremaining: 4.36s\n",
            "12:\tlearn: 0.4533716\ttotal: 57.2ms\tremaining: 4.34s\n",
            "13:\tlearn: 0.4491413\ttotal: 61.9ms\tremaining: 4.36s\n",
            "14:\tlearn: 0.4458011\ttotal: 66.5ms\tremaining: 4.37s\n",
            "15:\tlearn: 0.4427041\ttotal: 70.8ms\tremaining: 4.35s\n",
            "16:\tlearn: 0.4403398\ttotal: 74.9ms\tremaining: 4.33s\n",
            "17:\tlearn: 0.4374260\ttotal: 79.2ms\tremaining: 4.32s\n",
            "18:\tlearn: 0.4351663\ttotal: 83.1ms\tremaining: 4.29s\n",
            "19:\tlearn: 0.4333560\ttotal: 86.8ms\tremaining: 4.25s\n",
            "20:\tlearn: 0.4316483\ttotal: 90.8ms\tremaining: 4.23s\n",
            "21:\tlearn: 0.4301654\ttotal: 94.4ms\tremaining: 4.2s\n",
            "22:\tlearn: 0.4285224\ttotal: 98.6ms\tremaining: 4.19s\n",
            "23:\tlearn: 0.4264548\ttotal: 103ms\tremaining: 4.18s\n",
            "24:\tlearn: 0.4255049\ttotal: 106ms\tremaining: 4.15s\n",
            "25:\tlearn: 0.4238846\ttotal: 110ms\tremaining: 4.12s\n",
            "26:\tlearn: 0.4233964\ttotal: 115ms\tremaining: 4.14s\n",
            "27:\tlearn: 0.4222032\ttotal: 119ms\tremaining: 4.13s\n",
            "28:\tlearn: 0.4213864\ttotal: 123ms\tremaining: 4.12s\n",
            "29:\tlearn: 0.4204927\ttotal: 127ms\tremaining: 4.11s\n",
            "30:\tlearn: 0.4195809\ttotal: 132ms\tremaining: 4.11s\n",
            "31:\tlearn: 0.4193315\ttotal: 135ms\tremaining: 4.09s\n",
            "32:\tlearn: 0.4186006\ttotal: 139ms\tremaining: 4.08s\n",
            "33:\tlearn: 0.4177268\ttotal: 144ms\tremaining: 4.08s\n",
            "34:\tlearn: 0.4169805\ttotal: 148ms\tremaining: 4.08s\n",
            "35:\tlearn: 0.4168042\ttotal: 152ms\tremaining: 4.06s\n",
            "36:\tlearn: 0.4162007\ttotal: 156ms\tremaining: 4.06s\n",
            "37:\tlearn: 0.4159322\ttotal: 161ms\tremaining: 4.07s\n",
            "38:\tlearn: 0.4149880\ttotal: 165ms\tremaining: 4.06s\n",
            "39:\tlearn: 0.4144644\ttotal: 171ms\tremaining: 4.09s\n",
            "40:\tlearn: 0.4142764\ttotal: 175ms\tremaining: 4.09s\n",
            "41:\tlearn: 0.4137934\ttotal: 179ms\tremaining: 4.09s\n",
            "42:\tlearn: 0.4134350\ttotal: 183ms\tremaining: 4.08s\n",
            "43:\tlearn: 0.4131468\ttotal: 192ms\tremaining: 4.17s\n",
            "44:\tlearn: 0.4125900\ttotal: 197ms\tremaining: 4.17s\n",
            "45:\tlearn: 0.4122258\ttotal: 200ms\tremaining: 4.16s\n",
            "46:\tlearn: 0.4121073\ttotal: 205ms\tremaining: 4.15s\n",
            "47:\tlearn: 0.4116362\ttotal: 209ms\tremaining: 4.14s\n",
            "48:\tlearn: 0.4114025\ttotal: 213ms\tremaining: 4.14s\n",
            "49:\tlearn: 0.4111283\ttotal: 218ms\tremaining: 4.13s\n",
            "50:\tlearn: 0.4109948\ttotal: 222ms\tremaining: 4.14s\n",
            "51:\tlearn: 0.4107558\ttotal: 226ms\tremaining: 4.12s\n",
            "52:\tlearn: 0.4103993\ttotal: 232ms\tremaining: 4.15s\n",
            "53:\tlearn: 0.4100378\ttotal: 236ms\tremaining: 4.14s\n",
            "54:\tlearn: 0.4098703\ttotal: 241ms\tremaining: 4.14s\n",
            "55:\tlearn: 0.4095942\ttotal: 245ms\tremaining: 4.14s\n",
            "56:\tlearn: 0.4094839\ttotal: 250ms\tremaining: 4.13s\n",
            "57:\tlearn: 0.4094097\ttotal: 254ms\tremaining: 4.13s\n",
            "58:\tlearn: 0.4092352\ttotal: 259ms\tremaining: 4.13s\n",
            "59:\tlearn: 0.4091524\ttotal: 263ms\tremaining: 4.12s\n",
            "60:\tlearn: 0.4089995\ttotal: 269ms\tremaining: 4.15s\n",
            "61:\tlearn: 0.4086361\ttotal: 274ms\tremaining: 4.14s\n",
            "62:\tlearn: 0.4085832\ttotal: 277ms\tremaining: 4.12s\n",
            "63:\tlearn: 0.4084164\ttotal: 282ms\tremaining: 4.13s\n",
            "64:\tlearn: 0.4083094\ttotal: 287ms\tremaining: 4.12s\n",
            "65:\tlearn: 0.4082407\ttotal: 291ms\tremaining: 4.12s\n",
            "66:\tlearn: 0.4080822\ttotal: 295ms\tremaining: 4.11s\n",
            "67:\tlearn: 0.4080723\ttotal: 300ms\tremaining: 4.11s\n",
            "68:\tlearn: 0.4077862\ttotal: 304ms\tremaining: 4.1s\n",
            "69:\tlearn: 0.4074412\ttotal: 308ms\tremaining: 4.1s\n",
            "70:\tlearn: 0.4071184\ttotal: 313ms\tremaining: 4.1s\n",
            "71:\tlearn: 0.4067107\ttotal: 318ms\tremaining: 4.1s\n",
            "72:\tlearn: 0.4065918\ttotal: 322ms\tremaining: 4.09s\n",
            "73:\tlearn: 0.4065002\ttotal: 326ms\tremaining: 4.08s\n",
            "74:\tlearn: 0.4061252\ttotal: 331ms\tremaining: 4.08s\n",
            "75:\tlearn: 0.4060806\ttotal: 336ms\tremaining: 4.08s\n",
            "76:\tlearn: 0.4057081\ttotal: 341ms\tremaining: 4.08s\n",
            "77:\tlearn: 0.4056606\ttotal: 345ms\tremaining: 4.08s\n",
            "78:\tlearn: 0.4055798\ttotal: 349ms\tremaining: 4.07s\n",
            "79:\tlearn: 0.4052588\ttotal: 354ms\tremaining: 4.07s\n",
            "80:\tlearn: 0.4051862\ttotal: 358ms\tremaining: 4.06s\n",
            "81:\tlearn: 0.4051862\ttotal: 363ms\tremaining: 4.06s\n",
            "82:\tlearn: 0.4048460\ttotal: 367ms\tremaining: 4.06s\n",
            "83:\tlearn: 0.4045870\ttotal: 373ms\tremaining: 4.07s\n",
            "84:\tlearn: 0.4044849\ttotal: 380ms\tremaining: 4.09s\n",
            "85:\tlearn: 0.4043208\ttotal: 387ms\tremaining: 4.12s\n",
            "86:\tlearn: 0.4043191\ttotal: 392ms\tremaining: 4.11s\n",
            "87:\tlearn: 0.4042995\ttotal: 396ms\tremaining: 4.1s\n",
            "88:\tlearn: 0.4040357\ttotal: 400ms\tremaining: 4.1s\n",
            "89:\tlearn: 0.4039860\ttotal: 405ms\tremaining: 4.09s\n",
            "90:\tlearn: 0.4037431\ttotal: 409ms\tremaining: 4.08s\n",
            "91:\tlearn: 0.4034362\ttotal: 413ms\tremaining: 4.08s\n",
            "92:\tlearn: 0.4033373\ttotal: 417ms\tremaining: 4.07s\n",
            "93:\tlearn: 0.4031933\ttotal: 421ms\tremaining: 4.06s\n",
            "94:\tlearn: 0.4028948\ttotal: 426ms\tremaining: 4.05s\n",
            "95:\tlearn: 0.4027926\ttotal: 430ms\tremaining: 4.05s\n",
            "96:\tlearn: 0.4027915\ttotal: 434ms\tremaining: 4.04s\n",
            "97:\tlearn: 0.4025772\ttotal: 441ms\tremaining: 4.06s\n",
            "98:\tlearn: 0.4023680\ttotal: 445ms\tremaining: 4.05s\n",
            "99:\tlearn: 0.4023668\ttotal: 449ms\tremaining: 4.04s\n",
            "100:\tlearn: 0.4020693\ttotal: 453ms\tremaining: 4.03s\n",
            "101:\tlearn: 0.4019700\ttotal: 457ms\tremaining: 4.03s\n",
            "102:\tlearn: 0.4017196\ttotal: 463ms\tremaining: 4.03s\n",
            "103:\tlearn: 0.4015843\ttotal: 467ms\tremaining: 4.02s\n",
            "104:\tlearn: 0.4013346\ttotal: 471ms\tremaining: 4.02s\n",
            "105:\tlearn: 0.4011190\ttotal: 475ms\tremaining: 4s\n",
            "106:\tlearn: 0.4009465\ttotal: 479ms\tremaining: 4s\n",
            "107:\tlearn: 0.4009022\ttotal: 485ms\tremaining: 4.01s\n",
            "108:\tlearn: 0.4009012\ttotal: 491ms\tremaining: 4.01s\n",
            "109:\tlearn: 0.4005824\ttotal: 496ms\tremaining: 4.01s\n",
            "110:\tlearn: 0.4004273\ttotal: 502ms\tremaining: 4.02s\n",
            "111:\tlearn: 0.4004206\ttotal: 506ms\tremaining: 4.01s\n",
            "112:\tlearn: 0.4003395\ttotal: 512ms\tremaining: 4.01s\n",
            "113:\tlearn: 0.4001446\ttotal: 516ms\tremaining: 4.01s\n",
            "114:\tlearn: 0.4001398\ttotal: 521ms\tremaining: 4.01s\n",
            "115:\tlearn: 0.3999908\ttotal: 525ms\tremaining: 4s\n",
            "116:\tlearn: 0.3999884\ttotal: 529ms\tremaining: 3.99s\n",
            "117:\tlearn: 0.3997857\ttotal: 533ms\tremaining: 3.99s\n",
            "118:\tlearn: 0.3997639\ttotal: 538ms\tremaining: 3.98s\n",
            "119:\tlearn: 0.3997596\ttotal: 543ms\tremaining: 3.98s\n",
            "120:\tlearn: 0.3997593\ttotal: 547ms\tremaining: 3.97s\n",
            "121:\tlearn: 0.3994391\ttotal: 552ms\tremaining: 3.97s\n",
            "122:\tlearn: 0.3994385\ttotal: 556ms\tremaining: 3.97s\n",
            "123:\tlearn: 0.3993539\ttotal: 560ms\tremaining: 3.96s\n",
            "124:\tlearn: 0.3993499\ttotal: 569ms\tremaining: 3.98s\n",
            "125:\tlearn: 0.3993143\ttotal: 575ms\tremaining: 3.98s\n",
            "126:\tlearn: 0.3991656\ttotal: 579ms\tremaining: 3.98s\n",
            "127:\tlearn: 0.3990219\ttotal: 583ms\tremaining: 3.97s\n",
            "128:\tlearn: 0.3989460\ttotal: 588ms\tremaining: 3.97s\n",
            "129:\tlearn: 0.3986823\ttotal: 592ms\tremaining: 3.96s\n",
            "130:\tlearn: 0.3986822\ttotal: 596ms\tremaining: 3.96s\n",
            "131:\tlearn: 0.3986464\ttotal: 600ms\tremaining: 3.95s\n",
            "132:\tlearn: 0.3985170\ttotal: 604ms\tremaining: 3.94s\n",
            "133:\tlearn: 0.3983257\ttotal: 608ms\tremaining: 3.93s\n",
            "134:\tlearn: 0.3982984\ttotal: 612ms\tremaining: 3.92s\n",
            "135:\tlearn: 0.3981740\ttotal: 616ms\tremaining: 3.91s\n",
            "136:\tlearn: 0.3981296\ttotal: 621ms\tremaining: 3.91s\n",
            "137:\tlearn: 0.3980387\ttotal: 625ms\tremaining: 3.9s\n",
            "138:\tlearn: 0.3980063\ttotal: 629ms\tremaining: 3.9s\n",
            "139:\tlearn: 0.3979943\ttotal: 633ms\tremaining: 3.89s\n",
            "140:\tlearn: 0.3979943\ttotal: 637ms\tremaining: 3.88s\n",
            "141:\tlearn: 0.3978342\ttotal: 642ms\tremaining: 3.88s\n",
            "142:\tlearn: 0.3977255\ttotal: 646ms\tremaining: 3.87s\n",
            "143:\tlearn: 0.3976674\ttotal: 650ms\tremaining: 3.87s\n",
            "144:\tlearn: 0.3975968\ttotal: 655ms\tremaining: 3.86s\n",
            "145:\tlearn: 0.3975401\ttotal: 660ms\tremaining: 3.86s\n",
            "146:\tlearn: 0.3973066\ttotal: 668ms\tremaining: 3.88s\n",
            "147:\tlearn: 0.3972307\ttotal: 676ms\tremaining: 3.89s\n",
            "148:\tlearn: 0.3970383\ttotal: 682ms\tremaining: 3.9s\n",
            "149:\tlearn: 0.3970383\ttotal: 687ms\tremaining: 3.89s\n",
            "150:\tlearn: 0.3970012\ttotal: 695ms\tremaining: 3.9s\n",
            "151:\tlearn: 0.3969788\ttotal: 699ms\tremaining: 3.9s\n",
            "152:\tlearn: 0.3968227\ttotal: 703ms\tremaining: 3.89s\n",
            "153:\tlearn: 0.3966760\ttotal: 707ms\tremaining: 3.88s\n",
            "154:\tlearn: 0.3966543\ttotal: 711ms\tremaining: 3.88s\n",
            "155:\tlearn: 0.3964892\ttotal: 716ms\tremaining: 3.87s\n",
            "156:\tlearn: 0.3964703\ttotal: 720ms\tremaining: 3.87s\n",
            "157:\tlearn: 0.3964253\ttotal: 725ms\tremaining: 3.86s\n",
            "158:\tlearn: 0.3963586\ttotal: 728ms\tremaining: 3.85s\n",
            "159:\tlearn: 0.3963220\ttotal: 732ms\tremaining: 3.84s\n",
            "160:\tlearn: 0.3963195\ttotal: 736ms\tremaining: 3.84s\n",
            "161:\tlearn: 0.3963006\ttotal: 742ms\tremaining: 3.84s\n",
            "162:\tlearn: 0.3962156\ttotal: 746ms\tremaining: 3.83s\n",
            "163:\tlearn: 0.3962016\ttotal: 755ms\tremaining: 3.85s\n",
            "164:\tlearn: 0.3961437\ttotal: 759ms\tremaining: 3.84s\n",
            "165:\tlearn: 0.3960715\ttotal: 764ms\tremaining: 3.84s\n",
            "166:\tlearn: 0.3959159\ttotal: 768ms\tremaining: 3.83s\n",
            "167:\tlearn: 0.3957700\ttotal: 773ms\tremaining: 3.83s\n",
            "168:\tlearn: 0.3957118\ttotal: 778ms\tremaining: 3.82s\n",
            "169:\tlearn: 0.3956671\ttotal: 782ms\tremaining: 3.82s\n",
            "170:\tlearn: 0.3956604\ttotal: 786ms\tremaining: 3.81s\n",
            "171:\tlearn: 0.3956120\ttotal: 791ms\tremaining: 3.81s\n",
            "172:\tlearn: 0.3956112\ttotal: 795ms\tremaining: 3.8s\n",
            "173:\tlearn: 0.3955615\ttotal: 799ms\tremaining: 3.79s\n",
            "174:\tlearn: 0.3955477\ttotal: 803ms\tremaining: 3.79s\n",
            "175:\tlearn: 0.3955374\ttotal: 808ms\tremaining: 3.78s\n",
            "176:\tlearn: 0.3955366\ttotal: 812ms\tremaining: 3.77s\n",
            "177:\tlearn: 0.3954523\ttotal: 816ms\tremaining: 3.77s\n",
            "178:\tlearn: 0.3954456\ttotal: 819ms\tremaining: 3.76s\n",
            "179:\tlearn: 0.3954456\ttotal: 823ms\tremaining: 3.75s\n",
            "180:\tlearn: 0.3954268\ttotal: 827ms\tremaining: 3.74s\n",
            "181:\tlearn: 0.3953651\ttotal: 831ms\tremaining: 3.74s\n",
            "182:\tlearn: 0.3953365\ttotal: 835ms\tremaining: 3.73s\n",
            "183:\tlearn: 0.3952844\ttotal: 840ms\tremaining: 3.72s\n",
            "184:\tlearn: 0.3951517\ttotal: 844ms\tremaining: 3.72s\n",
            "185:\tlearn: 0.3950220\ttotal: 848ms\tremaining: 3.71s\n",
            "186:\tlearn: 0.3949547\ttotal: 853ms\tremaining: 3.71s\n",
            "187:\tlearn: 0.3948537\ttotal: 857ms\tremaining: 3.7s\n",
            "188:\tlearn: 0.3947275\ttotal: 862ms\tremaining: 3.7s\n",
            "189:\tlearn: 0.3947274\ttotal: 866ms\tremaining: 3.69s\n",
            "190:\tlearn: 0.3947016\ttotal: 870ms\tremaining: 3.68s\n",
            "191:\tlearn: 0.3946697\ttotal: 874ms\tremaining: 3.68s\n",
            "192:\tlearn: 0.3946696\ttotal: 877ms\tremaining: 3.67s\n",
            "193:\tlearn: 0.3946571\ttotal: 881ms\tremaining: 3.66s\n",
            "194:\tlearn: 0.3946403\ttotal: 884ms\tremaining: 3.65s\n",
            "195:\tlearn: 0.3946403\ttotal: 890ms\tremaining: 3.65s\n",
            "196:\tlearn: 0.3945217\ttotal: 895ms\tremaining: 3.65s\n",
            "197:\tlearn: 0.3944660\ttotal: 900ms\tremaining: 3.64s\n",
            "198:\tlearn: 0.3944640\ttotal: 904ms\tremaining: 3.64s\n",
            "199:\tlearn: 0.3944640\ttotal: 909ms\tremaining: 3.63s\n",
            "200:\tlearn: 0.3944335\ttotal: 913ms\tremaining: 3.63s\n",
            "201:\tlearn: 0.3942409\ttotal: 917ms\tremaining: 3.62s\n",
            "202:\tlearn: 0.3942036\ttotal: 924ms\tremaining: 3.63s\n",
            "203:\tlearn: 0.3941565\ttotal: 930ms\tremaining: 3.63s\n",
            "204:\tlearn: 0.3941415\ttotal: 934ms\tremaining: 3.62s\n",
            "205:\tlearn: 0.3941414\ttotal: 943ms\tremaining: 3.63s\n",
            "206:\tlearn: 0.3940399\ttotal: 947ms\tremaining: 3.63s\n",
            "207:\tlearn: 0.3940399\ttotal: 951ms\tremaining: 3.62s\n",
            "208:\tlearn: 0.3939968\ttotal: 954ms\tremaining: 3.61s\n",
            "209:\tlearn: 0.3938723\ttotal: 958ms\tremaining: 3.6s\n",
            "210:\tlearn: 0.3938723\ttotal: 962ms\tremaining: 3.6s\n",
            "211:\tlearn: 0.3938434\ttotal: 966ms\tremaining: 3.59s\n",
            "212:\tlearn: 0.3937995\ttotal: 969ms\tremaining: 3.58s\n",
            "213:\tlearn: 0.3937871\ttotal: 974ms\tremaining: 3.58s\n",
            "214:\tlearn: 0.3937681\ttotal: 977ms\tremaining: 3.57s\n",
            "215:\tlearn: 0.3937326\ttotal: 981ms\tremaining: 3.56s\n",
            "216:\tlearn: 0.3936015\ttotal: 986ms\tremaining: 3.56s\n",
            "217:\tlearn: 0.3935913\ttotal: 989ms\tremaining: 3.55s\n",
            "218:\tlearn: 0.3935630\ttotal: 994ms\tremaining: 3.54s\n",
            "219:\tlearn: 0.3934369\ttotal: 998ms\tremaining: 3.54s\n",
            "220:\tlearn: 0.3934339\ttotal: 1s\tremaining: 3.53s\n",
            "221:\tlearn: 0.3934211\ttotal: 1s\tremaining: 3.52s\n",
            "222:\tlearn: 0.3933841\ttotal: 1.01s\tremaining: 3.52s\n",
            "223:\tlearn: 0.3932451\ttotal: 1.01s\tremaining: 3.51s\n",
            "224:\tlearn: 0.3932273\ttotal: 1.02s\tremaining: 3.5s\n",
            "225:\tlearn: 0.3930460\ttotal: 1.02s\tremaining: 3.5s\n",
            "226:\tlearn: 0.3930054\ttotal: 1.03s\tremaining: 3.49s\n",
            "227:\tlearn: 0.3929727\ttotal: 1.03s\tremaining: 3.49s\n",
            "228:\tlearn: 0.3929666\ttotal: 1.03s\tremaining: 3.48s\n",
            "229:\tlearn: 0.3929306\ttotal: 1.04s\tremaining: 3.47s\n",
            "230:\tlearn: 0.3929190\ttotal: 1.04s\tremaining: 3.47s\n",
            "231:\tlearn: 0.3929190\ttotal: 1.04s\tremaining: 3.46s\n",
            "232:\tlearn: 0.3928549\ttotal: 1.05s\tremaining: 3.46s\n",
            "233:\tlearn: 0.3928449\ttotal: 1.05s\tremaining: 3.45s\n",
            "234:\tlearn: 0.3928124\ttotal: 1.06s\tremaining: 3.45s\n",
            "235:\tlearn: 0.3928124\ttotal: 1.06s\tremaining: 3.45s\n",
            "236:\tlearn: 0.3927031\ttotal: 1.07s\tremaining: 3.44s\n",
            "237:\tlearn: 0.3927031\ttotal: 1.07s\tremaining: 3.43s\n",
            "238:\tlearn: 0.3926683\ttotal: 1.08s\tremaining: 3.43s\n",
            "239:\tlearn: 0.3926526\ttotal: 1.08s\tremaining: 3.42s\n",
            "240:\tlearn: 0.3925511\ttotal: 1.08s\tremaining: 3.41s\n",
            "241:\tlearn: 0.3925466\ttotal: 1.09s\tremaining: 3.41s\n",
            "242:\tlearn: 0.3924038\ttotal: 1.09s\tremaining: 3.4s\n",
            "243:\tlearn: 0.3922928\ttotal: 1.1s\tremaining: 3.4s\n",
            "244:\tlearn: 0.3922309\ttotal: 1.1s\tremaining: 3.4s\n",
            "245:\tlearn: 0.3922239\ttotal: 1.11s\tremaining: 3.39s\n",
            "246:\tlearn: 0.3921858\ttotal: 1.11s\tremaining: 3.38s\n",
            "247:\tlearn: 0.3919694\ttotal: 1.11s\tremaining: 3.38s\n",
            "248:\tlearn: 0.3919246\ttotal: 1.12s\tremaining: 3.37s\n",
            "249:\tlearn: 0.3919211\ttotal: 1.12s\tremaining: 3.37s\n",
            "250:\tlearn: 0.3918798\ttotal: 1.13s\tremaining: 3.37s\n",
            "251:\tlearn: 0.3918580\ttotal: 1.13s\tremaining: 3.37s\n",
            "252:\tlearn: 0.3918504\ttotal: 1.14s\tremaining: 3.37s\n",
            "253:\tlearn: 0.3918078\ttotal: 1.15s\tremaining: 3.37s\n",
            "254:\tlearn: 0.3917993\ttotal: 1.15s\tremaining: 3.36s\n",
            "255:\tlearn: 0.3916277\ttotal: 1.16s\tremaining: 3.36s\n",
            "256:\tlearn: 0.3915024\ttotal: 1.16s\tremaining: 3.35s\n",
            "257:\tlearn: 0.3914913\ttotal: 1.16s\tremaining: 3.35s\n",
            "258:\tlearn: 0.3914222\ttotal: 1.17s\tremaining: 3.34s\n",
            "259:\tlearn: 0.3913305\ttotal: 1.17s\tremaining: 3.34s\n",
            "260:\tlearn: 0.3913235\ttotal: 1.18s\tremaining: 3.33s\n",
            "261:\tlearn: 0.3911869\ttotal: 1.18s\tremaining: 3.32s\n",
            "262:\tlearn: 0.3911336\ttotal: 1.18s\tremaining: 3.32s\n",
            "263:\tlearn: 0.3911268\ttotal: 1.19s\tremaining: 3.31s\n",
            "264:\tlearn: 0.3911214\ttotal: 1.19s\tremaining: 3.31s\n",
            "265:\tlearn: 0.3910725\ttotal: 1.2s\tremaining: 3.31s\n",
            "266:\tlearn: 0.3910136\ttotal: 1.2s\tremaining: 3.3s\n",
            "267:\tlearn: 0.3909922\ttotal: 1.21s\tremaining: 3.3s\n",
            "268:\tlearn: 0.3909919\ttotal: 1.21s\tremaining: 3.29s\n",
            "269:\tlearn: 0.3909919\ttotal: 1.22s\tremaining: 3.29s\n",
            "270:\tlearn: 0.3909352\ttotal: 1.22s\tremaining: 3.29s\n",
            "271:\tlearn: 0.3908067\ttotal: 1.23s\tremaining: 3.28s\n",
            "272:\tlearn: 0.3907749\ttotal: 1.23s\tremaining: 3.28s\n",
            "273:\tlearn: 0.3907423\ttotal: 1.24s\tremaining: 3.28s\n",
            "274:\tlearn: 0.3907118\ttotal: 1.24s\tremaining: 3.27s\n",
            "275:\tlearn: 0.3906615\ttotal: 1.25s\tremaining: 3.27s\n",
            "276:\tlearn: 0.3906596\ttotal: 1.25s\tremaining: 3.26s\n",
            "277:\tlearn: 0.3906167\ttotal: 1.25s\tremaining: 3.26s\n",
            "278:\tlearn: 0.3906147\ttotal: 1.26s\tremaining: 3.25s\n",
            "279:\tlearn: 0.3905750\ttotal: 1.26s\tremaining: 3.25s\n",
            "280:\tlearn: 0.3905750\ttotal: 1.27s\tremaining: 3.24s\n",
            "281:\tlearn: 0.3905151\ttotal: 1.27s\tremaining: 3.24s\n",
            "282:\tlearn: 0.3904216\ttotal: 1.28s\tremaining: 3.23s\n",
            "283:\tlearn: 0.3902899\ttotal: 1.28s\tremaining: 3.23s\n",
            "284:\tlearn: 0.3902676\ttotal: 1.28s\tremaining: 3.23s\n",
            "285:\tlearn: 0.3902675\ttotal: 1.29s\tremaining: 3.22s\n",
            "286:\tlearn: 0.3902422\ttotal: 1.29s\tremaining: 3.22s\n",
            "287:\tlearn: 0.3902385\ttotal: 1.3s\tremaining: 3.21s\n",
            "288:\tlearn: 0.3902226\ttotal: 1.3s\tremaining: 3.21s\n",
            "289:\tlearn: 0.3902202\ttotal: 1.31s\tremaining: 3.2s\n",
            "290:\tlearn: 0.3901614\ttotal: 1.31s\tremaining: 3.19s\n",
            "291:\tlearn: 0.3901550\ttotal: 1.31s\tremaining: 3.19s\n",
            "292:\tlearn: 0.3900879\ttotal: 1.32s\tremaining: 3.19s\n",
            "293:\tlearn: 0.3900101\ttotal: 1.33s\tremaining: 3.19s\n",
            "294:\tlearn: 0.3898689\ttotal: 1.34s\tremaining: 3.19s\n",
            "295:\tlearn: 0.3898280\ttotal: 1.35s\tremaining: 3.21s\n",
            "296:\tlearn: 0.3897328\ttotal: 1.36s\tremaining: 3.23s\n",
            "297:\tlearn: 0.3897311\ttotal: 1.37s\tremaining: 3.22s\n",
            "298:\tlearn: 0.3897053\ttotal: 1.37s\tremaining: 3.22s\n",
            "299:\tlearn: 0.3897033\ttotal: 1.38s\tremaining: 3.21s\n",
            "300:\tlearn: 0.3895813\ttotal: 1.38s\tremaining: 3.21s\n",
            "301:\tlearn: 0.3895548\ttotal: 1.39s\tremaining: 3.2s\n",
            "302:\tlearn: 0.3895265\ttotal: 1.39s\tremaining: 3.2s\n",
            "303:\tlearn: 0.3895150\ttotal: 1.39s\tremaining: 3.19s\n",
            "304:\tlearn: 0.3895096\ttotal: 1.4s\tremaining: 3.19s\n",
            "305:\tlearn: 0.3894941\ttotal: 1.4s\tremaining: 3.18s\n",
            "306:\tlearn: 0.3894926\ttotal: 1.41s\tremaining: 3.18s\n",
            "307:\tlearn: 0.3894795\ttotal: 1.41s\tremaining: 3.17s\n",
            "308:\tlearn: 0.3894666\ttotal: 1.42s\tremaining: 3.17s\n",
            "309:\tlearn: 0.3894169\ttotal: 1.42s\tremaining: 3.16s\n",
            "310:\tlearn: 0.3893881\ttotal: 1.42s\tremaining: 3.15s\n",
            "311:\tlearn: 0.3893875\ttotal: 1.43s\tremaining: 3.15s\n",
            "312:\tlearn: 0.3892816\ttotal: 1.43s\tremaining: 3.14s\n",
            "313:\tlearn: 0.3892736\ttotal: 1.44s\tremaining: 3.13s\n",
            "314:\tlearn: 0.3891566\ttotal: 1.44s\tremaining: 3.13s\n",
            "315:\tlearn: 0.3891108\ttotal: 1.45s\tremaining: 3.13s\n",
            "316:\tlearn: 0.3891082\ttotal: 1.45s\tremaining: 3.12s\n",
            "317:\tlearn: 0.3891082\ttotal: 1.45s\tremaining: 3.12s\n",
            "318:\tlearn: 0.3890938\ttotal: 1.46s\tremaining: 3.11s\n",
            "319:\tlearn: 0.3890095\ttotal: 1.46s\tremaining: 3.11s\n",
            "320:\tlearn: 0.3890010\ttotal: 1.47s\tremaining: 3.1s\n",
            "321:\tlearn: 0.3889752\ttotal: 1.47s\tremaining: 3.1s\n",
            "322:\tlearn: 0.3889373\ttotal: 1.48s\tremaining: 3.09s\n",
            "323:\tlearn: 0.3889255\ttotal: 1.48s\tremaining: 3.09s\n",
            "324:\tlearn: 0.3888342\ttotal: 1.49s\tremaining: 3.09s\n",
            "325:\tlearn: 0.3887991\ttotal: 1.49s\tremaining: 3.08s\n",
            "326:\tlearn: 0.3887985\ttotal: 1.49s\tremaining: 3.08s\n",
            "327:\tlearn: 0.3886786\ttotal: 1.5s\tremaining: 3.07s\n",
            "328:\tlearn: 0.3886477\ttotal: 1.5s\tremaining: 3.06s\n",
            "329:\tlearn: 0.3886477\ttotal: 1.51s\tremaining: 3.06s\n",
            "330:\tlearn: 0.3885712\ttotal: 1.51s\tremaining: 3.06s\n",
            "331:\tlearn: 0.3885576\ttotal: 1.52s\tremaining: 3.05s\n",
            "332:\tlearn: 0.3885246\ttotal: 1.52s\tremaining: 3.05s\n",
            "333:\tlearn: 0.3884152\ttotal: 1.53s\tremaining: 3.05s\n",
            "334:\tlearn: 0.3884013\ttotal: 1.53s\tremaining: 3.05s\n",
            "335:\tlearn: 0.3883694\ttotal: 1.54s\tremaining: 3.04s\n",
            "336:\tlearn: 0.3883103\ttotal: 1.54s\tremaining: 3.03s\n",
            "337:\tlearn: 0.3883078\ttotal: 1.55s\tremaining: 3.03s\n",
            "338:\tlearn: 0.3882460\ttotal: 1.55s\tremaining: 3.02s\n",
            "339:\tlearn: 0.3882211\ttotal: 1.55s\tremaining: 3.02s\n",
            "340:\tlearn: 0.3881120\ttotal: 1.56s\tremaining: 3.02s\n",
            "341:\tlearn: 0.3880785\ttotal: 1.56s\tremaining: 3.01s\n",
            "342:\tlearn: 0.3880769\ttotal: 1.57s\tremaining: 3.01s\n",
            "343:\tlearn: 0.3880620\ttotal: 1.57s\tremaining: 3s\n",
            "344:\tlearn: 0.3880501\ttotal: 1.58s\tremaining: 3s\n",
            "345:\tlearn: 0.3880396\ttotal: 1.58s\tremaining: 2.99s\n",
            "346:\tlearn: 0.3879900\ttotal: 1.59s\tremaining: 2.99s\n",
            "347:\tlearn: 0.3879580\ttotal: 1.59s\tremaining: 2.98s\n",
            "348:\tlearn: 0.3878585\ttotal: 1.59s\tremaining: 2.98s\n",
            "349:\tlearn: 0.3878534\ttotal: 1.6s\tremaining: 2.97s\n",
            "350:\tlearn: 0.3878523\ttotal: 1.6s\tremaining: 2.97s\n",
            "351:\tlearn: 0.3877958\ttotal: 1.61s\tremaining: 2.96s\n",
            "352:\tlearn: 0.3877024\ttotal: 1.62s\tremaining: 2.96s\n",
            "353:\tlearn: 0.3876838\ttotal: 1.63s\tremaining: 2.97s\n",
            "354:\tlearn: 0.3876824\ttotal: 1.63s\tremaining: 2.96s\n",
            "355:\tlearn: 0.3874664\ttotal: 1.64s\tremaining: 2.96s\n",
            "356:\tlearn: 0.3873833\ttotal: 1.64s\tremaining: 2.95s\n",
            "357:\tlearn: 0.3873807\ttotal: 1.64s\tremaining: 2.95s\n",
            "358:\tlearn: 0.3873490\ttotal: 1.65s\tremaining: 2.94s\n",
            "359:\tlearn: 0.3873018\ttotal: 1.65s\tremaining: 2.94s\n",
            "360:\tlearn: 0.3872965\ttotal: 1.66s\tremaining: 2.93s\n",
            "361:\tlearn: 0.3872946\ttotal: 1.66s\tremaining: 2.93s\n",
            "362:\tlearn: 0.3872647\ttotal: 1.67s\tremaining: 2.92s\n",
            "363:\tlearn: 0.3872406\ttotal: 1.67s\tremaining: 2.92s\n",
            "364:\tlearn: 0.3872351\ttotal: 1.67s\tremaining: 2.91s\n",
            "365:\tlearn: 0.3872182\ttotal: 1.68s\tremaining: 2.91s\n",
            "366:\tlearn: 0.3872050\ttotal: 1.68s\tremaining: 2.9s\n",
            "367:\tlearn: 0.3871057\ttotal: 1.69s\tremaining: 2.9s\n",
            "368:\tlearn: 0.3871057\ttotal: 1.69s\tremaining: 2.89s\n",
            "369:\tlearn: 0.3870895\ttotal: 1.69s\tremaining: 2.88s\n",
            "370:\tlearn: 0.3870530\ttotal: 1.7s\tremaining: 2.88s\n",
            "371:\tlearn: 0.3870485\ttotal: 1.7s\tremaining: 2.87s\n",
            "372:\tlearn: 0.3869664\ttotal: 1.71s\tremaining: 2.87s\n",
            "373:\tlearn: 0.3869445\ttotal: 1.71s\tremaining: 2.86s\n",
            "374:\tlearn: 0.3869445\ttotal: 1.72s\tremaining: 2.87s\n",
            "375:\tlearn: 0.3869377\ttotal: 1.73s\tremaining: 2.86s\n",
            "376:\tlearn: 0.3869111\ttotal: 1.73s\tremaining: 2.86s\n",
            "377:\tlearn: 0.3868639\ttotal: 1.73s\tremaining: 2.85s\n",
            "378:\tlearn: 0.3868639\ttotal: 1.74s\tremaining: 2.85s\n",
            "379:\tlearn: 0.3868513\ttotal: 1.74s\tremaining: 2.84s\n",
            "380:\tlearn: 0.3868486\ttotal: 1.74s\tremaining: 2.83s\n",
            "381:\tlearn: 0.3868437\ttotal: 1.75s\tremaining: 2.83s\n",
            "382:\tlearn: 0.3868430\ttotal: 1.75s\tremaining: 2.82s\n",
            "383:\tlearn: 0.3867421\ttotal: 1.75s\tremaining: 2.81s\n",
            "384:\tlearn: 0.3867412\ttotal: 1.76s\tremaining: 2.81s\n",
            "385:\tlearn: 0.3867170\ttotal: 1.76s\tremaining: 2.8s\n",
            "386:\tlearn: 0.3867033\ttotal: 1.77s\tremaining: 2.8s\n",
            "387:\tlearn: 0.3867033\ttotal: 1.77s\tremaining: 2.79s\n",
            "388:\tlearn: 0.3866212\ttotal: 1.77s\tremaining: 2.79s\n",
            "389:\tlearn: 0.3865906\ttotal: 1.78s\tremaining: 2.78s\n",
            "390:\tlearn: 0.3865394\ttotal: 1.79s\tremaining: 2.78s\n",
            "391:\tlearn: 0.3865256\ttotal: 1.79s\tremaining: 2.78s\n",
            "392:\tlearn: 0.3865248\ttotal: 1.8s\tremaining: 2.77s\n",
            "393:\tlearn: 0.3865059\ttotal: 1.8s\tremaining: 2.77s\n",
            "394:\tlearn: 0.3864974\ttotal: 1.81s\tremaining: 2.77s\n",
            "395:\tlearn: 0.3864839\ttotal: 1.81s\tremaining: 2.76s\n",
            "396:\tlearn: 0.3864709\ttotal: 1.81s\tremaining: 2.76s\n",
            "397:\tlearn: 0.3864696\ttotal: 1.82s\tremaining: 2.75s\n",
            "398:\tlearn: 0.3864630\ttotal: 1.82s\tremaining: 2.75s\n",
            "399:\tlearn: 0.3864548\ttotal: 1.83s\tremaining: 2.74s\n",
            "400:\tlearn: 0.3864258\ttotal: 1.83s\tremaining: 2.73s\n",
            "401:\tlearn: 0.3863830\ttotal: 1.83s\tremaining: 2.73s\n",
            "402:\tlearn: 0.3863582\ttotal: 1.84s\tremaining: 2.72s\n",
            "403:\tlearn: 0.3862814\ttotal: 1.84s\tremaining: 2.72s\n",
            "404:\tlearn: 0.3862734\ttotal: 1.85s\tremaining: 2.71s\n",
            "405:\tlearn: 0.3861285\ttotal: 1.85s\tremaining: 2.71s\n",
            "406:\tlearn: 0.3860426\ttotal: 1.86s\tremaining: 2.7s\n",
            "407:\tlearn: 0.3860302\ttotal: 1.86s\tremaining: 2.7s\n",
            "408:\tlearn: 0.3860200\ttotal: 1.86s\tremaining: 2.69s\n",
            "409:\tlearn: 0.3860097\ttotal: 1.87s\tremaining: 2.69s\n",
            "410:\tlearn: 0.3859816\ttotal: 1.87s\tremaining: 2.68s\n",
            "411:\tlearn: 0.3859739\ttotal: 1.88s\tremaining: 2.68s\n",
            "412:\tlearn: 0.3859065\ttotal: 1.88s\tremaining: 2.67s\n",
            "413:\tlearn: 0.3859061\ttotal: 1.88s\tremaining: 2.67s\n",
            "414:\tlearn: 0.3858127\ttotal: 1.89s\tremaining: 2.66s\n",
            "415:\tlearn: 0.3858064\ttotal: 1.9s\tremaining: 2.67s\n",
            "416:\tlearn: 0.3858064\ttotal: 1.91s\tremaining: 2.67s\n",
            "417:\tlearn: 0.3857898\ttotal: 1.91s\tremaining: 2.66s\n",
            "418:\tlearn: 0.3857255\ttotal: 1.92s\tremaining: 2.66s\n",
            "419:\tlearn: 0.3855271\ttotal: 1.92s\tremaining: 2.65s\n",
            "420:\tlearn: 0.3854950\ttotal: 1.93s\tremaining: 2.65s\n",
            "421:\tlearn: 0.3854683\ttotal: 1.93s\tremaining: 2.64s\n",
            "422:\tlearn: 0.3854304\ttotal: 1.93s\tremaining: 2.64s\n",
            "423:\tlearn: 0.3853525\ttotal: 1.94s\tremaining: 2.63s\n",
            "424:\tlearn: 0.3852871\ttotal: 1.94s\tremaining: 2.63s\n",
            "425:\tlearn: 0.3852662\ttotal: 1.95s\tremaining: 2.63s\n",
            "426:\tlearn: 0.3852064\ttotal: 1.95s\tremaining: 2.62s\n",
            "427:\tlearn: 0.3850672\ttotal: 1.96s\tremaining: 2.62s\n",
            "428:\tlearn: 0.3850352\ttotal: 1.96s\tremaining: 2.61s\n",
            "429:\tlearn: 0.3849116\ttotal: 1.96s\tremaining: 2.6s\n",
            "430:\tlearn: 0.3847926\ttotal: 1.97s\tremaining: 2.6s\n",
            "431:\tlearn: 0.3847126\ttotal: 1.97s\tremaining: 2.59s\n",
            "432:\tlearn: 0.3847061\ttotal: 1.97s\tremaining: 2.58s\n",
            "433:\tlearn: 0.3845761\ttotal: 1.98s\tremaining: 2.58s\n",
            "434:\tlearn: 0.3845662\ttotal: 1.98s\tremaining: 2.58s\n",
            "435:\tlearn: 0.3845317\ttotal: 1.99s\tremaining: 2.57s\n",
            "436:\tlearn: 0.3844136\ttotal: 1.99s\tremaining: 2.56s\n",
            "437:\tlearn: 0.3842801\ttotal: 2s\tremaining: 2.56s\n",
            "438:\tlearn: 0.3842421\ttotal: 2s\tremaining: 2.56s\n",
            "439:\tlearn: 0.3842230\ttotal: 2s\tremaining: 2.55s\n",
            "440:\tlearn: 0.3842211\ttotal: 2.01s\tremaining: 2.55s\n",
            "441:\tlearn: 0.3842084\ttotal: 2.01s\tremaining: 2.54s\n",
            "442:\tlearn: 0.3842084\ttotal: 2.02s\tremaining: 2.54s\n",
            "443:\tlearn: 0.3842084\ttotal: 2.02s\tremaining: 2.53s\n",
            "444:\tlearn: 0.3841869\ttotal: 2.03s\tremaining: 2.53s\n",
            "445:\tlearn: 0.3841868\ttotal: 2.03s\tremaining: 2.52s\n",
            "446:\tlearn: 0.3841868\ttotal: 2.03s\tremaining: 2.52s\n",
            "447:\tlearn: 0.3841820\ttotal: 2.04s\tremaining: 2.51s\n",
            "448:\tlearn: 0.3841710\ttotal: 2.04s\tremaining: 2.51s\n",
            "449:\tlearn: 0.3841563\ttotal: 2.05s\tremaining: 2.5s\n",
            "450:\tlearn: 0.3841234\ttotal: 2.05s\tremaining: 2.5s\n",
            "451:\tlearn: 0.3841234\ttotal: 2.05s\tremaining: 2.49s\n",
            "452:\tlearn: 0.3840873\ttotal: 2.06s\tremaining: 2.49s\n",
            "453:\tlearn: 0.3840820\ttotal: 2.06s\tremaining: 2.48s\n",
            "454:\tlearn: 0.3840709\ttotal: 2.07s\tremaining: 2.48s\n",
            "455:\tlearn: 0.3840384\ttotal: 2.07s\tremaining: 2.47s\n",
            "456:\tlearn: 0.3838966\ttotal: 2.08s\tremaining: 2.47s\n",
            "457:\tlearn: 0.3838695\ttotal: 2.08s\tremaining: 2.46s\n",
            "458:\tlearn: 0.3838070\ttotal: 2.08s\tremaining: 2.46s\n",
            "459:\tlearn: 0.3837979\ttotal: 2.09s\tremaining: 2.45s\n",
            "460:\tlearn: 0.3837805\ttotal: 2.09s\tremaining: 2.45s\n",
            "461:\tlearn: 0.3836983\ttotal: 2.1s\tremaining: 2.44s\n",
            "462:\tlearn: 0.3836254\ttotal: 2.11s\tremaining: 2.44s\n",
            "463:\tlearn: 0.3835704\ttotal: 2.11s\tremaining: 2.44s\n",
            "464:\tlearn: 0.3835233\ttotal: 2.12s\tremaining: 2.44s\n",
            "465:\tlearn: 0.3835220\ttotal: 2.13s\tremaining: 2.44s\n",
            "466:\tlearn: 0.3835213\ttotal: 2.13s\tremaining: 2.43s\n",
            "467:\tlearn: 0.3834965\ttotal: 2.13s\tremaining: 2.43s\n",
            "468:\tlearn: 0.3834473\ttotal: 2.14s\tremaining: 2.42s\n",
            "469:\tlearn: 0.3834372\ttotal: 2.14s\tremaining: 2.42s\n",
            "470:\tlearn: 0.3834309\ttotal: 2.15s\tremaining: 2.41s\n",
            "471:\tlearn: 0.3834306\ttotal: 2.15s\tremaining: 2.41s\n",
            "472:\tlearn: 0.3834107\ttotal: 2.16s\tremaining: 2.4s\n",
            "473:\tlearn: 0.3833862\ttotal: 2.16s\tremaining: 2.4s\n",
            "474:\tlearn: 0.3832909\ttotal: 2.17s\tremaining: 2.39s\n",
            "475:\tlearn: 0.3832899\ttotal: 2.17s\tremaining: 2.39s\n",
            "476:\tlearn: 0.3832305\ttotal: 2.17s\tremaining: 2.38s\n",
            "477:\tlearn: 0.3831442\ttotal: 2.18s\tremaining: 2.38s\n",
            "478:\tlearn: 0.3831250\ttotal: 2.18s\tremaining: 2.38s\n",
            "479:\tlearn: 0.3831203\ttotal: 2.19s\tremaining: 2.37s\n",
            "480:\tlearn: 0.3830748\ttotal: 2.19s\tremaining: 2.37s\n",
            "481:\tlearn: 0.3830673\ttotal: 2.2s\tremaining: 2.36s\n",
            "482:\tlearn: 0.3830671\ttotal: 2.2s\tremaining: 2.36s\n",
            "483:\tlearn: 0.3830052\ttotal: 2.21s\tremaining: 2.35s\n",
            "484:\tlearn: 0.3829310\ttotal: 2.21s\tremaining: 2.35s\n",
            "485:\tlearn: 0.3829003\ttotal: 2.21s\tremaining: 2.34s\n",
            "486:\tlearn: 0.3828777\ttotal: 2.22s\tremaining: 2.34s\n",
            "487:\tlearn: 0.3828178\ttotal: 2.22s\tremaining: 2.33s\n",
            "488:\tlearn: 0.3828161\ttotal: 2.23s\tremaining: 2.33s\n",
            "489:\tlearn: 0.3827293\ttotal: 2.23s\tremaining: 2.32s\n",
            "490:\tlearn: 0.3826126\ttotal: 2.23s\tremaining: 2.32s\n",
            "491:\tlearn: 0.3826048\ttotal: 2.24s\tremaining: 2.31s\n",
            "492:\tlearn: 0.3825744\ttotal: 2.24s\tremaining: 2.31s\n",
            "493:\tlearn: 0.3825744\ttotal: 2.25s\tremaining: 2.3s\n",
            "494:\tlearn: 0.3825567\ttotal: 2.25s\tremaining: 2.3s\n",
            "495:\tlearn: 0.3825320\ttotal: 2.26s\tremaining: 2.29s\n",
            "496:\tlearn: 0.3825319\ttotal: 2.26s\tremaining: 2.29s\n",
            "497:\tlearn: 0.3824840\ttotal: 2.27s\tremaining: 2.28s\n",
            "498:\tlearn: 0.3823983\ttotal: 2.27s\tremaining: 2.28s\n",
            "499:\tlearn: 0.3823667\ttotal: 2.27s\tremaining: 2.27s\n",
            "500:\tlearn: 0.3822995\ttotal: 2.28s\tremaining: 2.27s\n",
            "501:\tlearn: 0.3822882\ttotal: 2.28s\tremaining: 2.26s\n",
            "502:\tlearn: 0.3822708\ttotal: 2.29s\tremaining: 2.26s\n",
            "503:\tlearn: 0.3822671\ttotal: 2.29s\tremaining: 2.25s\n",
            "504:\tlearn: 0.3822455\ttotal: 2.29s\tremaining: 2.25s\n",
            "505:\tlearn: 0.3822360\ttotal: 2.3s\tremaining: 2.25s\n",
            "506:\tlearn: 0.3822334\ttotal: 2.31s\tremaining: 2.24s\n",
            "507:\tlearn: 0.3821895\ttotal: 2.31s\tremaining: 2.24s\n",
            "508:\tlearn: 0.3821672\ttotal: 2.31s\tremaining: 2.23s\n",
            "509:\tlearn: 0.3821565\ttotal: 2.32s\tremaining: 2.23s\n",
            "510:\tlearn: 0.3821251\ttotal: 2.32s\tremaining: 2.22s\n",
            "511:\tlearn: 0.3821016\ttotal: 2.33s\tremaining: 2.22s\n",
            "512:\tlearn: 0.3820824\ttotal: 2.33s\tremaining: 2.22s\n",
            "513:\tlearn: 0.3819805\ttotal: 2.34s\tremaining: 2.21s\n",
            "514:\tlearn: 0.3819783\ttotal: 2.34s\tremaining: 2.21s\n",
            "515:\tlearn: 0.3819755\ttotal: 2.35s\tremaining: 2.2s\n",
            "516:\tlearn: 0.3818864\ttotal: 2.35s\tremaining: 2.2s\n",
            "517:\tlearn: 0.3818724\ttotal: 2.36s\tremaining: 2.19s\n",
            "518:\tlearn: 0.3817914\ttotal: 2.36s\tremaining: 2.19s\n",
            "519:\tlearn: 0.3817802\ttotal: 2.36s\tremaining: 2.18s\n",
            "520:\tlearn: 0.3817799\ttotal: 2.37s\tremaining: 2.18s\n",
            "521:\tlearn: 0.3817719\ttotal: 2.37s\tremaining: 2.17s\n",
            "522:\tlearn: 0.3817259\ttotal: 2.38s\tremaining: 2.17s\n",
            "523:\tlearn: 0.3816544\ttotal: 2.38s\tremaining: 2.16s\n",
            "524:\tlearn: 0.3816363\ttotal: 2.38s\tremaining: 2.16s\n",
            "525:\tlearn: 0.3816362\ttotal: 2.39s\tremaining: 2.15s\n",
            "526:\tlearn: 0.3816023\ttotal: 2.39s\tremaining: 2.15s\n",
            "527:\tlearn: 0.3815813\ttotal: 2.4s\tremaining: 2.14s\n",
            "528:\tlearn: 0.3815737\ttotal: 2.4s\tremaining: 2.14s\n",
            "529:\tlearn: 0.3814130\ttotal: 2.41s\tremaining: 2.13s\n",
            "530:\tlearn: 0.3813433\ttotal: 2.41s\tremaining: 2.13s\n",
            "531:\tlearn: 0.3813261\ttotal: 2.41s\tremaining: 2.12s\n",
            "532:\tlearn: 0.3812287\ttotal: 2.42s\tremaining: 2.12s\n",
            "533:\tlearn: 0.3812230\ttotal: 2.42s\tremaining: 2.11s\n",
            "534:\tlearn: 0.3810899\ttotal: 2.43s\tremaining: 2.11s\n",
            "535:\tlearn: 0.3810872\ttotal: 2.43s\tremaining: 2.1s\n",
            "536:\tlearn: 0.3810612\ttotal: 2.44s\tremaining: 2.1s\n",
            "537:\tlearn: 0.3810457\ttotal: 2.44s\tremaining: 2.1s\n",
            "538:\tlearn: 0.3810413\ttotal: 2.44s\tremaining: 2.09s\n",
            "539:\tlearn: 0.3810310\ttotal: 2.45s\tremaining: 2.08s\n",
            "540:\tlearn: 0.3809938\ttotal: 2.45s\tremaining: 2.08s\n",
            "541:\tlearn: 0.3809412\ttotal: 2.46s\tremaining: 2.08s\n",
            "542:\tlearn: 0.3809204\ttotal: 2.46s\tremaining: 2.07s\n",
            "543:\tlearn: 0.3808956\ttotal: 2.47s\tremaining: 2.07s\n",
            "544:\tlearn: 0.3808179\ttotal: 2.47s\tremaining: 2.06s\n",
            "545:\tlearn: 0.3808085\ttotal: 2.47s\tremaining: 2.06s\n",
            "546:\tlearn: 0.3807131\ttotal: 2.48s\tremaining: 2.05s\n",
            "547:\tlearn: 0.3807049\ttotal: 2.48s\tremaining: 2.05s\n",
            "548:\tlearn: 0.3806818\ttotal: 2.49s\tremaining: 2.04s\n",
            "549:\tlearn: 0.3805796\ttotal: 2.5s\tremaining: 2.04s\n",
            "550:\tlearn: 0.3805792\ttotal: 2.5s\tremaining: 2.04s\n",
            "551:\tlearn: 0.3805244\ttotal: 2.51s\tremaining: 2.03s\n",
            "552:\tlearn: 0.3805229\ttotal: 2.51s\tremaining: 2.03s\n",
            "553:\tlearn: 0.3804581\ttotal: 2.51s\tremaining: 2.02s\n",
            "554:\tlearn: 0.3804416\ttotal: 2.52s\tremaining: 2.02s\n",
            "555:\tlearn: 0.3804391\ttotal: 2.52s\tremaining: 2.01s\n",
            "556:\tlearn: 0.3803924\ttotal: 2.53s\tremaining: 2.01s\n",
            "557:\tlearn: 0.3803822\ttotal: 2.53s\tremaining: 2s\n",
            "558:\tlearn: 0.3803773\ttotal: 2.54s\tremaining: 2s\n",
            "559:\tlearn: 0.3803601\ttotal: 2.54s\tremaining: 2s\n",
            "560:\tlearn: 0.3802588\ttotal: 2.54s\tremaining: 1.99s\n",
            "561:\tlearn: 0.3802260\ttotal: 2.55s\tremaining: 1.99s\n",
            "562:\tlearn: 0.3800925\ttotal: 2.55s\tremaining: 1.98s\n",
            "563:\tlearn: 0.3800485\ttotal: 2.56s\tremaining: 1.98s\n",
            "564:\tlearn: 0.3800463\ttotal: 2.57s\tremaining: 1.98s\n",
            "565:\tlearn: 0.3800426\ttotal: 2.58s\tremaining: 1.98s\n",
            "566:\tlearn: 0.3799854\ttotal: 2.58s\tremaining: 1.97s\n",
            "567:\tlearn: 0.3799838\ttotal: 2.58s\tremaining: 1.97s\n",
            "568:\tlearn: 0.3799814\ttotal: 2.59s\tremaining: 1.96s\n",
            "569:\tlearn: 0.3798912\ttotal: 2.59s\tremaining: 1.96s\n",
            "570:\tlearn: 0.3798712\ttotal: 2.6s\tremaining: 1.95s\n",
            "571:\tlearn: 0.3798647\ttotal: 2.6s\tremaining: 1.95s\n",
            "572:\tlearn: 0.3798456\ttotal: 2.61s\tremaining: 1.94s\n",
            "573:\tlearn: 0.3798389\ttotal: 2.61s\tremaining: 1.94s\n",
            "574:\tlearn: 0.3798343\ttotal: 2.61s\tremaining: 1.93s\n",
            "575:\tlearn: 0.3797694\ttotal: 2.62s\tremaining: 1.93s\n",
            "576:\tlearn: 0.3797445\ttotal: 2.62s\tremaining: 1.92s\n",
            "577:\tlearn: 0.3797405\ttotal: 2.63s\tremaining: 1.92s\n",
            "578:\tlearn: 0.3796612\ttotal: 2.63s\tremaining: 1.91s\n",
            "579:\tlearn: 0.3796469\ttotal: 2.64s\tremaining: 1.91s\n",
            "580:\tlearn: 0.3795135\ttotal: 2.64s\tremaining: 1.9s\n",
            "581:\tlearn: 0.3795082\ttotal: 2.65s\tremaining: 1.9s\n",
            "582:\tlearn: 0.3793760\ttotal: 2.65s\tremaining: 1.89s\n",
            "583:\tlearn: 0.3793274\ttotal: 2.65s\tremaining: 1.89s\n",
            "584:\tlearn: 0.3793247\ttotal: 2.66s\tremaining: 1.89s\n",
            "585:\tlearn: 0.3792562\ttotal: 2.66s\tremaining: 1.88s\n",
            "586:\tlearn: 0.3792562\ttotal: 2.67s\tremaining: 1.88s\n",
            "587:\tlearn: 0.3792383\ttotal: 2.68s\tremaining: 1.88s\n",
            "588:\tlearn: 0.3792047\ttotal: 2.69s\tremaining: 1.87s\n",
            "589:\tlearn: 0.3791970\ttotal: 2.69s\tremaining: 1.87s\n",
            "590:\tlearn: 0.3791501\ttotal: 2.69s\tremaining: 1.86s\n",
            "591:\tlearn: 0.3791494\ttotal: 2.7s\tremaining: 1.86s\n",
            "592:\tlearn: 0.3790952\ttotal: 2.7s\tremaining: 1.85s\n",
            "593:\tlearn: 0.3790259\ttotal: 2.71s\tremaining: 1.85s\n",
            "594:\tlearn: 0.3790234\ttotal: 2.71s\tremaining: 1.85s\n",
            "595:\tlearn: 0.3789972\ttotal: 2.72s\tremaining: 1.84s\n",
            "596:\tlearn: 0.3789307\ttotal: 2.72s\tremaining: 1.84s\n",
            "597:\tlearn: 0.3789305\ttotal: 2.73s\tremaining: 1.83s\n",
            "598:\tlearn: 0.3788318\ttotal: 2.73s\tremaining: 1.83s\n",
            "599:\tlearn: 0.3788066\ttotal: 2.73s\tremaining: 1.82s\n",
            "600:\tlearn: 0.3788066\ttotal: 2.74s\tremaining: 1.82s\n",
            "601:\tlearn: 0.3787884\ttotal: 2.74s\tremaining: 1.81s\n",
            "602:\tlearn: 0.3787295\ttotal: 2.75s\tremaining: 1.81s\n",
            "603:\tlearn: 0.3786286\ttotal: 2.75s\tremaining: 1.8s\n",
            "604:\tlearn: 0.3786213\ttotal: 2.75s\tremaining: 1.8s\n",
            "605:\tlearn: 0.3785502\ttotal: 2.76s\tremaining: 1.79s\n",
            "606:\tlearn: 0.3785189\ttotal: 2.77s\tremaining: 1.79s\n",
            "607:\tlearn: 0.3784405\ttotal: 2.77s\tremaining: 1.79s\n",
            "608:\tlearn: 0.3783721\ttotal: 2.78s\tremaining: 1.78s\n",
            "609:\tlearn: 0.3783579\ttotal: 2.78s\tremaining: 1.78s\n",
            "610:\tlearn: 0.3783577\ttotal: 2.79s\tremaining: 1.77s\n",
            "611:\tlearn: 0.3782986\ttotal: 2.79s\tremaining: 1.77s\n",
            "612:\tlearn: 0.3782261\ttotal: 2.8s\tremaining: 1.76s\n",
            "613:\tlearn: 0.3782210\ttotal: 2.81s\tremaining: 1.76s\n",
            "614:\tlearn: 0.3781916\ttotal: 2.81s\tremaining: 1.76s\n",
            "615:\tlearn: 0.3781888\ttotal: 2.81s\tremaining: 1.75s\n",
            "616:\tlearn: 0.3780174\ttotal: 2.82s\tremaining: 1.75s\n",
            "617:\tlearn: 0.3779316\ttotal: 2.82s\tremaining: 1.75s\n",
            "618:\tlearn: 0.3778612\ttotal: 2.83s\tremaining: 1.74s\n",
            "619:\tlearn: 0.3777928\ttotal: 2.83s\tremaining: 1.74s\n",
            "620:\tlearn: 0.3777676\ttotal: 2.84s\tremaining: 1.73s\n",
            "621:\tlearn: 0.3776288\ttotal: 2.84s\tremaining: 1.73s\n",
            "622:\tlearn: 0.3775662\ttotal: 2.85s\tremaining: 1.72s\n",
            "623:\tlearn: 0.3775540\ttotal: 2.85s\tremaining: 1.72s\n",
            "624:\tlearn: 0.3775505\ttotal: 2.86s\tremaining: 1.71s\n",
            "625:\tlearn: 0.3775088\ttotal: 2.86s\tremaining: 1.71s\n",
            "626:\tlearn: 0.3774710\ttotal: 2.87s\tremaining: 1.71s\n",
            "627:\tlearn: 0.3774522\ttotal: 2.87s\tremaining: 1.7s\n",
            "628:\tlearn: 0.3773732\ttotal: 2.88s\tremaining: 1.7s\n",
            "629:\tlearn: 0.3772885\ttotal: 2.88s\tremaining: 1.69s\n",
            "630:\tlearn: 0.3772671\ttotal: 2.89s\tremaining: 1.69s\n",
            "631:\tlearn: 0.3772046\ttotal: 2.89s\tremaining: 1.68s\n",
            "632:\tlearn: 0.3770918\ttotal: 2.9s\tremaining: 1.68s\n",
            "633:\tlearn: 0.3770853\ttotal: 2.9s\tremaining: 1.67s\n",
            "634:\tlearn: 0.3770490\ttotal: 2.9s\tremaining: 1.67s\n",
            "635:\tlearn: 0.3770336\ttotal: 2.91s\tremaining: 1.66s\n",
            "636:\tlearn: 0.3769206\ttotal: 2.91s\tremaining: 1.66s\n",
            "637:\tlearn: 0.3768715\ttotal: 2.92s\tremaining: 1.66s\n",
            "638:\tlearn: 0.3768203\ttotal: 2.92s\tremaining: 1.65s\n",
            "639:\tlearn: 0.3768079\ttotal: 2.92s\tremaining: 1.64s\n",
            "640:\tlearn: 0.3768001\ttotal: 2.93s\tremaining: 1.64s\n",
            "641:\tlearn: 0.3766830\ttotal: 2.93s\tremaining: 1.63s\n",
            "642:\tlearn: 0.3766771\ttotal: 2.94s\tremaining: 1.63s\n",
            "643:\tlearn: 0.3765909\ttotal: 2.94s\tremaining: 1.63s\n",
            "644:\tlearn: 0.3765256\ttotal: 2.94s\tremaining: 1.62s\n",
            "645:\tlearn: 0.3765179\ttotal: 2.95s\tremaining: 1.62s\n",
            "646:\tlearn: 0.3765175\ttotal: 2.95s\tremaining: 1.61s\n",
            "647:\tlearn: 0.3764941\ttotal: 2.96s\tremaining: 1.61s\n",
            "648:\tlearn: 0.3764863\ttotal: 2.96s\tremaining: 1.6s\n",
            "649:\tlearn: 0.3764847\ttotal: 2.97s\tremaining: 1.6s\n",
            "650:\tlearn: 0.3764655\ttotal: 2.97s\tremaining: 1.59s\n",
            "651:\tlearn: 0.3764438\ttotal: 2.98s\tremaining: 1.59s\n",
            "652:\tlearn: 0.3764425\ttotal: 2.98s\tremaining: 1.58s\n",
            "653:\tlearn: 0.3764060\ttotal: 2.99s\tremaining: 1.58s\n",
            "654:\tlearn: 0.3763995\ttotal: 2.99s\tremaining: 1.57s\n",
            "655:\tlearn: 0.3762086\ttotal: 3s\tremaining: 1.57s\n",
            "656:\tlearn: 0.3761784\ttotal: 3s\tremaining: 1.57s\n",
            "657:\tlearn: 0.3761735\ttotal: 3s\tremaining: 1.56s\n",
            "658:\tlearn: 0.3760375\ttotal: 3.01s\tremaining: 1.56s\n",
            "659:\tlearn: 0.3759738\ttotal: 3.01s\tremaining: 1.55s\n",
            "660:\tlearn: 0.3759419\ttotal: 3.01s\tremaining: 1.55s\n",
            "661:\tlearn: 0.3759334\ttotal: 3.02s\tremaining: 1.54s\n",
            "662:\tlearn: 0.3758266\ttotal: 3.02s\tremaining: 1.54s\n",
            "663:\tlearn: 0.3758172\ttotal: 3.03s\tremaining: 1.53s\n",
            "664:\tlearn: 0.3758058\ttotal: 3.03s\tremaining: 1.53s\n",
            "665:\tlearn: 0.3757133\ttotal: 3.04s\tremaining: 1.52s\n",
            "666:\tlearn: 0.3756921\ttotal: 3.04s\tremaining: 1.52s\n",
            "667:\tlearn: 0.3756400\ttotal: 3.04s\tremaining: 1.51s\n",
            "668:\tlearn: 0.3756259\ttotal: 3.05s\tremaining: 1.51s\n",
            "669:\tlearn: 0.3754637\ttotal: 3.05s\tremaining: 1.5s\n",
            "670:\tlearn: 0.3753442\ttotal: 3.06s\tremaining: 1.5s\n",
            "671:\tlearn: 0.3753374\ttotal: 3.06s\tremaining: 1.49s\n",
            "672:\tlearn: 0.3752627\ttotal: 3.07s\tremaining: 1.49s\n",
            "673:\tlearn: 0.3752413\ttotal: 3.07s\tremaining: 1.49s\n",
            "674:\tlearn: 0.3752174\ttotal: 3.08s\tremaining: 1.48s\n",
            "675:\tlearn: 0.3752147\ttotal: 3.08s\tremaining: 1.48s\n",
            "676:\tlearn: 0.3752147\ttotal: 3.09s\tremaining: 1.47s\n",
            "677:\tlearn: 0.3752088\ttotal: 3.09s\tremaining: 1.47s\n",
            "678:\tlearn: 0.3751806\ttotal: 3.1s\tremaining: 1.46s\n",
            "679:\tlearn: 0.3751805\ttotal: 3.1s\tremaining: 1.46s\n",
            "680:\tlearn: 0.3751583\ttotal: 3.1s\tremaining: 1.45s\n",
            "681:\tlearn: 0.3751514\ttotal: 3.11s\tremaining: 1.45s\n",
            "682:\tlearn: 0.3751015\ttotal: 3.11s\tremaining: 1.44s\n",
            "683:\tlearn: 0.3750616\ttotal: 3.12s\tremaining: 1.44s\n",
            "684:\tlearn: 0.3750587\ttotal: 3.12s\tremaining: 1.44s\n",
            "685:\tlearn: 0.3750587\ttotal: 3.13s\tremaining: 1.43s\n",
            "686:\tlearn: 0.3750519\ttotal: 3.13s\tremaining: 1.43s\n",
            "687:\tlearn: 0.3750485\ttotal: 3.13s\tremaining: 1.42s\n",
            "688:\tlearn: 0.3750473\ttotal: 3.14s\tremaining: 1.42s\n",
            "689:\tlearn: 0.3750221\ttotal: 3.14s\tremaining: 1.41s\n",
            "690:\tlearn: 0.3750155\ttotal: 3.15s\tremaining: 1.41s\n",
            "691:\tlearn: 0.3750017\ttotal: 3.15s\tremaining: 1.4s\n",
            "692:\tlearn: 0.3749734\ttotal: 3.15s\tremaining: 1.4s\n",
            "693:\tlearn: 0.3749682\ttotal: 3.16s\tremaining: 1.39s\n",
            "694:\tlearn: 0.3749347\ttotal: 3.16s\tremaining: 1.39s\n",
            "695:\tlearn: 0.3748478\ttotal: 3.17s\tremaining: 1.38s\n",
            "696:\tlearn: 0.3748439\ttotal: 3.17s\tremaining: 1.38s\n",
            "697:\tlearn: 0.3748244\ttotal: 3.18s\tremaining: 1.37s\n",
            "698:\tlearn: 0.3747159\ttotal: 3.18s\tremaining: 1.37s\n",
            "699:\tlearn: 0.3747101\ttotal: 3.18s\tremaining: 1.36s\n",
            "700:\tlearn: 0.3746368\ttotal: 3.19s\tremaining: 1.36s\n",
            "701:\tlearn: 0.3745454\ttotal: 3.19s\tremaining: 1.35s\n",
            "702:\tlearn: 0.3744416\ttotal: 3.2s\tremaining: 1.35s\n",
            "703:\tlearn: 0.3744378\ttotal: 3.2s\tremaining: 1.34s\n",
            "704:\tlearn: 0.3744365\ttotal: 3.2s\tremaining: 1.34s\n",
            "705:\tlearn: 0.3744302\ttotal: 3.21s\tremaining: 1.34s\n",
            "706:\tlearn: 0.3743606\ttotal: 3.21s\tremaining: 1.33s\n",
            "707:\tlearn: 0.3743578\ttotal: 3.22s\tremaining: 1.33s\n",
            "708:\tlearn: 0.3743429\ttotal: 3.23s\tremaining: 1.32s\n",
            "709:\tlearn: 0.3742937\ttotal: 3.23s\tremaining: 1.32s\n",
            "710:\tlearn: 0.3741868\ttotal: 3.23s\tremaining: 1.31s\n",
            "711:\tlearn: 0.3740789\ttotal: 3.24s\tremaining: 1.31s\n",
            "712:\tlearn: 0.3739915\ttotal: 3.25s\tremaining: 1.31s\n",
            "713:\tlearn: 0.3739868\ttotal: 3.25s\tremaining: 1.3s\n",
            "714:\tlearn: 0.3738812\ttotal: 3.25s\tremaining: 1.3s\n",
            "715:\tlearn: 0.3738791\ttotal: 3.26s\tremaining: 1.29s\n",
            "716:\tlearn: 0.3737938\ttotal: 3.26s\tremaining: 1.29s\n",
            "717:\tlearn: 0.3737561\ttotal: 3.27s\tremaining: 1.28s\n",
            "718:\tlearn: 0.3737521\ttotal: 3.28s\tremaining: 1.28s\n",
            "719:\tlearn: 0.3737109\ttotal: 3.28s\tremaining: 1.28s\n",
            "720:\tlearn: 0.3736702\ttotal: 3.29s\tremaining: 1.27s\n",
            "721:\tlearn: 0.3736489\ttotal: 3.29s\tremaining: 1.27s\n",
            "722:\tlearn: 0.3735771\ttotal: 3.29s\tremaining: 1.26s\n",
            "723:\tlearn: 0.3735645\ttotal: 3.3s\tremaining: 1.26s\n",
            "724:\tlearn: 0.3735581\ttotal: 3.3s\tremaining: 1.25s\n",
            "725:\tlearn: 0.3735182\ttotal: 3.31s\tremaining: 1.25s\n",
            "726:\tlearn: 0.3733802\ttotal: 3.31s\tremaining: 1.24s\n",
            "727:\tlearn: 0.3733181\ttotal: 3.32s\tremaining: 1.24s\n",
            "728:\tlearn: 0.3732906\ttotal: 3.32s\tremaining: 1.23s\n",
            "729:\tlearn: 0.3732820\ttotal: 3.32s\tremaining: 1.23s\n",
            "730:\tlearn: 0.3732447\ttotal: 3.33s\tremaining: 1.23s\n",
            "731:\tlearn: 0.3732126\ttotal: 3.33s\tremaining: 1.22s\n",
            "732:\tlearn: 0.3732079\ttotal: 3.34s\tremaining: 1.22s\n",
            "733:\tlearn: 0.3731956\ttotal: 3.34s\tremaining: 1.21s\n",
            "734:\tlearn: 0.3731955\ttotal: 3.35s\tremaining: 1.21s\n",
            "735:\tlearn: 0.3731658\ttotal: 3.35s\tremaining: 1.2s\n",
            "736:\tlearn: 0.3731098\ttotal: 3.35s\tremaining: 1.2s\n",
            "737:\tlearn: 0.3730762\ttotal: 3.36s\tremaining: 1.19s\n",
            "738:\tlearn: 0.3730750\ttotal: 3.36s\tremaining: 1.19s\n",
            "739:\tlearn: 0.3730410\ttotal: 3.37s\tremaining: 1.18s\n",
            "740:\tlearn: 0.3730060\ttotal: 3.37s\tremaining: 1.18s\n",
            "741:\tlearn: 0.3729451\ttotal: 3.38s\tremaining: 1.17s\n",
            "742:\tlearn: 0.3728603\ttotal: 3.38s\tremaining: 1.17s\n",
            "743:\tlearn: 0.3728431\ttotal: 3.39s\tremaining: 1.17s\n",
            "744:\tlearn: 0.3728189\ttotal: 3.39s\tremaining: 1.16s\n",
            "745:\tlearn: 0.3728179\ttotal: 3.4s\tremaining: 1.16s\n",
            "746:\tlearn: 0.3728003\ttotal: 3.4s\tremaining: 1.15s\n",
            "747:\tlearn: 0.3727780\ttotal: 3.4s\tremaining: 1.15s\n",
            "748:\tlearn: 0.3727780\ttotal: 3.41s\tremaining: 1.14s\n",
            "749:\tlearn: 0.3726928\ttotal: 3.41s\tremaining: 1.14s\n",
            "750:\tlearn: 0.3726869\ttotal: 3.42s\tremaining: 1.13s\n",
            "751:\tlearn: 0.3726535\ttotal: 3.42s\tremaining: 1.13s\n",
            "752:\tlearn: 0.3725837\ttotal: 3.43s\tremaining: 1.12s\n",
            "753:\tlearn: 0.3725652\ttotal: 3.43s\tremaining: 1.12s\n",
            "754:\tlearn: 0.3724031\ttotal: 3.44s\tremaining: 1.11s\n",
            "755:\tlearn: 0.3723959\ttotal: 3.45s\tremaining: 1.11s\n",
            "756:\tlearn: 0.3722390\ttotal: 3.45s\tremaining: 1.11s\n",
            "757:\tlearn: 0.3722287\ttotal: 3.46s\tremaining: 1.1s\n",
            "758:\tlearn: 0.3721243\ttotal: 3.46s\tremaining: 1.1s\n",
            "759:\tlearn: 0.3720917\ttotal: 3.47s\tremaining: 1.09s\n",
            "760:\tlearn: 0.3720912\ttotal: 3.48s\tremaining: 1.09s\n",
            "761:\tlearn: 0.3720311\ttotal: 3.48s\tremaining: 1.09s\n",
            "762:\tlearn: 0.3720310\ttotal: 3.48s\tremaining: 1.08s\n",
            "763:\tlearn: 0.3719794\ttotal: 3.49s\tremaining: 1.08s\n",
            "764:\tlearn: 0.3718834\ttotal: 3.49s\tremaining: 1.07s\n",
            "765:\tlearn: 0.3718834\ttotal: 3.5s\tremaining: 1.07s\n",
            "766:\tlearn: 0.3718306\ttotal: 3.5s\tremaining: 1.06s\n",
            "767:\tlearn: 0.3718181\ttotal: 3.5s\tremaining: 1.06s\n",
            "768:\tlearn: 0.3717792\ttotal: 3.51s\tremaining: 1.05s\n",
            "769:\tlearn: 0.3717717\ttotal: 3.51s\tremaining: 1.05s\n",
            "770:\tlearn: 0.3717697\ttotal: 3.52s\tremaining: 1.04s\n",
            "771:\tlearn: 0.3717657\ttotal: 3.53s\tremaining: 1.04s\n",
            "772:\tlearn: 0.3717657\ttotal: 3.53s\tremaining: 1.04s\n",
            "773:\tlearn: 0.3716558\ttotal: 3.54s\tremaining: 1.03s\n",
            "774:\tlearn: 0.3716517\ttotal: 3.54s\tremaining: 1.03s\n",
            "775:\tlearn: 0.3716420\ttotal: 3.55s\tremaining: 1.02s\n",
            "776:\tlearn: 0.3716347\ttotal: 3.55s\tremaining: 1.02s\n",
            "777:\tlearn: 0.3716267\ttotal: 3.56s\tremaining: 1.01s\n",
            "778:\tlearn: 0.3716229\ttotal: 3.56s\tremaining: 1.01s\n",
            "779:\tlearn: 0.3715336\ttotal: 3.57s\tremaining: 1s\n",
            "780:\tlearn: 0.3715098\ttotal: 3.57s\tremaining: 1s\n",
            "781:\tlearn: 0.3714255\ttotal: 3.58s\tremaining: 997ms\n",
            "782:\tlearn: 0.3713295\ttotal: 3.58s\tremaining: 992ms\n",
            "783:\tlearn: 0.3713036\ttotal: 3.58s\tremaining: 988ms\n",
            "784:\tlearn: 0.3712521\ttotal: 3.59s\tremaining: 983ms\n",
            "785:\tlearn: 0.3712468\ttotal: 3.59s\tremaining: 978ms\n",
            "786:\tlearn: 0.3711735\ttotal: 3.6s\tremaining: 974ms\n",
            "787:\tlearn: 0.3711209\ttotal: 3.6s\tremaining: 969ms\n",
            "788:\tlearn: 0.3711010\ttotal: 3.61s\tremaining: 965ms\n",
            "789:\tlearn: 0.3710867\ttotal: 3.61s\tremaining: 960ms\n",
            "790:\tlearn: 0.3710762\ttotal: 3.62s\tremaining: 955ms\n",
            "791:\tlearn: 0.3710428\ttotal: 3.62s\tremaining: 951ms\n",
            "792:\tlearn: 0.3710392\ttotal: 3.63s\tremaining: 947ms\n",
            "793:\tlearn: 0.3710211\ttotal: 3.63s\tremaining: 942ms\n",
            "794:\tlearn: 0.3710171\ttotal: 3.63s\tremaining: 937ms\n",
            "795:\tlearn: 0.3709422\ttotal: 3.64s\tremaining: 933ms\n",
            "796:\tlearn: 0.3709414\ttotal: 3.64s\tremaining: 928ms\n",
            "797:\tlearn: 0.3708773\ttotal: 3.65s\tremaining: 923ms\n",
            "798:\tlearn: 0.3708404\ttotal: 3.65s\tremaining: 919ms\n",
            "799:\tlearn: 0.3707299\ttotal: 3.66s\tremaining: 915ms\n",
            "800:\tlearn: 0.3706816\ttotal: 3.67s\tremaining: 912ms\n",
            "801:\tlearn: 0.3706191\ttotal: 3.68s\tremaining: 908ms\n",
            "802:\tlearn: 0.3705488\ttotal: 3.68s\tremaining: 903ms\n",
            "803:\tlearn: 0.3705196\ttotal: 3.69s\tremaining: 899ms\n",
            "804:\tlearn: 0.3705196\ttotal: 3.69s\tremaining: 894ms\n",
            "805:\tlearn: 0.3705190\ttotal: 3.69s\tremaining: 889ms\n",
            "806:\tlearn: 0.3704860\ttotal: 3.7s\tremaining: 885ms\n",
            "807:\tlearn: 0.3704808\ttotal: 3.7s\tremaining: 880ms\n",
            "808:\tlearn: 0.3704722\ttotal: 3.71s\tremaining: 876ms\n",
            "809:\tlearn: 0.3704705\ttotal: 3.71s\tremaining: 871ms\n",
            "810:\tlearn: 0.3704153\ttotal: 3.72s\tremaining: 867ms\n",
            "811:\tlearn: 0.3704152\ttotal: 3.72s\tremaining: 862ms\n",
            "812:\tlearn: 0.3703436\ttotal: 3.73s\tremaining: 857ms\n",
            "813:\tlearn: 0.3703131\ttotal: 3.73s\tremaining: 853ms\n",
            "814:\tlearn: 0.3703131\ttotal: 3.74s\tremaining: 848ms\n",
            "815:\tlearn: 0.3703006\ttotal: 3.74s\tremaining: 844ms\n",
            "816:\tlearn: 0.3702974\ttotal: 3.74s\tremaining: 839ms\n",
            "817:\tlearn: 0.3702958\ttotal: 3.75s\tremaining: 834ms\n",
            "818:\tlearn: 0.3702616\ttotal: 3.75s\tremaining: 829ms\n",
            "819:\tlearn: 0.3702307\ttotal: 3.76s\tremaining: 825ms\n",
            "820:\tlearn: 0.3701585\ttotal: 3.76s\tremaining: 820ms\n",
            "821:\tlearn: 0.3701321\ttotal: 3.76s\tremaining: 815ms\n",
            "822:\tlearn: 0.3700669\ttotal: 3.77s\tremaining: 811ms\n",
            "823:\tlearn: 0.3700378\ttotal: 3.77s\tremaining: 806ms\n",
            "824:\tlearn: 0.3700378\ttotal: 3.78s\tremaining: 801ms\n",
            "825:\tlearn: 0.3700299\ttotal: 3.78s\tremaining: 797ms\n",
            "826:\tlearn: 0.3699561\ttotal: 3.79s\tremaining: 792ms\n",
            "827:\tlearn: 0.3699053\ttotal: 3.79s\tremaining: 788ms\n",
            "828:\tlearn: 0.3698628\ttotal: 3.79s\tremaining: 783ms\n",
            "829:\tlearn: 0.3698536\ttotal: 3.8s\tremaining: 778ms\n",
            "830:\tlearn: 0.3697973\ttotal: 3.8s\tremaining: 774ms\n",
            "831:\tlearn: 0.3696759\ttotal: 3.81s\tremaining: 769ms\n",
            "832:\tlearn: 0.3696682\ttotal: 3.81s\tremaining: 765ms\n",
            "833:\tlearn: 0.3696147\ttotal: 3.82s\tremaining: 760ms\n",
            "834:\tlearn: 0.3696017\ttotal: 3.82s\tremaining: 756ms\n",
            "835:\tlearn: 0.3694707\ttotal: 3.83s\tremaining: 751ms\n",
            "836:\tlearn: 0.3694677\ttotal: 3.83s\tremaining: 746ms\n",
            "837:\tlearn: 0.3694241\ttotal: 3.84s\tremaining: 742ms\n",
            "838:\tlearn: 0.3693427\ttotal: 3.84s\tremaining: 737ms\n",
            "839:\tlearn: 0.3693215\ttotal: 3.85s\tremaining: 732ms\n",
            "840:\tlearn: 0.3693122\ttotal: 3.85s\tremaining: 728ms\n",
            "841:\tlearn: 0.3693122\ttotal: 3.86s\tremaining: 724ms\n",
            "842:\tlearn: 0.3693122\ttotal: 3.86s\tremaining: 720ms\n",
            "843:\tlearn: 0.3693042\ttotal: 3.87s\tremaining: 715ms\n",
            "844:\tlearn: 0.3692965\ttotal: 3.88s\tremaining: 711ms\n",
            "845:\tlearn: 0.3692230\ttotal: 3.88s\tremaining: 706ms\n",
            "846:\tlearn: 0.3691559\ttotal: 3.88s\tremaining: 701ms\n",
            "847:\tlearn: 0.3690946\ttotal: 3.89s\tremaining: 697ms\n",
            "848:\tlearn: 0.3690946\ttotal: 3.9s\tremaining: 693ms\n",
            "849:\tlearn: 0.3690926\ttotal: 3.9s\tremaining: 688ms\n",
            "850:\tlearn: 0.3690632\ttotal: 3.9s\tremaining: 684ms\n",
            "851:\tlearn: 0.3690606\ttotal: 3.91s\tremaining: 679ms\n",
            "852:\tlearn: 0.3689901\ttotal: 3.91s\tremaining: 675ms\n",
            "853:\tlearn: 0.3689685\ttotal: 3.92s\tremaining: 670ms\n",
            "854:\tlearn: 0.3689374\ttotal: 3.92s\tremaining: 666ms\n",
            "855:\tlearn: 0.3689350\ttotal: 3.93s\tremaining: 661ms\n",
            "856:\tlearn: 0.3688773\ttotal: 3.93s\tremaining: 657ms\n",
            "857:\tlearn: 0.3688750\ttotal: 3.94s\tremaining: 652ms\n",
            "858:\tlearn: 0.3688400\ttotal: 3.94s\tremaining: 647ms\n",
            "859:\tlearn: 0.3688312\ttotal: 3.95s\tremaining: 643ms\n",
            "860:\tlearn: 0.3687521\ttotal: 3.95s\tremaining: 638ms\n",
            "861:\tlearn: 0.3687089\ttotal: 3.96s\tremaining: 634ms\n",
            "862:\tlearn: 0.3686980\ttotal: 3.96s\tremaining: 629ms\n",
            "863:\tlearn: 0.3686694\ttotal: 3.97s\tremaining: 624ms\n",
            "864:\tlearn: 0.3685950\ttotal: 3.97s\tremaining: 620ms\n",
            "865:\tlearn: 0.3685920\ttotal: 3.98s\tremaining: 615ms\n",
            "866:\tlearn: 0.3685216\ttotal: 3.98s\tremaining: 611ms\n",
            "867:\tlearn: 0.3685143\ttotal: 3.98s\tremaining: 606ms\n",
            "868:\tlearn: 0.3684773\ttotal: 3.99s\tremaining: 601ms\n",
            "869:\tlearn: 0.3684606\ttotal: 3.99s\tremaining: 597ms\n",
            "870:\tlearn: 0.3684323\ttotal: 4s\tremaining: 592ms\n",
            "871:\tlearn: 0.3683838\ttotal: 4s\tremaining: 587ms\n",
            "872:\tlearn: 0.3683742\ttotal: 4.01s\tremaining: 583ms\n",
            "873:\tlearn: 0.3683512\ttotal: 4.01s\tremaining: 578ms\n",
            "874:\tlearn: 0.3682771\ttotal: 4.01s\tremaining: 573ms\n",
            "875:\tlearn: 0.3682771\ttotal: 4.02s\tremaining: 569ms\n",
            "876:\tlearn: 0.3682306\ttotal: 4.02s\tremaining: 564ms\n",
            "877:\tlearn: 0.3682146\ttotal: 4.03s\tremaining: 560ms\n",
            "878:\tlearn: 0.3681381\ttotal: 4.03s\tremaining: 555ms\n",
            "879:\tlearn: 0.3681381\ttotal: 4.04s\tremaining: 550ms\n",
            "880:\tlearn: 0.3680654\ttotal: 4.04s\tremaining: 546ms\n",
            "881:\tlearn: 0.3680412\ttotal: 4.04s\tremaining: 541ms\n",
            "882:\tlearn: 0.3680200\ttotal: 4.05s\tremaining: 536ms\n",
            "883:\tlearn: 0.3679983\ttotal: 4.06s\tremaining: 533ms\n",
            "884:\tlearn: 0.3679276\ttotal: 4.06s\tremaining: 528ms\n",
            "885:\tlearn: 0.3679203\ttotal: 4.07s\tremaining: 524ms\n",
            "886:\tlearn: 0.3679016\ttotal: 4.07s\tremaining: 519ms\n",
            "887:\tlearn: 0.3678996\ttotal: 4.08s\tremaining: 514ms\n",
            "888:\tlearn: 0.3678380\ttotal: 4.08s\tremaining: 510ms\n",
            "889:\tlearn: 0.3677866\ttotal: 4.08s\tremaining: 505ms\n",
            "890:\tlearn: 0.3677846\ttotal: 4.09s\tremaining: 500ms\n",
            "891:\tlearn: 0.3677731\ttotal: 4.09s\tremaining: 496ms\n",
            "892:\tlearn: 0.3677682\ttotal: 4.1s\tremaining: 491ms\n",
            "893:\tlearn: 0.3677497\ttotal: 4.11s\tremaining: 487ms\n",
            "894:\tlearn: 0.3676964\ttotal: 4.11s\tremaining: 482ms\n",
            "895:\tlearn: 0.3676804\ttotal: 4.11s\tremaining: 478ms\n",
            "896:\tlearn: 0.3676173\ttotal: 4.12s\tremaining: 473ms\n",
            "897:\tlearn: 0.3675152\ttotal: 4.12s\tremaining: 468ms\n",
            "898:\tlearn: 0.3673957\ttotal: 4.13s\tremaining: 464ms\n",
            "899:\tlearn: 0.3673957\ttotal: 4.13s\tremaining: 459ms\n",
            "900:\tlearn: 0.3673859\ttotal: 4.14s\tremaining: 455ms\n",
            "901:\tlearn: 0.3673849\ttotal: 4.14s\tremaining: 450ms\n",
            "902:\tlearn: 0.3673836\ttotal: 4.14s\tremaining: 445ms\n",
            "903:\tlearn: 0.3673736\ttotal: 4.15s\tremaining: 441ms\n",
            "904:\tlearn: 0.3673728\ttotal: 4.15s\tremaining: 436ms\n",
            "905:\tlearn: 0.3673700\ttotal: 4.16s\tremaining: 431ms\n",
            "906:\tlearn: 0.3673674\ttotal: 4.16s\tremaining: 427ms\n",
            "907:\tlearn: 0.3672694\ttotal: 4.17s\tremaining: 422ms\n",
            "908:\tlearn: 0.3672548\ttotal: 4.17s\tremaining: 418ms\n",
            "909:\tlearn: 0.3672518\ttotal: 4.18s\tremaining: 413ms\n",
            "910:\tlearn: 0.3671954\ttotal: 4.18s\tremaining: 409ms\n",
            "911:\tlearn: 0.3671872\ttotal: 4.19s\tremaining: 404ms\n",
            "912:\tlearn: 0.3671604\ttotal: 4.19s\tremaining: 399ms\n",
            "913:\tlearn: 0.3671186\ttotal: 4.2s\tremaining: 395ms\n",
            "914:\tlearn: 0.3669924\ttotal: 4.2s\tremaining: 390ms\n",
            "915:\tlearn: 0.3669852\ttotal: 4.2s\tremaining: 385ms\n",
            "916:\tlearn: 0.3669206\ttotal: 4.21s\tremaining: 381ms\n",
            "917:\tlearn: 0.3668380\ttotal: 4.21s\tremaining: 376ms\n",
            "918:\tlearn: 0.3668209\ttotal: 4.21s\tremaining: 372ms\n",
            "919:\tlearn: 0.3668022\ttotal: 4.22s\tremaining: 367ms\n",
            "920:\tlearn: 0.3667995\ttotal: 4.22s\tremaining: 362ms\n",
            "921:\tlearn: 0.3667962\ttotal: 4.23s\tremaining: 358ms\n",
            "922:\tlearn: 0.3667939\ttotal: 4.23s\tremaining: 353ms\n",
            "923:\tlearn: 0.3667874\ttotal: 4.24s\tremaining: 348ms\n",
            "924:\tlearn: 0.3667585\ttotal: 4.24s\tremaining: 344ms\n",
            "925:\tlearn: 0.3667020\ttotal: 4.24s\tremaining: 339ms\n",
            "926:\tlearn: 0.3666944\ttotal: 4.25s\tremaining: 335ms\n",
            "927:\tlearn: 0.3666781\ttotal: 4.26s\tremaining: 330ms\n",
            "928:\tlearn: 0.3666622\ttotal: 4.26s\tremaining: 326ms\n",
            "929:\tlearn: 0.3666616\ttotal: 4.27s\tremaining: 321ms\n",
            "930:\tlearn: 0.3666437\ttotal: 4.27s\tremaining: 317ms\n",
            "931:\tlearn: 0.3665950\ttotal: 4.28s\tremaining: 312ms\n",
            "932:\tlearn: 0.3665461\ttotal: 4.28s\tremaining: 307ms\n",
            "933:\tlearn: 0.3664824\ttotal: 4.28s\tremaining: 303ms\n",
            "934:\tlearn: 0.3664768\ttotal: 4.29s\tremaining: 298ms\n",
            "935:\tlearn: 0.3664225\ttotal: 4.29s\tremaining: 294ms\n",
            "936:\tlearn: 0.3664150\ttotal: 4.3s\tremaining: 289ms\n",
            "937:\tlearn: 0.3663709\ttotal: 4.3s\tremaining: 284ms\n",
            "938:\tlearn: 0.3663497\ttotal: 4.31s\tremaining: 280ms\n",
            "939:\tlearn: 0.3663412\ttotal: 4.31s\tremaining: 275ms\n",
            "940:\tlearn: 0.3662844\ttotal: 4.32s\tremaining: 271ms\n",
            "941:\tlearn: 0.3662828\ttotal: 4.32s\tremaining: 266ms\n",
            "942:\tlearn: 0.3662601\ttotal: 4.32s\tremaining: 261ms\n",
            "943:\tlearn: 0.3661212\ttotal: 4.33s\tremaining: 257ms\n",
            "944:\tlearn: 0.3660989\ttotal: 4.33s\tremaining: 252ms\n",
            "945:\tlearn: 0.3660902\ttotal: 4.34s\tremaining: 248ms\n",
            "946:\tlearn: 0.3660653\ttotal: 4.34s\tremaining: 243ms\n",
            "947:\tlearn: 0.3660074\ttotal: 4.35s\tremaining: 238ms\n",
            "948:\tlearn: 0.3659733\ttotal: 4.35s\tremaining: 234ms\n",
            "949:\tlearn: 0.3659162\ttotal: 4.36s\tremaining: 229ms\n",
            "950:\tlearn: 0.3658739\ttotal: 4.36s\tremaining: 225ms\n",
            "951:\tlearn: 0.3658719\ttotal: 4.36s\tremaining: 220ms\n",
            "952:\tlearn: 0.3658224\ttotal: 4.37s\tremaining: 215ms\n",
            "953:\tlearn: 0.3657968\ttotal: 4.37s\tremaining: 211ms\n",
            "954:\tlearn: 0.3657405\ttotal: 4.38s\tremaining: 206ms\n",
            "955:\tlearn: 0.3656900\ttotal: 4.38s\tremaining: 202ms\n",
            "956:\tlearn: 0.3656748\ttotal: 4.38s\tremaining: 197ms\n",
            "957:\tlearn: 0.3656697\ttotal: 4.39s\tremaining: 192ms\n",
            "958:\tlearn: 0.3656323\ttotal: 4.39s\tremaining: 188ms\n",
            "959:\tlearn: 0.3656265\ttotal: 4.4s\tremaining: 183ms\n",
            "960:\tlearn: 0.3655801\ttotal: 4.4s\tremaining: 179ms\n",
            "961:\tlearn: 0.3655370\ttotal: 4.41s\tremaining: 174ms\n",
            "962:\tlearn: 0.3655292\ttotal: 4.41s\tremaining: 169ms\n",
            "963:\tlearn: 0.3654984\ttotal: 4.42s\tremaining: 165ms\n",
            "964:\tlearn: 0.3653619\ttotal: 4.42s\tremaining: 160ms\n",
            "965:\tlearn: 0.3653456\ttotal: 4.42s\tremaining: 156ms\n",
            "966:\tlearn: 0.3653362\ttotal: 4.43s\tremaining: 151ms\n",
            "967:\tlearn: 0.3653065\ttotal: 4.43s\tremaining: 147ms\n",
            "968:\tlearn: 0.3652916\ttotal: 4.44s\tremaining: 142ms\n",
            "969:\tlearn: 0.3652891\ttotal: 4.44s\tremaining: 137ms\n",
            "970:\tlearn: 0.3652854\ttotal: 4.45s\tremaining: 133ms\n",
            "971:\tlearn: 0.3652728\ttotal: 4.46s\tremaining: 128ms\n",
            "972:\tlearn: 0.3652677\ttotal: 4.46s\tremaining: 124ms\n",
            "973:\tlearn: 0.3652653\ttotal: 4.47s\tremaining: 119ms\n",
            "974:\tlearn: 0.3651540\ttotal: 4.47s\tremaining: 115ms\n",
            "975:\tlearn: 0.3651529\ttotal: 4.48s\tremaining: 110ms\n",
            "976:\tlearn: 0.3651517\ttotal: 4.49s\tremaining: 106ms\n",
            "977:\tlearn: 0.3650110\ttotal: 4.5s\tremaining: 101ms\n",
            "978:\tlearn: 0.3650084\ttotal: 4.5s\tremaining: 96.5ms\n",
            "979:\tlearn: 0.3649108\ttotal: 4.5s\tremaining: 91.9ms\n",
            "980:\tlearn: 0.3648228\ttotal: 4.51s\tremaining: 87.3ms\n",
            "981:\tlearn: 0.3648227\ttotal: 4.51s\tremaining: 82.7ms\n",
            "982:\tlearn: 0.3647796\ttotal: 4.52s\tremaining: 78.1ms\n",
            "983:\tlearn: 0.3646939\ttotal: 4.52s\tremaining: 73.5ms\n",
            "984:\tlearn: 0.3646910\ttotal: 4.53s\tremaining: 68.9ms\n",
            "985:\tlearn: 0.3646579\ttotal: 4.53s\tremaining: 64.3ms\n",
            "986:\tlearn: 0.3646558\ttotal: 4.53s\tremaining: 59.7ms\n",
            "987:\tlearn: 0.3646037\ttotal: 4.54s\tremaining: 55.1ms\n",
            "988:\tlearn: 0.3645982\ttotal: 4.54s\tremaining: 50.5ms\n",
            "989:\tlearn: 0.3644958\ttotal: 4.55s\tremaining: 45.9ms\n",
            "990:\tlearn: 0.3644677\ttotal: 4.55s\tremaining: 41.3ms\n",
            "991:\tlearn: 0.3644643\ttotal: 4.56s\tremaining: 36.7ms\n",
            "992:\tlearn: 0.3644578\ttotal: 4.56s\tremaining: 32.2ms\n",
            "993:\tlearn: 0.3644472\ttotal: 4.56s\tremaining: 27.6ms\n",
            "994:\tlearn: 0.3644152\ttotal: 4.57s\tremaining: 23ms\n",
            "995:\tlearn: 0.3643564\ttotal: 4.57s\tremaining: 18.4ms\n",
            "996:\tlearn: 0.3643512\ttotal: 4.58s\tremaining: 13.8ms\n",
            "997:\tlearn: 0.3643503\ttotal: 4.58s\tremaining: 9.18ms\n",
            "998:\tlearn: 0.3643493\ttotal: 4.59s\tremaining: 4.59ms\n",
            "999:\tlearn: 0.3643269\ttotal: 4.59s\tremaining: 0us\n"
          ]
        }
      ]
    },
    {
      "cell_type": "code",
      "metadata": {
        "colab": {
          "base_uri": "https://localhost:8080/"
        },
        "id": "qMfs5oCMQ_Ym",
        "outputId": "7d57217d-e778-407c-d418-d1e0e69ea781"
      },
      "source": [
        "print('Лучшее качество: ', 'train_roc-auc: ', roc_auc_score(y_train,y_train_pred),'test_roc-auc: ', roc_auc_score(y_test,y_test_pred))"
      ],
      "execution_count": 229,
      "outputs": [
        {
          "output_type": "stream",
          "name": "stdout",
          "text": [
            "Лучшее качество:  train_roc-auc:  0.8771843694047528 test_roc-auc:  0.8411677454153182\n"
          ]
        }
      ]
    },
    {
      "cell_type": "code",
      "metadata": {
        "colab": {
          "base_uri": "https://localhost:8080/"
        },
        "id": "HGaToEZzRpu7",
        "outputId": "da9caf7f-3363-4f4a-9e79-590f519369a7"
      },
      "source": [
        "print('Параметры модели: ', grid_cv['params'])"
      ],
      "execution_count": 230,
      "outputs": [
        {
          "output_type": "stream",
          "name": "stdout",
          "text": [
            "Параметры модели:  {'depth': 2, 'l2_leaf_reg': 5, 'learning_rate': 0.1}\n"
          ]
        }
      ]
    },
    {
      "cell_type": "markdown",
      "metadata": {
        "id": "rf4Kjt96EEZU"
      },
      "source": [
        "Выпишите какое лучшее качество и с какими параметрами вам удалось получить"
      ]
    },
    {
      "cell_type": "markdown",
      "metadata": {
        "id": "d2d9GolXEEZV"
      },
      "source": [
        ""
      ]
    },
    {
      "cell_type": "markdown",
      "metadata": {
        "id": "dDMXbvNZEEZV"
      },
      "source": [
        "# Предсказания"
      ]
    },
    {
      "cell_type": "code",
      "metadata": {
        "id": "G_P4wFNaEEZW"
      },
      "source": [
        "best_model = boost"
      ],
      "execution_count": 231,
      "outputs": []
    },
    {
      "cell_type": "code",
      "metadata": {
        "id": "FfSufx0CEEZZ"
      },
      "source": [
        "X_test = pd.read_csv('drive/MyDrive/temp/test.csv')\n",
        "submission = pd.read_csv('drive/MyDrive/temp/submission.csv')\n",
        "X_test = X_test.replace(' ', float('0'))\n",
        "X_test = X_test.replace('?', float('0'))\n",
        "X_test['TotalSpent'] = X_test['TotalSpent'].astype(float)\n",
        "submission['Churn'] = best_model.predict_proba(X_test)[:,1]\n",
        "submission.to_csv('drive/MyDrive/temp/my_submission.csv',\n",
        "                  index=False)"
      ],
      "execution_count": 237,
      "outputs": []
    },
    {
      "cell_type": "markdown",
      "metadata": {
        "id": "mkxjbGkVEEZc"
      },
      "source": [
        "# Kaggle (5 баллов)\n",
        "\n",
        "Как выставить баллы:\n",
        "\n",
        "1) 1 >= roc auc > 0.84 это 5 баллов\n",
        "\n",
        "2) 0.84 >= roc auc > 0.7 это 3 балла\n",
        "\n",
        "3) 0.7 >= roc auc > 0.6 это 1 балл\n",
        "\n",
        "4) 0.6 >= roc auc это 0 баллов\n",
        "\n",
        "\n",
        "Для выполнения задания необходимо выполнить следующие шаги.\n",
        "* Зарегистрироваться на платформе [kaggle.com](kaggle.com). Процесс выставления оценок будет проходить при подведении итогового рейтинга. Пожалуйста, укажите во вкладке Team -> Team name свои имя и фамилию в формате Имя_Фамилия (важно, чтобы имя и фамилия совпадали с данными на Stepik).\n",
        "* Обучить модель, получить файл с ответами в формате .csv и сдать его в конкурс. Пробуйте и экспериментируйте. Обратите внимание, что вы можете выполнять до 20 попыток сдачи на kaggle в день.\n",
        "* После окончания соревнования отправить в итоговый ноутбук с решением на степик. \n",
        "* После дедлайна проверьте посылки других участников по критериям. Для этого надо зайти на степик, скачать их ноутбук и проверить скор в соревновании."
      ]
    }
  ]
}