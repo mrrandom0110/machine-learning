{
  "nbformat": 4,
  "nbformat_minor": 0,
  "metadata": {
    "colab": {
      "name": "cifar10.ipynb",
      "provenance": [],
      "machine_shape": "hm"
    },
    "kernelspec": {
      "name": "python3",
      "display_name": "Python 3"
    },
    "language_info": {
      "name": "python"
    },
    "accelerator": "GPU",
    "widgets": {
      "application/vnd.jupyter.widget-state+json": {
        "77ad9834bd124d6ea56f0d5816db12c4": {
          "model_module": "@jupyter-widgets/controls",
          "model_name": "HBoxModel",
          "state": {
            "_view_name": "HBoxView",
            "_dom_classes": [],
            "_model_name": "HBoxModel",
            "_view_module": "@jupyter-widgets/controls",
            "_model_module_version": "1.5.0",
            "_view_count": null,
            "_view_module_version": "1.5.0",
            "box_style": "",
            "layout": "IPY_MODEL_d1f9309528f04f299f1950c696c6da7b",
            "_model_module": "@jupyter-widgets/controls",
            "children": [
              "IPY_MODEL_fdaa10ab6b2641bdadf45657c40061ef",
              "IPY_MODEL_fb2aa0be90c7416487591a6f690d18ce"
            ]
          },
          "model_module_version": "1.5.0"
        },
        "d1f9309528f04f299f1950c696c6da7b": {
          "model_module": "@jupyter-widgets/base",
          "model_name": "LayoutModel",
          "state": {
            "_view_name": "LayoutView",
            "grid_template_rows": null,
            "right": null,
            "justify_content": null,
            "_view_module": "@jupyter-widgets/base",
            "overflow": null,
            "_model_module_version": "1.2.0",
            "_view_count": null,
            "flex_flow": null,
            "width": null,
            "min_width": null,
            "border": null,
            "align_items": null,
            "bottom": null,
            "_model_module": "@jupyter-widgets/base",
            "top": null,
            "grid_column": null,
            "overflow_y": null,
            "overflow_x": null,
            "grid_auto_flow": null,
            "grid_area": null,
            "grid_template_columns": null,
            "flex": null,
            "_model_name": "LayoutModel",
            "justify_items": null,
            "grid_row": null,
            "max_height": null,
            "align_content": null,
            "visibility": null,
            "align_self": null,
            "height": null,
            "min_height": null,
            "padding": null,
            "grid_auto_rows": null,
            "grid_gap": null,
            "max_width": null,
            "order": null,
            "_view_module_version": "1.2.0",
            "grid_template_areas": null,
            "object_position": null,
            "object_fit": null,
            "grid_auto_columns": null,
            "margin": null,
            "display": null,
            "left": null
          },
          "model_module_version": "1.2.0"
        },
        "fdaa10ab6b2641bdadf45657c40061ef": {
          "model_module": "@jupyter-widgets/controls",
          "model_name": "FloatProgressModel",
          "state": {
            "_view_name": "ProgressView",
            "style": "IPY_MODEL_b9a0b917c6654e9aba74d8d0ed41656a",
            "_dom_classes": [],
            "description": "",
            "_model_name": "FloatProgressModel",
            "bar_style": "success",
            "max": 170498071,
            "_view_module": "@jupyter-widgets/controls",
            "_model_module_version": "1.5.0",
            "value": 170498071,
            "_view_count": null,
            "_view_module_version": "1.5.0",
            "orientation": "horizontal",
            "min": 0,
            "description_tooltip": null,
            "_model_module": "@jupyter-widgets/controls",
            "layout": "IPY_MODEL_d247bea480454974b7d3bc956ea6863b"
          },
          "model_module_version": "1.5.0"
        },
        "fb2aa0be90c7416487591a6f690d18ce": {
          "model_module": "@jupyter-widgets/controls",
          "model_name": "HTMLModel",
          "state": {
            "_view_name": "HTMLView",
            "style": "IPY_MODEL_2849e64b2e2b4eea844afe1a161351a9",
            "_dom_classes": [],
            "description": "",
            "_model_name": "HTMLModel",
            "placeholder": "​",
            "_view_module": "@jupyter-widgets/controls",
            "_model_module_version": "1.5.0",
            "value": " 170499072/? [00:19&lt;00:00, 8876105.86it/s]",
            "_view_count": null,
            "_view_module_version": "1.5.0",
            "description_tooltip": null,
            "_model_module": "@jupyter-widgets/controls",
            "layout": "IPY_MODEL_63a95d1afc2f4f548ffe576d06fa19fd"
          },
          "model_module_version": "1.5.0"
        },
        "b9a0b917c6654e9aba74d8d0ed41656a": {
          "model_module": "@jupyter-widgets/controls",
          "model_name": "ProgressStyleModel",
          "state": {
            "_view_name": "StyleView",
            "_model_name": "ProgressStyleModel",
            "description_width": "initial",
            "_view_module": "@jupyter-widgets/base",
            "_model_module_version": "1.5.0",
            "_view_count": null,
            "_view_module_version": "1.2.0",
            "bar_color": null,
            "_model_module": "@jupyter-widgets/controls"
          },
          "model_module_version": "1.5.0"
        },
        "d247bea480454974b7d3bc956ea6863b": {
          "model_module": "@jupyter-widgets/base",
          "model_name": "LayoutModel",
          "state": {
            "_view_name": "LayoutView",
            "grid_template_rows": null,
            "right": null,
            "justify_content": null,
            "_view_module": "@jupyter-widgets/base",
            "overflow": null,
            "_model_module_version": "1.2.0",
            "_view_count": null,
            "flex_flow": null,
            "width": null,
            "min_width": null,
            "border": null,
            "align_items": null,
            "bottom": null,
            "_model_module": "@jupyter-widgets/base",
            "top": null,
            "grid_column": null,
            "overflow_y": null,
            "overflow_x": null,
            "grid_auto_flow": null,
            "grid_area": null,
            "grid_template_columns": null,
            "flex": null,
            "_model_name": "LayoutModel",
            "justify_items": null,
            "grid_row": null,
            "max_height": null,
            "align_content": null,
            "visibility": null,
            "align_self": null,
            "height": null,
            "min_height": null,
            "padding": null,
            "grid_auto_rows": null,
            "grid_gap": null,
            "max_width": null,
            "order": null,
            "_view_module_version": "1.2.0",
            "grid_template_areas": null,
            "object_position": null,
            "object_fit": null,
            "grid_auto_columns": null,
            "margin": null,
            "display": null,
            "left": null
          },
          "model_module_version": "1.2.0"
        },
        "2849e64b2e2b4eea844afe1a161351a9": {
          "model_module": "@jupyter-widgets/controls",
          "model_name": "DescriptionStyleModel",
          "state": {
            "_view_name": "StyleView",
            "_model_name": "DescriptionStyleModel",
            "description_width": "",
            "_view_module": "@jupyter-widgets/base",
            "_model_module_version": "1.5.0",
            "_view_count": null,
            "_view_module_version": "1.2.0",
            "_model_module": "@jupyter-widgets/controls"
          },
          "model_module_version": "1.5.0"
        },
        "63a95d1afc2f4f548ffe576d06fa19fd": {
          "model_module": "@jupyter-widgets/base",
          "model_name": "LayoutModel",
          "state": {
            "_view_name": "LayoutView",
            "grid_template_rows": null,
            "right": null,
            "justify_content": null,
            "_view_module": "@jupyter-widgets/base",
            "overflow": null,
            "_model_module_version": "1.2.0",
            "_view_count": null,
            "flex_flow": null,
            "width": null,
            "min_width": null,
            "border": null,
            "align_items": null,
            "bottom": null,
            "_model_module": "@jupyter-widgets/base",
            "top": null,
            "grid_column": null,
            "overflow_y": null,
            "overflow_x": null,
            "grid_auto_flow": null,
            "grid_area": null,
            "grid_template_columns": null,
            "flex": null,
            "_model_name": "LayoutModel",
            "justify_items": null,
            "grid_row": null,
            "max_height": null,
            "align_content": null,
            "visibility": null,
            "align_self": null,
            "height": null,
            "min_height": null,
            "padding": null,
            "grid_auto_rows": null,
            "grid_gap": null,
            "max_width": null,
            "order": null,
            "_view_module_version": "1.2.0",
            "grid_template_areas": null,
            "object_position": null,
            "object_fit": null,
            "grid_auto_columns": null,
            "margin": null,
            "display": null,
            "left": null
          },
          "model_module_version": "1.2.0"
        }
      }
    }
  },
  "cells": [
    {
      "cell_type": "code",
      "metadata": {
        "id": "WOqDnXSeoogI"
      },
      "source": [
        "import torch\n",
        "import torch.nn as nn\n",
        "import numpy as np\n",
        "from torchvision import datasets\n",
        "from torch.utils.data import Dataset\n",
        "from torch.utils.data import DataLoader\n",
        "from torch.utils.data import ConcatDataset\n",
        "from matplotlib import pyplot as plt\n",
        "from torchvision import transforms\n",
        "from torch.optim import SGD, Adam"
      ],
      "execution_count": null,
      "outputs": []
    },
    {
      "cell_type": "code",
      "metadata": {
        "colab": {
          "base_uri": "https://localhost:8080/",
          "height": 116,
          "referenced_widgets": [
            "77ad9834bd124d6ea56f0d5816db12c4",
            "d1f9309528f04f299f1950c696c6da7b",
            "fdaa10ab6b2641bdadf45657c40061ef",
            "fb2aa0be90c7416487591a6f690d18ce",
            "b9a0b917c6654e9aba74d8d0ed41656a",
            "d247bea480454974b7d3bc956ea6863b",
            "2849e64b2e2b4eea844afe1a161351a9",
            "63a95d1afc2f4f548ffe576d06fa19fd"
          ]
        },
        "id": "YX-L5QGPpF0n",
        "outputId": "ef044c9f-22f2-410c-ef54-3aa8425efe91"
      },
      "source": [
        "train = datasets.CIFAR10('root',\n",
        "                         train=True,\n",
        "                         transform=transforms.ToTensor(),\n",
        "                         download = True,)\n",
        "test = datasets.CIFAR10('root',\n",
        "                        train=False,\n",
        "                        transform=transforms.ToTensor(),\n",
        "                        download=True)"
      ],
      "execution_count": null,
      "outputs": [
        {
          "output_type": "stream",
          "text": [
            "Downloading https://www.cs.toronto.edu/~kriz/cifar-10-python.tar.gz to root/cifar-10-python.tar.gz\n"
          ],
          "name": "stdout"
        },
        {
          "output_type": "display_data",
          "data": {
            "application/vnd.jupyter.widget-view+json": {
              "model_id": "77ad9834bd124d6ea56f0d5816db12c4",
              "version_minor": 0,
              "version_major": 2
            },
            "text/plain": [
              "HBox(children=(FloatProgress(value=0.0, max=170498071.0), HTML(value='')))"
            ]
          },
          "metadata": {
            "tags": []
          }
        },
        {
          "output_type": "stream",
          "text": [
            "\n",
            "Extracting root/cifar-10-python.tar.gz to root\n",
            "Files already downloaded and verified\n"
          ],
          "name": "stdout"
        }
      ]
    },
    {
      "cell_type": "code",
      "metadata": {
        "colab": {
          "base_uri": "https://localhost:8080/"
        },
        "id": "Bdc53czMo81y",
        "outputId": "a365a252-d48c-4baf-ea81-0ed4667a927c"
      },
      "source": [
        "train"
      ],
      "execution_count": null,
      "outputs": [
        {
          "output_type": "execute_result",
          "data": {
            "text/plain": [
              "Dataset CIFAR10\n",
              "    Number of datapoints: 50000\n",
              "    Root location: root\n",
              "    Split: Train\n",
              "    StandardTransform\n",
              "Transform: ToTensor()"
            ]
          },
          "metadata": {
            "tags": []
          },
          "execution_count": 3
        }
      ]
    },
    {
      "cell_type": "code",
      "metadata": {
        "id": "hlkMhSp4qyoO"
      },
      "source": [
        "transform = transforms.Compose([\n",
        "                                transforms.Resize((32,32)),\n",
        "                                transforms.ColorJitter(brightness=[0.2,0.5],saturation=0.5),\n",
        "                                transforms.RandomHorizontalFlip(p=0.45),\n",
        "                                transforms.RandomVerticalFlip(p=0.55),\n",
        "                                transforms.RandomRotation(20),\n",
        "                                transforms.ToTensor(),\n",
        "])"
      ],
      "execution_count": null,
      "outputs": []
    },
    {
      "cell_type": "code",
      "metadata": {
        "colab": {
          "base_uri": "https://localhost:8080/"
        },
        "id": "L4w57dnEp5Of",
        "outputId": "f8901ca2-3654-44e9-ff7c-ebc50edac483"
      },
      "source": [
        "train_augmentation = datasets.CIFAR10('root',\n",
        "                                      train=True,\n",
        "                                      transform = transform,\n",
        "                                      download = True)"
      ],
      "execution_count": null,
      "outputs": [
        {
          "output_type": "stream",
          "text": [
            "Files already downloaded and verified\n"
          ],
          "name": "stdout"
        }
      ]
    },
    {
      "cell_type": "code",
      "metadata": {
        "id": "55UR2pJyshTV"
      },
      "source": [
        "x,_ = train[0]"
      ],
      "execution_count": null,
      "outputs": []
    },
    {
      "cell_type": "code",
      "metadata": {
        "id": "adgOra2YskGK"
      },
      "source": [
        "y,_ = train_augmentation[0]"
      ],
      "execution_count": null,
      "outputs": []
    },
    {
      "cell_type": "code",
      "metadata": {
        "colab": {
          "base_uri": "https://localhost:8080/"
        },
        "id": "H4JZm0jFsoAH",
        "outputId": "73b8900f-9de3-40d3-9ced-a739d9b65231"
      },
      "source": [
        "x.shape,y.shape"
      ],
      "execution_count": null,
      "outputs": [
        {
          "output_type": "execute_result",
          "data": {
            "text/plain": [
              "(torch.Size([3, 32, 32]), torch.Size([3, 32, 32]))"
            ]
          },
          "metadata": {
            "tags": []
          },
          "execution_count": 8
        }
      ]
    },
    {
      "cell_type": "code",
      "metadata": {
        "colab": {
          "base_uri": "https://localhost:8080/",
          "height": 283
        },
        "id": "PKRFVxWzso6z",
        "outputId": "5d31e5f0-1526-4ed4-bd34-c3552bf85c2a"
      },
      "source": [
        "plt.imshow(x.permute(1,2,0))"
      ],
      "execution_count": null,
      "outputs": [
        {
          "output_type": "execute_result",
          "data": {
            "text/plain": [
              "<matplotlib.image.AxesImage at 0x7f5df4657c10>"
            ]
          },
          "metadata": {
            "tags": []
          },
          "execution_count": 9
        },
        {
          "output_type": "display_data",
          "data": {
            "image/png": "[encoded data removed]",
            "text/plain": [
              "<Figure size 432x288 with 1 Axes>"
            ]
          },
          "metadata": {
            "tags": [],
            "needs_background": "light"
          }
        }
      ]
    },
    {
      "cell_type": "code",
      "metadata": {
        "colab": {
          "base_uri": "https://localhost:8080/",
          "height": 283
        },
        "id": "sI3Z-H8GssRC",
        "outputId": "88273bd5-e2d4-470f-f680-9f0557bdc6aa"
      },
      "source": [
        "plt.imshow(y.permute(1,2,0))"
      ],
      "execution_count": null,
      "outputs": [
        {
          "output_type": "execute_result",
          "data": {
            "text/plain": [
              "<matplotlib.image.AxesImage at 0x7f5df3eb8c50>"
            ]
          },
          "metadata": {
            "tags": []
          },
          "execution_count": 10
        },
        {
          "output_type": "display_data",
          "data": {
            "image/png": "[encoded data removed]",
            "text/plain": [
              "<Figure size 432x288 with 1 Axes>"
            ]
          },
          "metadata": {
            "tags": [],
            "needs_background": "light"
          }
        }
      ]
    },
    {
      "cell_type": "code",
      "metadata": {
        "id": "W4EuyUnMsvI3"
      },
      "source": [
        "incr_train = ConcatDataset([train,train_augmentation])"
      ],
      "execution_count": null,
      "outputs": []
    },
    {
      "cell_type": "code",
      "metadata": {
        "id": "eR9zhmVftDJP"
      },
      "source": [
        "train_loader = DataLoader(incr_train,\n",
        "                          4,\n",
        "                          True,\n",
        ")"
      ],
      "execution_count": null,
      "outputs": []
    },
    {
      "cell_type": "code",
      "metadata": {
        "id": "whB8UMeetiqa"
      },
      "source": [
        "val_loader = DataLoader(test,\n",
        "                        4,\n",
        "                        True\n",
        ")"
      ],
      "execution_count": null,
      "outputs": []
    },
    {
      "cell_type": "code",
      "metadata": {
        "id": "EPqsQ7KVXfm2"
      },
      "source": [
        "model = nn.Sequential( \n",
        "nn.Conv2d(3,128,3,padding=1),\n",
        "nn.BatchNorm2d(128),\n",
        "nn.ReLU(),\n",
        "nn.Conv2d(128,128,3,padding=1),\n",
        "nn.BatchNorm2d(128),\n",
        "nn.ReLU(),\n",
        "nn.MaxPool2d(2,2),\n",
        "##nn.Dropout(p=0.3),\n",
        "\n",
        "nn.Conv2d(128,256,3,padding=1),\n",
        "nn.BatchNorm2d(256),\n",
        "nn.ReLU(),\n",
        "nn.Conv2d(256,256,3,padding=1),\n",
        "nn.BatchNorm2d(256),\n",
        "nn.ReLU(),\n",
        "nn.MaxPool2d(2,2),\n",
        "#nn.Dropout(p=0.3),\n",
        " \n",
        " \n",
        "nn.Conv2d(256,512,3,padding=1),\n",
        "nn.BatchNorm2d(512),\n",
        "nn.ReLU(),\n",
        "nn.Conv2d(512,512,3,padding=1),\n",
        "nn.BatchNorm2d(512),\n",
        "nn.ReLU(),\n",
        "nn.MaxPool2d(2,2),\n",
        "#nn.Dropout(p=0.3),\n",
        " \n",
        "nn.Flatten(),\n",
        "nn.Linear(512*4*4,256),\n",
        "nn.BatchNorm1d(256),\n",
        "nn.ReLU(),\n",
        "nn.Linear(256,128),\n",
        "nn.BatchNorm1d(128),\n",
        "nn.ReLU(),\n",
        "nn.Linear(128,10)\n",
        ").cuda()"
      ],
      "execution_count": null,
      "outputs": []
    },
    {
      "cell_type": "code",
      "metadata": {
        "id": "Cw63LyGmPeN5"
      },
      "source": [
        "from torch.optim import Adam"
      ],
      "execution_count": null,
      "outputs": []
    },
    {
      "cell_type": "code",
      "metadata": {
        "id": "MxYKN2u9yiLe"
      },
      "source": [
        "optimizer = Adam(model.parameters(),lr=0.001)\n",
        "criterion = nn.CrossEntropyLoss()"
      ],
      "execution_count": null,
      "outputs": []
    },
    {
      "cell_type": "code",
      "metadata": {
        "id": "iSk7n1r_ye2S"
      },
      "source": [
        "i = 0"
      ],
      "execution_count": null,
      "outputs": []
    },
    {
      "cell_type": "code",
      "metadata": {
        "colab": {
          "base_uri": "https://localhost:8080/"
        },
        "id": "QW5fVMd2ySvG",
        "outputId": "7f51d7fb-4278-40d1-c072-9b5b63a21937"
      },
      "source": [
        "for epoch in range(0,50):\n",
        "  running_loss = 0.0\n",
        "  for x_train, y_train in train_loader:\n",
        "    x_train = x_train.cuda()\n",
        "    y_train = y_train.cuda()\n",
        "    y_pred = model(x_train)\n",
        "    loss = criterion(y_pred,y_train)\n",
        "    loss.backward()\n",
        "    optimizer.step()\n",
        "    optimizer.zero_grad()\n",
        "    running_loss += loss.item()\n",
        "    #print(loss.item())\n",
        "    i = i+1\n",
        "    if (i % 2000 == 1999):\n",
        "      #print(running_loss)\n",
        "      print('[%d, %5d] loss: %.3f' %\n",
        "            (epoch+1,i+1,running_loss/2000))\n",
        "      running_loss = 0.0"
      ],
      "execution_count": null,
      "outputs": [
        {
          "output_type": "stream",
          "text": [
            "/usr/local/lib/python3.7/dist-packages/torch/nn/functional.py:718: UserWarning: Named tensors and all their associated APIs are an experimental feature and subject to change. Please do not use them for anything important until they are released as stable. (Triggered internally at  /pytorch/c10/core/TensorImpl.h:1156.)\n",
            "  return torch.max_pool2d(input, kernel_size, stride, padding, dilation, ceil_mode)\n"
          ],
          "name": "stderr"
        },
        {
          "output_type": "stream",
          "text": [
            "[1,  2000] loss: 2.270\n",
            "[1,  4000] loss: 2.172\n",
            "[1,  6000] loss: 2.063\n",
            "[1,  8000] loss: 1.973\n",
            "[1, 10000] loss: 1.935\n",
            "[1, 12000] loss: 1.866\n",
            "[1, 14000] loss: 1.784\n",
            "[1, 16000] loss: 1.767\n",
            "[1, 18000] loss: 1.727\n",
            "[1, 20000] loss: 1.697\n",
            "[1, 22000] loss: 1.641\n",
            "[1, 24000] loss: 1.636\n",
            "[2, 26000] loss: 0.792\n",
            "[2, 28000] loss: 1.523\n",
            "[2, 30000] loss: 1.515\n",
            "[2, 32000] loss: 1.513\n",
            "[2, 34000] loss: 1.473\n",
            "[2, 36000] loss: 1.462\n",
            "[2, 38000] loss: 1.456\n",
            "[2, 40000] loss: 1.417\n",
            "[2, 42000] loss: 1.403\n",
            "[2, 44000] loss: 1.397\n",
            "[2, 46000] loss: 1.387\n",
            "[2, 48000] loss: 1.370\n",
            "[2, 50000] loss: 1.342\n",
            "[3, 52000] loss: 1.332\n",
            "[3, 54000] loss: 1.298\n",
            "[3, 56000] loss: 1.300\n",
            "[3, 58000] loss: 1.261\n",
            "[3, 60000] loss: 1.269\n",
            "[3, 62000] loss: 1.242\n",
            "[3, 64000] loss: 1.221\n",
            "[3, 66000] loss: 1.235\n",
            "[3, 68000] loss: 1.205\n",
            "[3, 70000] loss: 1.215\n",
            "[3, 72000] loss: 1.205\n",
            "[3, 74000] loss: 1.213\n",
            "[4, 76000] loss: 0.581\n",
            "[4, 78000] loss: 1.154\n",
            "[4, 80000] loss: 1.132\n",
            "[4, 82000] loss: 1.128\n",
            "[4, 84000] loss: 1.105\n",
            "[4, 86000] loss: 1.119\n",
            "[4, 88000] loss: 1.125\n",
            "[4, 90000] loss: 1.109\n",
            "[4, 92000] loss: 1.113\n",
            "[4, 94000] loss: 1.093\n",
            "[4, 96000] loss: 1.103\n",
            "[4, 98000] loss: 1.093\n",
            "[4, 100000] loss: 1.077\n",
            "[5, 102000] loss: 1.029\n",
            "[5, 104000] loss: 1.066\n",
            "[5, 106000] loss: 1.039\n",
            "[5, 108000] loss: 1.033\n",
            "[5, 110000] loss: 1.006\n",
            "[5, 112000] loss: 1.007\n",
            "[5, 114000] loss: 0.999\n",
            "[5, 116000] loss: 1.026\n",
            "[5, 118000] loss: 1.001\n",
            "[5, 120000] loss: 0.976\n",
            "[5, 122000] loss: 1.007\n",
            "[5, 124000] loss: 0.977\n",
            "[6, 126000] loss: 0.474\n",
            "[6, 128000] loss: 0.944\n",
            "[6, 130000] loss: 0.959\n",
            "[6, 132000] loss: 0.965\n",
            "[6, 134000] loss: 0.926\n",
            "[6, 136000] loss: 0.939\n",
            "[6, 138000] loss: 0.919\n",
            "[6, 140000] loss: 0.922\n",
            "[6, 142000] loss: 0.928\n",
            "[6, 144000] loss: 0.906\n",
            "[6, 146000] loss: 0.902\n",
            "[6, 148000] loss: 0.903\n",
            "[6, 150000] loss: 0.924\n",
            "[7, 152000] loss: 0.856\n",
            "[7, 154000] loss: 0.873\n",
            "[7, 156000] loss: 0.847\n",
            "[7, 158000] loss: 0.867\n",
            "[7, 160000] loss: 0.857\n",
            "[7, 162000] loss: 0.863\n",
            "[7, 164000] loss: 0.857\n",
            "[7, 166000] loss: 0.887\n",
            "[7, 168000] loss: 0.851\n",
            "[7, 170000] loss: 0.833\n",
            "[7, 172000] loss: 0.864\n",
            "[7, 174000] loss: 0.839\n",
            "[8, 176000] loss: 0.391\n",
            "[8, 178000] loss: 0.837\n",
            "[8, 180000] loss: 0.807\n",
            "[8, 182000] loss: 0.815\n",
            "[8, 184000] loss: 0.834\n",
            "[8, 186000] loss: 0.816\n",
            "[8, 188000] loss: 0.785\n",
            "[8, 190000] loss: 0.788\n",
            "[8, 192000] loss: 0.791\n",
            "[8, 194000] loss: 0.811\n",
            "[8, 196000] loss: 0.791\n",
            "[8, 198000] loss: 0.781\n",
            "[8, 200000] loss: 0.807\n",
            "[9, 202000] loss: 0.736\n",
            "[9, 204000] loss: 0.749\n",
            "[9, 206000] loss: 0.728\n",
            "[9, 208000] loss: 0.773\n",
            "[9, 210000] loss: 0.763\n",
            "[9, 212000] loss: 0.746\n",
            "[9, 214000] loss: 0.745\n",
            "[9, 216000] loss: 0.751\n",
            "[9, 218000] loss: 0.771\n",
            "[9, 220000] loss: 0.750\n",
            "[9, 222000] loss: 0.733\n",
            "[9, 224000] loss: 0.743\n",
            "[10, 226000] loss: 0.360\n",
            "[10, 228000] loss: 0.713\n",
            "[10, 230000] loss: 0.722\n",
            "[10, 232000] loss: 0.713\n",
            "[10, 234000] loss: 0.714\n",
            "[10, 236000] loss: 0.685\n",
            "[10, 238000] loss: 0.708\n",
            "[10, 240000] loss: 0.705\n",
            "[10, 242000] loss: 0.740\n",
            "[10, 244000] loss: 0.709\n",
            "[10, 246000] loss: 0.702\n",
            "[10, 248000] loss: 0.709\n",
            "[10, 250000] loss: 0.708\n",
            "[11, 252000] loss: 0.657\n",
            "[11, 254000] loss: 0.659\n",
            "[11, 256000] loss: 0.654\n",
            "[11, 258000] loss: 0.663\n",
            "[11, 260000] loss: 0.661\n",
            "[11, 262000] loss: 0.698\n",
            "[11, 264000] loss: 0.657\n",
            "[11, 266000] loss: 0.652\n",
            "[11, 268000] loss: 0.677\n",
            "[11, 270000] loss: 0.663\n",
            "[11, 272000] loss: 0.670\n",
            "[11, 274000] loss: 0.666\n",
            "[12, 276000] loss: 0.314\n",
            "[12, 278000] loss: 0.619\n",
            "[12, 280000] loss: 0.627\n",
            "[12, 282000] loss: 0.628\n",
            "[12, 284000] loss: 0.645\n",
            "[12, 286000] loss: 0.629\n",
            "[12, 288000] loss: 0.631\n",
            "[12, 290000] loss: 0.627\n",
            "[12, 292000] loss: 0.637\n",
            "[12, 294000] loss: 0.624\n",
            "[12, 296000] loss: 0.625\n",
            "[12, 298000] loss: 0.636\n",
            "[12, 300000] loss: 0.617\n",
            "[13, 302000] loss: 0.593\n",
            "[13, 304000] loss: 0.600\n",
            "[13, 306000] loss: 0.598\n",
            "[13, 308000] loss: 0.595\n",
            "[13, 310000] loss: 0.584\n",
            "[13, 312000] loss: 0.632\n",
            "[13, 314000] loss: 0.607\n",
            "[13, 316000] loss: 0.604\n",
            "[13, 318000] loss: 0.619\n",
            "[13, 320000] loss: 0.588\n",
            "[13, 322000] loss: 0.589\n",
            "[13, 324000] loss: 0.619\n",
            "[14, 326000] loss: 0.290\n",
            "[14, 328000] loss: 0.579\n",
            "[14, 330000] loss: 0.578\n",
            "[14, 332000] loss: 0.580\n",
            "[14, 334000] loss: 0.599\n",
            "[14, 336000] loss: 0.583\n",
            "[14, 338000] loss: 0.586\n",
            "[14, 340000] loss: 0.565\n",
            "[14, 342000] loss: 0.579\n",
            "[14, 344000] loss: 0.566\n",
            "[14, 346000] loss: 0.595\n",
            "[14, 348000] loss: 0.554\n",
            "[14, 350000] loss: 0.592\n",
            "[15, 352000] loss: 0.525\n",
            "[15, 354000] loss: 0.530\n",
            "[15, 356000] loss: 0.543\n",
            "[15, 358000] loss: 0.571\n",
            "[15, 360000] loss: 0.559\n",
            "[15, 362000] loss: 0.574\n",
            "[15, 364000] loss: 0.575\n",
            "[15, 366000] loss: 0.568\n",
            "[15, 368000] loss: 0.561\n",
            "[15, 370000] loss: 0.547\n",
            "[15, 372000] loss: 0.568\n",
            "[15, 374000] loss: 0.545\n",
            "[16, 376000] loss: 0.262\n",
            "[16, 378000] loss: 0.537\n",
            "[16, 380000] loss: 0.527\n",
            "[16, 382000] loss: 0.536\n",
            "[16, 384000] loss: 0.565\n",
            "[16, 386000] loss: 0.529\n",
            "[16, 388000] loss: 0.542\n",
            "[16, 390000] loss: 0.528\n",
            "[16, 392000] loss: 0.544\n",
            "[16, 394000] loss: 0.507\n",
            "[16, 396000] loss: 0.535\n",
            "[16, 398000] loss: 0.535\n",
            "[16, 400000] loss: 0.542\n",
            "[17, 402000] loss: 0.510\n",
            "[17, 404000] loss: 0.519\n",
            "[17, 406000] loss: 0.536\n",
            "[17, 408000] loss: 0.524\n",
            "[17, 410000] loss: 0.525\n",
            "[17, 412000] loss: 0.492\n",
            "[17, 414000] loss: 0.537\n",
            "[17, 416000] loss: 0.519\n",
            "[17, 418000] loss: 0.527\n",
            "[17, 420000] loss: 0.492\n",
            "[17, 422000] loss: 0.524\n",
            "[17, 424000] loss: 0.520\n",
            "[18, 426000] loss: 0.251\n",
            "[18, 428000] loss: 0.496\n",
            "[18, 430000] loss: 0.486\n",
            "[18, 432000] loss: 0.488\n",
            "[18, 434000] loss: 0.522\n",
            "[18, 436000] loss: 0.515\n",
            "[18, 438000] loss: 0.510\n",
            "[18, 440000] loss: 0.498\n",
            "[18, 442000] loss: 0.499\n",
            "[18, 444000] loss: 0.489\n",
            "[18, 446000] loss: 0.495\n",
            "[18, 448000] loss: 0.510\n",
            "[18, 450000] loss: 0.505\n",
            "[19, 452000] loss: 0.494\n",
            "[19, 454000] loss: 0.470\n",
            "[19, 456000] loss: 0.466\n",
            "[19, 458000] loss: 0.462\n",
            "[19, 460000] loss: 0.471\n",
            "[19, 462000] loss: 0.486\n",
            "[19, 464000] loss: 0.495\n",
            "[19, 466000] loss: 0.499\n",
            "[19, 468000] loss: 0.501\n",
            "[19, 470000] loss: 0.495\n",
            "[19, 472000] loss: 0.477\n",
            "[19, 474000] loss: 0.485\n",
            "[20, 476000] loss: 0.226\n",
            "[20, 478000] loss: 0.447\n",
            "[20, 480000] loss: 0.466\n",
            "[20, 482000] loss: 0.481\n",
            "[20, 484000] loss: 0.473\n",
            "[20, 486000] loss: 0.470\n",
            "[20, 488000] loss: 0.479\n",
            "[20, 490000] loss: 0.462\n",
            "[20, 492000] loss: 0.463\n",
            "[20, 494000] loss: 0.473\n",
            "[20, 496000] loss: 0.472\n",
            "[20, 498000] loss: 0.472\n",
            "[20, 500000] loss: 0.463\n",
            "[21, 502000] loss: 0.460\n",
            "[21, 504000] loss: 0.466\n",
            "[21, 506000] loss: 0.448\n",
            "[21, 508000] loss: 0.470\n",
            "[21, 510000] loss: 0.458\n",
            "[21, 512000] loss: 0.438\n",
            "[21, 514000] loss: 0.470\n",
            "[21, 516000] loss: 0.465\n",
            "[21, 518000] loss: 0.464\n",
            "[21, 520000] loss: 0.471\n",
            "[21, 522000] loss: 0.488\n",
            "[21, 524000] loss: 0.450\n",
            "[22, 526000] loss: 0.206\n",
            "[22, 528000] loss: 0.440\n",
            "[22, 530000] loss: 0.428\n",
            "[22, 532000] loss: 0.457\n",
            "[22, 534000] loss: 0.444\n",
            "[22, 536000] loss: 0.435\n",
            "[22, 538000] loss: 0.450\n",
            "[22, 540000] loss: 0.471\n",
            "[22, 542000] loss: 0.448\n",
            "[22, 544000] loss: 0.451\n",
            "[22, 546000] loss: 0.466\n",
            "[22, 548000] loss: 0.451\n",
            "[22, 550000] loss: 0.450\n",
            "[23, 552000] loss: 0.433\n",
            "[23, 554000] loss: 0.435\n",
            "[23, 556000] loss: 0.439\n",
            "[23, 558000] loss: 0.415\n",
            "[23, 560000] loss: 0.422\n",
            "[23, 562000] loss: 0.424\n",
            "[23, 564000] loss: 0.449\n",
            "[23, 566000] loss: 0.437\n",
            "[23, 568000] loss: 0.448\n",
            "[23, 570000] loss: 0.465\n",
            "[23, 572000] loss: 0.469\n",
            "[23, 574000] loss: 0.435\n",
            "[24, 576000] loss: 0.206\n",
            "[24, 578000] loss: 0.429\n",
            "[24, 580000] loss: 0.426\n",
            "[24, 582000] loss: 0.422\n",
            "[24, 584000] loss: 0.431\n",
            "[24, 586000] loss: 0.442\n",
            "[24, 588000] loss: 0.434\n",
            "[24, 590000] loss: 0.410\n",
            "[24, 592000] loss: 0.420\n",
            "[24, 594000] loss: 0.431\n",
            "[24, 596000] loss: 0.430\n",
            "[24, 598000] loss: 0.457\n",
            "[24, 600000] loss: 0.423\n",
            "[25, 602000] loss: 0.428\n",
            "[25, 604000] loss: 0.405\n",
            "[25, 606000] loss: 0.422\n",
            "[25, 608000] loss: 0.430\n",
            "[25, 610000] loss: 0.414\n",
            "[25, 612000] loss: 0.439\n",
            "[25, 614000] loss: 0.423\n",
            "[25, 616000] loss: 0.400\n",
            "[25, 618000] loss: 0.421\n",
            "[25, 620000] loss: 0.416\n",
            "[25, 622000] loss: 0.423\n",
            "[25, 624000] loss: 0.410\n",
            "[26, 626000] loss: 0.199\n",
            "[26, 628000] loss: 0.440\n",
            "[26, 630000] loss: 0.402\n",
            "[26, 632000] loss: 0.412\n",
            "[26, 634000] loss: 0.414\n",
            "[26, 636000] loss: 0.404\n",
            "[26, 638000] loss: 0.391\n",
            "[26, 640000] loss: 0.423\n",
            "[26, 642000] loss: 0.417\n",
            "[26, 644000] loss: 0.398\n",
            "[26, 646000] loss: 0.418\n",
            "[26, 648000] loss: 0.406\n",
            "[26, 650000] loss: 0.420\n",
            "[27, 652000] loss: 0.384\n",
            "[27, 654000] loss: 0.387\n",
            "[27, 656000] loss: 0.404\n",
            "[27, 658000] loss: 0.403\n",
            "[27, 660000] loss: 0.407\n",
            "[27, 662000] loss: 0.430\n",
            "[27, 664000] loss: 0.426\n",
            "[27, 666000] loss: 0.410\n",
            "[27, 668000] loss: 0.404\n",
            "[27, 670000] loss: 0.389\n",
            "[27, 672000] loss: 0.406\n",
            "[27, 674000] loss: 0.432\n",
            "[28, 676000] loss: 0.197\n",
            "[28, 678000] loss: 0.395\n",
            "[28, 680000] loss: 0.370\n",
            "[28, 682000] loss: 0.392\n",
            "[28, 684000] loss: 0.397\n",
            "[28, 686000] loss: 0.389\n",
            "[28, 688000] loss: 0.389\n",
            "[28, 690000] loss: 0.386\n",
            "[28, 692000] loss: 0.416\n",
            "[28, 694000] loss: 0.377\n",
            "[28, 696000] loss: 0.393\n",
            "[28, 698000] loss: 0.387\n",
            "[28, 700000] loss: 0.397\n",
            "[29, 702000] loss: 0.361\n",
            "[29, 704000] loss: 0.385\n",
            "[29, 706000] loss: 0.399\n",
            "[29, 708000] loss: 0.393\n",
            "[29, 710000] loss: 0.388\n",
            "[29, 712000] loss: 0.398\n",
            "[29, 714000] loss: 0.360\n",
            "[29, 716000] loss: 0.377\n",
            "[29, 718000] loss: 0.381\n",
            "[29, 720000] loss: 0.381\n",
            "[29, 722000] loss: 0.402\n",
            "[29, 724000] loss: 0.383\n",
            "[30, 726000] loss: 0.202\n",
            "[30, 728000] loss: 0.364\n",
            "[30, 730000] loss: 0.382\n",
            "[30, 732000] loss: 0.367\n",
            "[30, 734000] loss: 0.381\n",
            "[30, 736000] loss: 0.389\n",
            "[30, 738000] loss: 0.377\n",
            "[30, 740000] loss: 0.404\n",
            "[30, 742000] loss: 0.368\n",
            "[30, 744000] loss: 0.380\n",
            "[30, 746000] loss: 0.377\n",
            "[30, 748000] loss: 0.394\n",
            "[30, 750000] loss: 0.373\n",
            "[31, 752000] loss: 0.376\n",
            "[31, 754000] loss: 0.366\n",
            "[31, 756000] loss: 0.359\n",
            "[31, 758000] loss: 0.370\n",
            "[31, 760000] loss: 0.376\n",
            "[31, 762000] loss: 0.372\n",
            "[31, 764000] loss: 0.384\n",
            "[31, 766000] loss: 0.358\n",
            "[31, 768000] loss: 0.362\n",
            "[31, 770000] loss: 0.369\n",
            "[31, 772000] loss: 0.387\n",
            "[31, 774000] loss: 0.378\n",
            "[32, 776000] loss: 0.172\n",
            "[32, 778000] loss: 0.344\n",
            "[32, 780000] loss: 0.366\n",
            "[32, 782000] loss: 0.359\n",
            "[32, 784000] loss: 0.346\n",
            "[32, 786000] loss: 0.373\n",
            "[32, 788000] loss: 0.368\n",
            "[32, 790000] loss: 0.349\n",
            "[32, 792000] loss: 0.380\n",
            "[32, 794000] loss: 0.370\n",
            "[32, 796000] loss: 0.375\n",
            "[32, 798000] loss: 0.375\n",
            "[32, 800000] loss: 0.380\n",
            "[33, 802000] loss: 0.337\n",
            "[33, 804000] loss: 0.366\n",
            "[33, 806000] loss: 0.361\n",
            "[33, 808000] loss: 0.370\n",
            "[33, 810000] loss: 0.353\n",
            "[33, 812000] loss: 0.370\n",
            "[33, 814000] loss: 0.368\n",
            "[33, 816000] loss: 0.361\n",
            "[33, 818000] loss: 0.355\n",
            "[33, 820000] loss: 0.364\n",
            "[33, 822000] loss: 0.375\n",
            "[33, 824000] loss: 0.371\n",
            "[34, 826000] loss: 0.165\n",
            "[34, 828000] loss: 0.347\n",
            "[34, 830000] loss: 0.343\n",
            "[34, 832000] loss: 0.349\n",
            "[34, 834000] loss: 0.370\n",
            "[34, 836000] loss: 0.353\n",
            "[34, 838000] loss: 0.355\n",
            "[34, 840000] loss: 0.358\n",
            "[34, 842000] loss: 0.354\n",
            "[34, 844000] loss: 0.356\n",
            "[34, 846000] loss: 0.354\n",
            "[34, 848000] loss: 0.364\n",
            "[34, 850000] loss: 0.357\n",
            "[35, 852000] loss: 0.339\n",
            "[35, 854000] loss: 0.341\n",
            "[35, 856000] loss: 0.338\n",
            "[35, 858000] loss: 0.338\n",
            "[35, 860000] loss: 0.367\n",
            "[35, 862000] loss: 0.356\n",
            "[35, 864000] loss: 0.330\n",
            "[35, 866000] loss: 0.362\n",
            "[35, 868000] loss: 0.358\n",
            "[35, 870000] loss: 0.337\n",
            "[35, 872000] loss: 0.338\n",
            "[35, 874000] loss: 0.358\n",
            "[36, 876000] loss: 0.171\n",
            "[36, 878000] loss: 0.338\n",
            "[36, 880000] loss: 0.349\n",
            "[36, 882000] loss: 0.327\n",
            "[36, 884000] loss: 0.342\n",
            "[36, 886000] loss: 0.345\n",
            "[36, 888000] loss: 0.333\n",
            "[36, 890000] loss: 0.343\n",
            "[36, 892000] loss: 0.355\n",
            "[36, 894000] loss: 0.371\n",
            "[36, 896000] loss: 0.364\n",
            "[36, 898000] loss: 0.333\n",
            "[36, 900000] loss: 0.336\n",
            "[37, 902000] loss: 0.333\n",
            "[37, 904000] loss: 0.332\n",
            "[37, 906000] loss: 0.326\n",
            "[37, 908000] loss: 0.339\n",
            "[37, 910000] loss: 0.337\n",
            "[37, 912000] loss: 0.327\n",
            "[37, 914000] loss: 0.346\n",
            "[37, 916000] loss: 0.341\n",
            "[37, 918000] loss: 0.364\n",
            "[37, 920000] loss: 0.358\n",
            "[37, 922000] loss: 0.345\n",
            "[37, 924000] loss: 0.345\n",
            "[38, 926000] loss: 0.168\n",
            "[38, 928000] loss: 0.347\n",
            "[38, 930000] loss: 0.337\n",
            "[38, 932000] loss: 0.329\n",
            "[38, 934000] loss: 0.345\n",
            "[38, 936000] loss: 0.316\n",
            "[38, 938000] loss: 0.326\n",
            "[38, 940000] loss: 0.334\n",
            "[38, 942000] loss: 0.343\n",
            "[38, 944000] loss: 0.348\n",
            "[38, 946000] loss: 0.350\n",
            "[38, 948000] loss: 0.359\n",
            "[38, 950000] loss: 0.339\n",
            "[39, 952000] loss: 0.333\n",
            "[39, 954000] loss: 0.315\n",
            "[39, 956000] loss: 0.322\n",
            "[39, 958000] loss: 0.345\n",
            "[39, 960000] loss: 0.321\n",
            "[39, 962000] loss: 0.336\n",
            "[39, 964000] loss: 0.345\n",
            "[39, 966000] loss: 0.335\n",
            "[39, 968000] loss: 0.339\n",
            "[39, 970000] loss: 0.339\n",
            "[39, 972000] loss: 0.324\n",
            "[39, 974000] loss: 0.323\n",
            "[40, 976000] loss: 0.170\n",
            "[40, 978000] loss: 0.299\n",
            "[40, 980000] loss: 0.329\n",
            "[40, 982000] loss: 0.314\n",
            "[40, 984000] loss: 0.327\n",
            "[40, 986000] loss: 0.315\n",
            "[40, 988000] loss: 0.328\n",
            "[40, 990000] loss: 0.338\n",
            "[40, 992000] loss: 0.327\n",
            "[40, 994000] loss: 0.322\n",
            "[40, 996000] loss: 0.334\n",
            "[40, 998000] loss: 0.334\n",
            "[40, 1000000] loss: 0.328\n",
            "[41, 1002000] loss: 0.308\n",
            "[41, 1004000] loss: 0.322\n",
            "[41, 1006000] loss: 0.320\n",
            "[41, 1008000] loss: 0.321\n",
            "[41, 1010000] loss: 0.328\n",
            "[41, 1012000] loss: 0.326\n",
            "[41, 1014000] loss: 0.338\n",
            "[41, 1016000] loss: 0.316\n",
            "[41, 1018000] loss: 0.326\n",
            "[41, 1020000] loss: 0.326\n",
            "[41, 1022000] loss: 0.335\n",
            "[41, 1024000] loss: 0.333\n",
            "[42, 1026000] loss: 0.161\n",
            "[42, 1028000] loss: 0.319\n",
            "[42, 1030000] loss: 0.333\n",
            "[42, 1032000] loss: 0.317\n",
            "[42, 1034000] loss: 0.311\n",
            "[42, 1036000] loss: 0.331\n",
            "[42, 1038000] loss: 0.318\n",
            "[42, 1040000] loss: 0.305\n",
            "[42, 1042000] loss: 0.309\n",
            "[42, 1044000] loss: 0.305\n",
            "[42, 1046000] loss: 0.327\n",
            "[42, 1048000] loss: 0.292\n",
            "[42, 1050000] loss: 0.321\n",
            "[43, 1052000] loss: 0.321\n",
            "[43, 1054000] loss: 0.310\n",
            "[43, 1056000] loss: 0.311\n",
            "[43, 1058000] loss: 0.316\n",
            "[43, 1060000] loss: 0.310\n",
            "[43, 1062000] loss: 0.318\n",
            "[43, 1064000] loss: 0.306\n",
            "[43, 1066000] loss: 0.308\n",
            "[43, 1068000] loss: 0.315\n",
            "[43, 1070000] loss: 0.322\n",
            "[43, 1072000] loss: 0.310\n",
            "[43, 1074000] loss: 0.317\n",
            "[44, 1076000] loss: 0.151\n",
            "[44, 1078000] loss: 0.312\n",
            "[44, 1080000] loss: 0.322\n",
            "[44, 1082000] loss: 0.306\n",
            "[44, 1084000] loss: 0.315\n",
            "[44, 1086000] loss: 0.306\n",
            "[44, 1088000] loss: 0.332\n",
            "[44, 1090000] loss: 0.308\n",
            "[44, 1092000] loss: 0.322\n",
            "[44, 1094000] loss: 0.308\n",
            "[44, 1096000] loss: 0.337\n",
            "[44, 1098000] loss: 0.303\n",
            "[44, 1100000] loss: 0.313\n",
            "[45, 1102000] loss: 0.301\n",
            "[45, 1104000] loss: 0.318\n",
            "[45, 1106000] loss: 0.301\n",
            "[45, 1108000] loss: 0.307\n",
            "[45, 1110000] loss: 0.305\n",
            "[45, 1112000] loss: 0.301\n",
            "[45, 1114000] loss: 0.312\n",
            "[45, 1116000] loss: 0.306\n",
            "[45, 1118000] loss: 0.310\n",
            "[45, 1120000] loss: 0.315\n",
            "[45, 1122000] loss: 0.310\n",
            "[45, 1124000] loss: 0.318\n",
            "[46, 1126000] loss: 0.154\n",
            "[46, 1128000] loss: 0.294\n",
            "[46, 1130000] loss: 0.308\n",
            "[46, 1132000] loss: 0.303\n",
            "[46, 1134000] loss: 0.320\n",
            "[46, 1136000] loss: 0.295\n",
            "[46, 1138000] loss: 0.298\n",
            "[46, 1140000] loss: 0.295\n",
            "[46, 1142000] loss: 0.312\n",
            "[46, 1144000] loss: 0.293\n",
            "[46, 1146000] loss: 0.305\n",
            "[46, 1148000] loss: 0.325\n",
            "[46, 1150000] loss: 0.305\n",
            "[47, 1152000] loss: 0.291\n",
            "[47, 1154000] loss: 0.302\n",
            "[47, 1156000] loss: 0.289\n",
            "[47, 1158000] loss: 0.322\n",
            "[47, 1160000] loss: 0.291\n",
            "[47, 1162000] loss: 0.292\n",
            "[47, 1164000] loss: 0.314\n",
            "[47, 1166000] loss: 0.320\n",
            "[47, 1168000] loss: 0.311\n",
            "[47, 1170000] loss: 0.314\n",
            "[47, 1172000] loss: 0.305\n",
            "[47, 1174000] loss: 0.300\n",
            "[48, 1176000] loss: 0.146\n",
            "[48, 1178000] loss: 0.294\n",
            "[48, 1180000] loss: 0.284\n",
            "[48, 1182000] loss: 0.302\n",
            "[48, 1184000] loss: 0.290\n",
            "[48, 1186000] loss: 0.283\n",
            "[48, 1188000] loss: 0.304\n",
            "[48, 1190000] loss: 0.300\n",
            "[48, 1192000] loss: 0.307\n",
            "[48, 1194000] loss: 0.294\n",
            "[48, 1196000] loss: 0.301\n",
            "[48, 1198000] loss: 0.305\n",
            "[48, 1200000] loss: 0.286\n",
            "[49, 1202000] loss: 0.286\n",
            "[49, 1204000] loss: 0.273\n",
            "[49, 1206000] loss: 0.286\n",
            "[49, 1208000] loss: 0.290\n",
            "[49, 1210000] loss: 0.293\n",
            "[49, 1212000] loss: 0.300\n",
            "[49, 1214000] loss: 0.277\n",
            "[49, 1216000] loss: 0.305\n",
            "[49, 1218000] loss: 0.308\n",
            "[49, 1220000] loss: 0.288\n",
            "[49, 1222000] loss: 0.326\n",
            "[49, 1224000] loss: 0.293\n",
            "[50, 1226000] loss: 0.155\n",
            "[50, 1228000] loss: 0.322\n",
            "[50, 1230000] loss: 0.286\n",
            "[50, 1232000] loss: 0.268\n",
            "[50, 1234000] loss: 0.307\n",
            "[50, 1236000] loss: 0.295\n",
            "[50, 1238000] loss: 0.301\n",
            "[50, 1240000] loss: 0.291\n",
            "[50, 1242000] loss: 0.297\n",
            "[50, 1244000] loss: 0.287\n",
            "[50, 1246000] loss: 0.297\n",
            "[50, 1248000] loss: 0.290\n",
            "[50, 1250000] loss: 0.293\n"
          ],
          "name": "stdout"
        }
      ]
    },
    {
      "cell_type": "code",
      "metadata": {
        "id": "UaQuvrll_IPp"
      },
      "source": [
        "total = 0\n",
        "correct = 0"
      ],
      "execution_count": null,
      "outputs": []
    },
    {
      "cell_type": "code",
      "metadata": {
        "colab": {
          "base_uri": "https://localhost:8080/"
        },
        "id": "8hvtU18Xyy3j",
        "outputId": "1a97da85-654c-4a39-bbfe-21dbb3afc55d"
      },
      "source": [
        "with torch.no_grad():\n",
        "  for x_val, y_val in val_loader:\n",
        "    x_val = x_val.cuda()\n",
        "    y_val = y_val.cuda()\n",
        "    outputs = model(x_val)\n",
        "    _,y_pred = torch.max(outputs,1)\n",
        "    total += y_val.size(0)\n",
        "    correct += (y_pred == y_val).sum().item()\n",
        "print('Доля верных ответов на тестовых данных: %d %%' % (\n",
        "    100 * correct / total))"
      ],
      "execution_count": null,
      "outputs": [
        {
          "output_type": "stream",
          "text": [
            "Доля верных ответов на тестовых данных: 85 %\n"
          ],
          "name": "stdout"
        }
      ]
    },
    {
      "cell_type": "code",
      "metadata": {
        "id": "vLNPkq6E_G-p"
      },
      "source": [
        ""
      ],
      "execution_count": null,
      "outputs": []
    }
  ]
}